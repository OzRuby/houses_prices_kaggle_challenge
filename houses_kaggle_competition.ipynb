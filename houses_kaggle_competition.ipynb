{
 "cells": [
  {
   "cell_type": "code",
   "execution_count": 1,
   "metadata": {
    "ExecuteTime": {
     "end_time": "2021-02-03T08:28:54.927307Z",
     "start_time": "2021-02-03T08:28:52.939178Z"
    }
   },
   "outputs": [],
   "source": [
    "# Use this cell to regroup all your imports\n",
    "\n",
    "import pandas as pd\n",
    "import numpy as np\n",
    "import matplotlib.pyplot as plt\n",
    "import seaborn as sns\n",
    "sns.set_theme()\n",
    "from sklearn import set_config; set_config(display='diagram')"
   ]
  },
  {
   "cell_type": "markdown",
   "metadata": {},
   "source": [
    "# 🏆 Le Wagon Kaggle Batch Challenge"
   ]
  },
  {
   "cell_type": "markdown",
   "metadata": {},
   "source": [
    "<img src='https://github.com/lewagon/data-images/blob/master/ML/kaggle-batch-challenge.png?raw=true' width=600>"
   ]
  },
  {
   "cell_type": "markdown",
   "metadata": {},
   "source": [
    "🏆 Welcome to your first Kaggle competition!\n",
    "\n",
    "The objective is to **submit online an answer** to the open competition [House Prices - Advanced Regression Techniques](https://www.kaggle.com/c/house-prices-advanced-regression-techniques/data)\n",
    "\n",
    "\n",
    "- We will start off with a **baseline model**\n",
    "- After we will improve & refine our models\n",
    "- We will approach the problem through **pipelines** (the best practice to take!)\n",
    "\n",
    "A word on Kaggle:\n",
    "- Kaggle will rank my submission amongst all participants!\n",
    "- Everyone is publicly removed from the leaderboard after 2 months\n",
    "- You can make to 10 submissions per day"
   ]
  },
  {
   "cell_type": "markdown",
   "metadata": {},
   "source": [
    "🧹 Today is the perfect day to practice keeping your long notebook **tidy** 🧹\n",
    "- \"Collapse all headings\" from the \"command palette\" (Cmd + Shift + P)\n",
    "- Stay idempotent (restart & run all should never crash)\n",
    "- Name and delete variables carefully"
   ]
  },
  {
   "cell_type": "markdown",
   "metadata": {},
   "source": [
    "## Setup Kaggle\n",
    "\n",
    "👉 Create an account on Kaggle if you want to participate in the competition. \n",
    "\n",
    "👉 Join the [House Prices Challenge](https://www.kaggle.com/c/house-prices-advanced-regression-techniques/data) \n",
    "\n",
    "👉 Write down your Kaggle `username` the [result spreadsheet here](https://docs.google.com/spreadsheets/d/1ZEBKwa_k1Ytb0WCOh-Nopq3eaezwBNu1SAqKXEXRguc/edit#gid=0) (pick the correct batch!)\n",
    "\n",
    "**Your whole class will compete as a group against the team of TAs**"
   ]
  },
  {
   "cell_type": "markdown",
   "metadata": {},
   "source": [
    "## Load"
   ]
  },
  {
   "cell_type": "markdown",
   "metadata": {},
   "source": [
    "We have already downloaded for you everything from Kaggle into your current notebook folder:\n",
    "- `train.csv` is your (1460 * 81) training set containing `X` and `y`\n",
    "- `test.csv` is your (1459 * 80) testing set without the associated target `y` 😈\n",
    "- `sample_submission.csv` describing the format required to submit your answer\n",
    "- `data_description.txt` describing all columns\n",
    "\n",
    "Your goal is to predict the `y_pred` missing from your test set and submit it to discover your test_score & ranking"
   ]
  },
  {
   "cell_type": "markdown",
   "metadata": {},
   "source": [
    "❓ Load the train dataset in a DataFrame `data` and create your `X` and `y`. Inspect their shape"
   ]
  },
  {
   "cell_type": "code",
   "execution_count": 2,
   "metadata": {
    "ExecuteTime": {
     "end_time": "2021-02-03T08:28:55.731767Z",
     "start_time": "2021-02-03T08:28:55.316322Z"
    }
   },
   "outputs": [
    {
     "data": {
      "text/html": [
       "<div>\n",
       "<style scoped>\n",
       "    .dataframe tbody tr th:only-of-type {\n",
       "        vertical-align: middle;\n",
       "    }\n",
       "\n",
       "    .dataframe tbody tr th {\n",
       "        vertical-align: top;\n",
       "    }\n",
       "\n",
       "    .dataframe thead th {\n",
       "        text-align: right;\n",
       "    }\n",
       "</style>\n",
       "<table border=\"1\" class=\"dataframe\">\n",
       "  <thead>\n",
       "    <tr style=\"text-align: right;\">\n",
       "      <th></th>\n",
       "      <th>Id</th>\n",
       "      <th>MSSubClass</th>\n",
       "      <th>MSZoning</th>\n",
       "      <th>LotFrontage</th>\n",
       "      <th>LotArea</th>\n",
       "      <th>Street</th>\n",
       "      <th>Alley</th>\n",
       "      <th>LotShape</th>\n",
       "      <th>LandContour</th>\n",
       "      <th>Utilities</th>\n",
       "      <th>...</th>\n",
       "      <th>PoolArea</th>\n",
       "      <th>PoolQC</th>\n",
       "      <th>Fence</th>\n",
       "      <th>MiscFeature</th>\n",
       "      <th>MiscVal</th>\n",
       "      <th>MoSold</th>\n",
       "      <th>YrSold</th>\n",
       "      <th>SaleType</th>\n",
       "      <th>SaleCondition</th>\n",
       "      <th>SalePrice</th>\n",
       "    </tr>\n",
       "  </thead>\n",
       "  <tbody>\n",
       "    <tr>\n",
       "      <th>0</th>\n",
       "      <td>1</td>\n",
       "      <td>60</td>\n",
       "      <td>RL</td>\n",
       "      <td>65.0</td>\n",
       "      <td>8450</td>\n",
       "      <td>Pave</td>\n",
       "      <td>NaN</td>\n",
       "      <td>Reg</td>\n",
       "      <td>Lvl</td>\n",
       "      <td>AllPub</td>\n",
       "      <td>...</td>\n",
       "      <td>0</td>\n",
       "      <td>NaN</td>\n",
       "      <td>NaN</td>\n",
       "      <td>NaN</td>\n",
       "      <td>0</td>\n",
       "      <td>2</td>\n",
       "      <td>2008</td>\n",
       "      <td>WD</td>\n",
       "      <td>Normal</td>\n",
       "      <td>208500</td>\n",
       "    </tr>\n",
       "    <tr>\n",
       "      <th>1</th>\n",
       "      <td>2</td>\n",
       "      <td>20</td>\n",
       "      <td>RL</td>\n",
       "      <td>80.0</td>\n",
       "      <td>9600</td>\n",
       "      <td>Pave</td>\n",
       "      <td>NaN</td>\n",
       "      <td>Reg</td>\n",
       "      <td>Lvl</td>\n",
       "      <td>AllPub</td>\n",
       "      <td>...</td>\n",
       "      <td>0</td>\n",
       "      <td>NaN</td>\n",
       "      <td>NaN</td>\n",
       "      <td>NaN</td>\n",
       "      <td>0</td>\n",
       "      <td>5</td>\n",
       "      <td>2007</td>\n",
       "      <td>WD</td>\n",
       "      <td>Normal</td>\n",
       "      <td>181500</td>\n",
       "    </tr>\n",
       "    <tr>\n",
       "      <th>2</th>\n",
       "      <td>3</td>\n",
       "      <td>60</td>\n",
       "      <td>RL</td>\n",
       "      <td>68.0</td>\n",
       "      <td>11250</td>\n",
       "      <td>Pave</td>\n",
       "      <td>NaN</td>\n",
       "      <td>IR1</td>\n",
       "      <td>Lvl</td>\n",
       "      <td>AllPub</td>\n",
       "      <td>...</td>\n",
       "      <td>0</td>\n",
       "      <td>NaN</td>\n",
       "      <td>NaN</td>\n",
       "      <td>NaN</td>\n",
       "      <td>0</td>\n",
       "      <td>9</td>\n",
       "      <td>2008</td>\n",
       "      <td>WD</td>\n",
       "      <td>Normal</td>\n",
       "      <td>223500</td>\n",
       "    </tr>\n",
       "    <tr>\n",
       "      <th>3</th>\n",
       "      <td>4</td>\n",
       "      <td>70</td>\n",
       "      <td>RL</td>\n",
       "      <td>60.0</td>\n",
       "      <td>9550</td>\n",
       "      <td>Pave</td>\n",
       "      <td>NaN</td>\n",
       "      <td>IR1</td>\n",
       "      <td>Lvl</td>\n",
       "      <td>AllPub</td>\n",
       "      <td>...</td>\n",
       "      <td>0</td>\n",
       "      <td>NaN</td>\n",
       "      <td>NaN</td>\n",
       "      <td>NaN</td>\n",
       "      <td>0</td>\n",
       "      <td>2</td>\n",
       "      <td>2006</td>\n",
       "      <td>WD</td>\n",
       "      <td>Abnorml</td>\n",
       "      <td>140000</td>\n",
       "    </tr>\n",
       "    <tr>\n",
       "      <th>4</th>\n",
       "      <td>5</td>\n",
       "      <td>60</td>\n",
       "      <td>RL</td>\n",
       "      <td>84.0</td>\n",
       "      <td>14260</td>\n",
       "      <td>Pave</td>\n",
       "      <td>NaN</td>\n",
       "      <td>IR1</td>\n",
       "      <td>Lvl</td>\n",
       "      <td>AllPub</td>\n",
       "      <td>...</td>\n",
       "      <td>0</td>\n",
       "      <td>NaN</td>\n",
       "      <td>NaN</td>\n",
       "      <td>NaN</td>\n",
       "      <td>0</td>\n",
       "      <td>12</td>\n",
       "      <td>2008</td>\n",
       "      <td>WD</td>\n",
       "      <td>Normal</td>\n",
       "      <td>250000</td>\n",
       "    </tr>\n",
       "    <tr>\n",
       "      <th>...</th>\n",
       "      <td>...</td>\n",
       "      <td>...</td>\n",
       "      <td>...</td>\n",
       "      <td>...</td>\n",
       "      <td>...</td>\n",
       "      <td>...</td>\n",
       "      <td>...</td>\n",
       "      <td>...</td>\n",
       "      <td>...</td>\n",
       "      <td>...</td>\n",
       "      <td>...</td>\n",
       "      <td>...</td>\n",
       "      <td>...</td>\n",
       "      <td>...</td>\n",
       "      <td>...</td>\n",
       "      <td>...</td>\n",
       "      <td>...</td>\n",
       "      <td>...</td>\n",
       "      <td>...</td>\n",
       "      <td>...</td>\n",
       "      <td>...</td>\n",
       "    </tr>\n",
       "    <tr>\n",
       "      <th>1455</th>\n",
       "      <td>1456</td>\n",
       "      <td>60</td>\n",
       "      <td>RL</td>\n",
       "      <td>62.0</td>\n",
       "      <td>7917</td>\n",
       "      <td>Pave</td>\n",
       "      <td>NaN</td>\n",
       "      <td>Reg</td>\n",
       "      <td>Lvl</td>\n",
       "      <td>AllPub</td>\n",
       "      <td>...</td>\n",
       "      <td>0</td>\n",
       "      <td>NaN</td>\n",
       "      <td>NaN</td>\n",
       "      <td>NaN</td>\n",
       "      <td>0</td>\n",
       "      <td>8</td>\n",
       "      <td>2007</td>\n",
       "      <td>WD</td>\n",
       "      <td>Normal</td>\n",
       "      <td>175000</td>\n",
       "    </tr>\n",
       "    <tr>\n",
       "      <th>1456</th>\n",
       "      <td>1457</td>\n",
       "      <td>20</td>\n",
       "      <td>RL</td>\n",
       "      <td>85.0</td>\n",
       "      <td>13175</td>\n",
       "      <td>Pave</td>\n",
       "      <td>NaN</td>\n",
       "      <td>Reg</td>\n",
       "      <td>Lvl</td>\n",
       "      <td>AllPub</td>\n",
       "      <td>...</td>\n",
       "      <td>0</td>\n",
       "      <td>NaN</td>\n",
       "      <td>MnPrv</td>\n",
       "      <td>NaN</td>\n",
       "      <td>0</td>\n",
       "      <td>2</td>\n",
       "      <td>2010</td>\n",
       "      <td>WD</td>\n",
       "      <td>Normal</td>\n",
       "      <td>210000</td>\n",
       "    </tr>\n",
       "    <tr>\n",
       "      <th>1457</th>\n",
       "      <td>1458</td>\n",
       "      <td>70</td>\n",
       "      <td>RL</td>\n",
       "      <td>66.0</td>\n",
       "      <td>9042</td>\n",
       "      <td>Pave</td>\n",
       "      <td>NaN</td>\n",
       "      <td>Reg</td>\n",
       "      <td>Lvl</td>\n",
       "      <td>AllPub</td>\n",
       "      <td>...</td>\n",
       "      <td>0</td>\n",
       "      <td>NaN</td>\n",
       "      <td>GdPrv</td>\n",
       "      <td>Shed</td>\n",
       "      <td>2500</td>\n",
       "      <td>5</td>\n",
       "      <td>2010</td>\n",
       "      <td>WD</td>\n",
       "      <td>Normal</td>\n",
       "      <td>266500</td>\n",
       "    </tr>\n",
       "    <tr>\n",
       "      <th>1458</th>\n",
       "      <td>1459</td>\n",
       "      <td>20</td>\n",
       "      <td>RL</td>\n",
       "      <td>68.0</td>\n",
       "      <td>9717</td>\n",
       "      <td>Pave</td>\n",
       "      <td>NaN</td>\n",
       "      <td>Reg</td>\n",
       "      <td>Lvl</td>\n",
       "      <td>AllPub</td>\n",
       "      <td>...</td>\n",
       "      <td>0</td>\n",
       "      <td>NaN</td>\n",
       "      <td>NaN</td>\n",
       "      <td>NaN</td>\n",
       "      <td>0</td>\n",
       "      <td>4</td>\n",
       "      <td>2010</td>\n",
       "      <td>WD</td>\n",
       "      <td>Normal</td>\n",
       "      <td>142125</td>\n",
       "    </tr>\n",
       "    <tr>\n",
       "      <th>1459</th>\n",
       "      <td>1460</td>\n",
       "      <td>20</td>\n",
       "      <td>RL</td>\n",
       "      <td>75.0</td>\n",
       "      <td>9937</td>\n",
       "      <td>Pave</td>\n",
       "      <td>NaN</td>\n",
       "      <td>Reg</td>\n",
       "      <td>Lvl</td>\n",
       "      <td>AllPub</td>\n",
       "      <td>...</td>\n",
       "      <td>0</td>\n",
       "      <td>NaN</td>\n",
       "      <td>NaN</td>\n",
       "      <td>NaN</td>\n",
       "      <td>0</td>\n",
       "      <td>6</td>\n",
       "      <td>2008</td>\n",
       "      <td>WD</td>\n",
       "      <td>Normal</td>\n",
       "      <td>147500</td>\n",
       "    </tr>\n",
       "  </tbody>\n",
       "</table>\n",
       "<p>1460 rows × 81 columns</p>\n",
       "</div>"
      ],
      "text/plain": [
       "        Id  MSSubClass MSZoning  LotFrontage  LotArea Street Alley LotShape  \\\n",
       "0        1          60       RL         65.0     8450   Pave   NaN      Reg   \n",
       "1        2          20       RL         80.0     9600   Pave   NaN      Reg   \n",
       "2        3          60       RL         68.0    11250   Pave   NaN      IR1   \n",
       "3        4          70       RL         60.0     9550   Pave   NaN      IR1   \n",
       "4        5          60       RL         84.0    14260   Pave   NaN      IR1   \n",
       "...    ...         ...      ...          ...      ...    ...   ...      ...   \n",
       "1455  1456          60       RL         62.0     7917   Pave   NaN      Reg   \n",
       "1456  1457          20       RL         85.0    13175   Pave   NaN      Reg   \n",
       "1457  1458          70       RL         66.0     9042   Pave   NaN      Reg   \n",
       "1458  1459          20       RL         68.0     9717   Pave   NaN      Reg   \n",
       "1459  1460          20       RL         75.0     9937   Pave   NaN      Reg   \n",
       "\n",
       "     LandContour Utilities  ... PoolArea PoolQC  Fence MiscFeature MiscVal  \\\n",
       "0            Lvl    AllPub  ...        0    NaN    NaN         NaN       0   \n",
       "1            Lvl    AllPub  ...        0    NaN    NaN         NaN       0   \n",
       "2            Lvl    AllPub  ...        0    NaN    NaN         NaN       0   \n",
       "3            Lvl    AllPub  ...        0    NaN    NaN         NaN       0   \n",
       "4            Lvl    AllPub  ...        0    NaN    NaN         NaN       0   \n",
       "...          ...       ...  ...      ...    ...    ...         ...     ...   \n",
       "1455         Lvl    AllPub  ...        0    NaN    NaN         NaN       0   \n",
       "1456         Lvl    AllPub  ...        0    NaN  MnPrv         NaN       0   \n",
       "1457         Lvl    AllPub  ...        0    NaN  GdPrv        Shed    2500   \n",
       "1458         Lvl    AllPub  ...        0    NaN    NaN         NaN       0   \n",
       "1459         Lvl    AllPub  ...        0    NaN    NaN         NaN       0   \n",
       "\n",
       "     MoSold YrSold  SaleType  SaleCondition  SalePrice  \n",
       "0         2   2008        WD         Normal     208500  \n",
       "1         5   2007        WD         Normal     181500  \n",
       "2         9   2008        WD         Normal     223500  \n",
       "3         2   2006        WD        Abnorml     140000  \n",
       "4        12   2008        WD         Normal     250000  \n",
       "...     ...    ...       ...            ...        ...  \n",
       "1455      8   2007        WD         Normal     175000  \n",
       "1456      2   2010        WD         Normal     210000  \n",
       "1457      5   2010        WD         Normal     266500  \n",
       "1458      4   2010        WD         Normal     142125  \n",
       "1459      6   2008        WD         Normal     147500  \n",
       "\n",
       "[1460 rows x 81 columns]"
      ]
     },
     "execution_count": 2,
     "metadata": {},
     "output_type": "execute_result"
    }
   ],
   "source": [
    "# You can use this direct download link if you don't want to create a Kaggle account\n",
    "data = pd.read_csv(\"data/train.csv\")\n",
    "data"
   ]
  },
  {
   "cell_type": "code",
   "execution_count": 3,
   "metadata": {
    "ExecuteTime": {
     "end_time": "2021-02-03T08:28:56.210320Z",
     "start_time": "2021-02-03T08:28:56.204853Z"
    }
   },
   "outputs": [],
   "source": [
    "X = data.drop(columns=[\"SalePrice\", \"Id\"])\n",
    "y = data.SalePrice"
   ]
  },
  {
   "cell_type": "code",
   "execution_count": 4,
   "metadata": {},
   "outputs": [
    {
     "data": {
      "text/plain": [
       "(1460, 79)"
      ]
     },
     "execution_count": 4,
     "metadata": {},
     "output_type": "execute_result"
    }
   ],
   "source": [
    "X.shape"
   ]
  },
  {
   "cell_type": "markdown",
   "metadata": {},
   "source": [
    "# 🐣 1. BASELINE"
   ]
  },
  {
   "cell_type": "markdown",
   "metadata": {},
   "source": [
    "## 1.1 Initial feature overview"
   ]
  },
  {
   "cell_type": "markdown",
   "metadata": {},
   "source": [
    "80 features is too much to deal with one-by-one for a first baseline pipeline! Let's treat them solely based on their `dtype`:\n",
    "\n",
    "❓ How many numerical features vs. categorical features do we have? "
   ]
  },
  {
   "cell_type": "code",
   "execution_count": 5,
   "metadata": {
    "ExecuteTime": {
     "end_time": "2021-02-03T08:28:59.700769Z",
     "start_time": "2021-02-03T08:28:59.692442Z"
    },
    "scrolled": true
   },
   "outputs": [
    {
     "data": {
      "text/plain": [
       "MSSubClass         int64\n",
       "MSZoning          object\n",
       "LotFrontage      float64\n",
       "LotArea            int64\n",
       "Street            object\n",
       "                  ...   \n",
       "MiscVal            int64\n",
       "MoSold             int64\n",
       "YrSold             int64\n",
       "SaleType          object\n",
       "SaleCondition     object\n",
       "Length: 79, dtype: object"
      ]
     },
     "execution_count": 5,
     "metadata": {},
     "output_type": "execute_result"
    }
   ],
   "source": [
    "X.dtypes"
   ]
  },
  {
   "cell_type": "markdown",
   "metadata": {},
   "source": [
    "❓ Store the Series `feat_categorical_nunique` containing the number of **unique values** for each categorical feature in our training set. How many unique categories are there in total ?"
   ]
  },
  {
   "cell_type": "code",
   "execution_count": 6,
   "metadata": {
    "ExecuteTime": {
     "end_time": "2021-02-03T08:29:00.579358Z",
     "start_time": "2021-02-03T08:29:00.566973Z"
    }
   },
   "outputs": [],
   "source": [
    "feat_categorical_nunique = [X[col].nunique() for col in X.columns if X[col].dtypes == \"O\"]"
   ]
  },
  {
   "cell_type": "code",
   "execution_count": 7,
   "metadata": {},
   "outputs": [
    {
     "data": {
      "text/plain": [
       "MSSubClass         15\n",
       "MSZoning            5\n",
       "LotFrontage       110\n",
       "LotArea          1073\n",
       "Street              2\n",
       "                 ... \n",
       "MiscVal            21\n",
       "MoSold             12\n",
       "YrSold              5\n",
       "SaleType            9\n",
       "SaleCondition       6\n",
       "Length: 79, dtype: int64"
      ]
     },
     "execution_count": 7,
     "metadata": {},
     "output_type": "execute_result"
    }
   ],
   "source": [
    "X.nunique()"
   ]
  },
  {
   "cell_type": "code",
   "execution_count": 8,
   "metadata": {},
   "outputs": [
    {
     "data": {
      "text/plain": [
       "252"
      ]
     },
     "execution_count": 8,
     "metadata": {},
     "output_type": "execute_result"
    }
   ],
   "source": [
    "np.sum(feat_categorical_nunique)"
   ]
  },
  {
   "cell_type": "markdown",
   "metadata": {},
   "source": [
    "🤔 If we were to `OneHotEncode` all categorical features, our feature matrix `X_preproc` would become pretty big and spare, with almost 300 (highly correlated) features for only 1400 observations. Ideally, we should aim at feeding our model with ~50 features max (📚 Read this [rule of thumb](https://datascience.stackexchange.com/a/11480/98300))"
   ]
  },
  {
   "cell_type": "markdown",
   "metadata": {},
   "source": [
    "We know 2 main strategies to reduce the number of categorical features post-preprocessing:\n",
    "- **[Remove](https://scikit-learn.org/stable/modules/classes.html#module-sklearn.feature_selection)** features that bring too little explanation to our model. This may require statistical analysis of feature importance \n",
    "- **[Ordinally encode](https://scikit-learn.org/stable/modules/generated/sklearn.preprocessing.OrdinalEncoder.html)** (instead of one-hot-encode) categorical features into integers. However this forces a notion of \"order\" (1>2>3...) that can be detrimental if not set properly!"
   ]
  },
  {
   "cell_type": "markdown",
   "metadata": {},
   "source": [
    "❓ Plot the **histogram** of number of unique value per categorical feature. Do you see some quick wins?"
   ]
  },
  {
   "cell_type": "code",
   "execution_count": 9,
   "metadata": {
    "ExecuteTime": {
     "end_time": "2021-02-03T08:29:02.706410Z",
     "start_time": "2021-02-03T08:29:02.540040Z"
    }
   },
   "outputs": [
    {
     "data": {
      "text/plain": [
       "<AxesSubplot:ylabel='Count'>"
      ]
     },
     "execution_count": 9,
     "metadata": {},
     "output_type": "execute_result"
    },
    {
     "data": {
      "image/png": "[encoded data removed]",
      "text/plain": [
       "<Figure size 432x288 with 1 Axes>"
      ]
     },
     "metadata": {},
     "output_type": "display_data"
    }
   ],
   "source": [
    "sns.histplot(feat_categorical_nunique)"
   ]
  },
  {
   "cell_type": "markdown",
   "metadata": {},
   "source": [
    "💡 As a starter, what about simply **removing** all features that have **7 unique values or more**, and one-hot-encode every others? Let's keep ordinal encoding and statistical feature selection for the next iteration of our pipeline.\n",
    "\n",
    "❓ Store features names to OHE in a list `feat_categorical_small` below. How many features will be OHE?"
   ]
  },
  {
   "cell_type": "code",
   "execution_count": 10,
   "metadata": {
    "ExecuteTime": {
     "end_time": "2021-02-03T08:29:06.573333Z",
     "start_time": "2021-02-03T08:29:06.566047Z"
    }
   },
   "outputs": [],
   "source": [
    "# categorical features to one-hot-encode\n",
    "feat_categorical_small = [num for num in feat_categorical_nunique if num<7]"
   ]
  },
  {
   "cell_type": "code",
   "execution_count": 11,
   "metadata": {},
   "outputs": [
    {
     "data": {
      "text/plain": [
       "[5,\n",
       " 2,\n",
       " 2,\n",
       " 4,\n",
       " 4,\n",
       " 2,\n",
       " 5,\n",
       " 3,\n",
       " 5,\n",
       " 6,\n",
       " 4,\n",
       " 4,\n",
       " 5,\n",
       " 6,\n",
       " 4,\n",
       " 4,\n",
       " 4,\n",
       " 6,\n",
       " 6,\n",
       " 6,\n",
       " 5,\n",
       " 2,\n",
       " 5,\n",
       " 4,\n",
       " 5,\n",
       " 6,\n",
       " 3,\n",
       " 5,\n",
       " 5,\n",
       " 3,\n",
       " 3,\n",
       " 4,\n",
       " 4,\n",
       " 6]"
      ]
     },
     "execution_count": 11,
     "metadata": {},
     "output_type": "execute_result"
    }
   ],
   "source": [
    "(feat_categorical_small)"
   ]
  },
  {
   "cell_type": "markdown",
   "metadata": {},
   "source": [
    "🧪 Test your code below (and clear the cell once it passed)"
   ]
  },
  {
   "cell_type": "code",
   "execution_count": 12,
   "metadata": {
    "ExecuteTime": {
     "end_time": "2021-02-03T08:29:10.601850Z",
     "start_time": "2021-02-03T08:29:08.693622Z"
    }
   },
   "outputs": [
    {
     "name": "stdout",
     "output_type": "stream",
     "text": [
      "\u001b[1m============================= test session starts ==============================\u001b[0m\n",
      "platform linux -- Python 3.8.12, pytest-6.2.5, py-1.10.0, pluggy-1.0.0 -- /home/idriss/.pyenv/versions/lewagon/bin/python3\n",
      "cachedir: .pytest_cache\n",
      "rootdir: /home/idriss/code/OzRuby/houses_prices_kaggle_challenge\n",
      "plugins: dash-2.0.0, anyio-3.3.2\n",
      "\u001b[1mcollecting ... \u001b[0mcollected 1 item\n",
      "\n",
      "tests/test_features_overview.py::TestFeaturesOverview::test_feat_categorical_small \u001b[32mPASSED\u001b[0m\u001b[32m [100%]\u001b[0m\n",
      "\n",
      "\u001b[32m============================== \u001b[32m\u001b[1m1 passed\u001b[0m\u001b[32m in 0.01s\u001b[0m\u001b[32m ===============================\u001b[0m\n",
      "\n",
      "\n",
      "💯 You can commit your code:\n",
      "\n",
      "\u001b[1;32mgit\u001b[39m add tests/features_overview.pickle\n",
      "\n",
      "\u001b[32mgit\u001b[39m commit -m \u001b[33m'Completed features_overview step'\u001b[39m\n",
      "\n",
      "\u001b[32mgit\u001b[39m push origin master\n"
     ]
    }
   ],
   "source": [
    "from nbresult import ChallengeResult\n",
    "result = ChallengeResult('features_overview',\n",
    "    n=len(feat_categorical_small))\n",
    "result.write(); print(result.check())"
   ]
  },
  {
   "cell_type": "markdown",
   "metadata": {},
   "source": [
    "## 1.2 Baseline pipe"
   ]
  },
  {
   "cell_type": "markdown",
   "metadata": {},
   "source": [
    "### a) Preprocessing"
   ]
  },
  {
   "cell_type": "markdown",
   "metadata": {},
   "source": [
    "❓ Let's code the basic preprocessing pipeline described below. Save it under `preproc_baseline`.\n",
    "\n",
    "For categorical features\n",
    "- Simple-Impute with most frequent values\n",
    "- One-Hot-Encode features that have less than 7 unique values to start with\n",
    "- Drop all others features\n",
    "\n",
    "\n",
    "As for numerical features\n",
    "- Simple-Impute with strategy 'mean'\n",
    "- Min-Max Scale \n",
    "\n",
    "\n",
    "<details>\n",
    "    <summary>ℹ️ Pro tips</summary>\n",
    "\n",
    "If you are confident, you can try sklearn's shorter syntax `make_pipeline` or `make_column_transformer` instead of the longer syntax `Pipeline` or `ColumnTransformer` if you want to avoid giving names manually to every steps.\n",
    "</details>"
   ]
  },
  {
   "cell_type": "code",
   "execution_count": 13,
   "metadata": {
    "ExecuteTime": {
     "end_time": "2021-02-03T08:29:46.327429Z",
     "start_time": "2021-02-03T08:29:46.298030Z"
    }
   },
   "outputs": [],
   "source": [
    "columns_light = [col for col in X.columns if (X[col].dtypes == \"O\" and X[col].nunique()<7) \\\n",
    "                 or X[col].dtypes != \"O\"]\n"
   ]
  },
  {
   "cell_type": "code",
   "execution_count": 14,
   "metadata": {},
   "outputs": [
    {
     "data": {
      "text/plain": [
       "True"
      ]
     },
     "execution_count": 14,
     "metadata": {},
     "output_type": "execute_result"
    }
   ],
   "source": [
    "X.MiscVal.dtypes == \"int64\""
   ]
  },
  {
   "cell_type": "code",
   "execution_count": 15,
   "metadata": {},
   "outputs": [
    {
     "data": {
      "text/plain": [
       "70"
      ]
     },
     "execution_count": 15,
     "metadata": {},
     "output_type": "execute_result"
    }
   ],
   "source": [
    "len(columns_light)"
   ]
  },
  {
   "cell_type": "code",
   "execution_count": 16,
   "metadata": {},
   "outputs": [
    {
     "data": {
      "text/plain": [
       "(1460, 70)"
      ]
     },
     "execution_count": 16,
     "metadata": {},
     "output_type": "execute_result"
    }
   ],
   "source": [
    "X_light = X[columns_light]\n",
    "X_light.shape"
   ]
  },
  {
   "cell_type": "code",
   "execution_count": 17,
   "metadata": {},
   "outputs": [],
   "source": [
    "from sklearn.pipeline import make_pipeline, make_union, Pipeline\n",
    "from sklearn.compose import make_column_transformer, make_column_selector , ColumnTransformer\n",
    "from sklearn.impute import SimpleImputer\n",
    "from sklearn.preprocessing import FunctionTransformer, StandardScaler, OneHotEncoder, MinMaxScaler, OrdinalEncoder\n",
    "from sklearn.linear_model import Ridge, Lasso\n",
    "from sklearn.metrics import  make_scorer,mean_squared_error \n",
    "from sklearn.model_selection import cross_validate , cross_val_predict, cross_val_score"
   ]
  },
  {
   "cell_type": "code",
   "execution_count": 18,
   "metadata": {},
   "outputs": [],
   "source": [
    "cat_pipe = make_pipeline(SimpleImputer(strategy=\"most_frequent\"), \\\n",
    "                         OneHotEncoder(handle_unknown=\"ignore\", sparse=False))\n",
    "cat_columns = make_column_selector(dtype_include=['object'])"
   ]
  },
  {
   "cell_type": "code",
   "execution_count": 19,
   "metadata": {},
   "outputs": [],
   "source": [
    "num_pipe = make_pipeline(SimpleImputer(strategy=\"mean\"),MinMaxScaler())\n",
    "num_columns = make_column_selector(dtype_exclude=['object'])"
   ]
  },
  {
   "cell_type": "code",
   "execution_count": 20,
   "metadata": {},
   "outputs": [],
   "source": [
    "preproc_baseline = make_column_transformer((cat_pipe, cat_columns), (num_pipe,num_columns))"
   ]
  },
  {
   "cell_type": "code",
   "execution_count": 21,
   "metadata": {},
   "outputs": [
    {
     "data": {
      "text/html": [
       "<style>#sk-9b79f2a3-c455-480e-b910-dfd1a2020a5b {color: black;background-color: white;}#sk-9b79f2a3-c455-480e-b910-dfd1a2020a5b pre{padding: 0;}#sk-9b79f2a3-c455-480e-b910-dfd1a2020a5b div.sk-toggleable {background-color: white;}#sk-9b79f2a3-c455-480e-b910-dfd1a2020a5b label.sk-toggleable__label {cursor: pointer;display: block;width: 100%;margin-bottom: 0;padding: 0.3em;box-sizing: border-box;text-align: center;}#sk-9b79f2a3-c455-480e-b910-dfd1a2020a5b label.sk-toggleable__label-arrow:before {content: \"▸\";float: left;margin-right: 0.25em;color: #696969;}#sk-9b79f2a3-c455-480e-b910-dfd1a2020a5b label.sk-toggleable__label-arrow:hover:before {color: black;}#sk-9b79f2a3-c455-480e-b910-dfd1a2020a5b div.sk-estimator:hover label.sk-toggleable__label-arrow:before {color: black;}#sk-9b79f2a3-c455-480e-b910-dfd1a2020a5b div.sk-toggleable__content {max-height: 0;max-width: 0;overflow: hidden;text-align: left;background-color: #f0f8ff;}#sk-9b79f2a3-c455-480e-b910-dfd1a2020a5b div.sk-toggleable__content pre {margin: 0.2em;color: black;border-radius: 0.25em;background-color: #f0f8ff;}#sk-9b79f2a3-c455-480e-b910-dfd1a2020a5b input.sk-toggleable__control:checked~div.sk-toggleable__content {max-height: 200px;max-width: 100%;overflow: auto;}#sk-9b79f2a3-c455-480e-b910-dfd1a2020a5b input.sk-toggleable__control:checked~label.sk-toggleable__label-arrow:before {content: \"▾\";}#sk-9b79f2a3-c455-480e-b910-dfd1a2020a5b div.sk-estimator input.sk-toggleable__control:checked~label.sk-toggleable__label {background-color: #d4ebff;}#sk-9b79f2a3-c455-480e-b910-dfd1a2020a5b div.sk-label input.sk-toggleable__control:checked~label.sk-toggleable__label {background-color: #d4ebff;}#sk-9b79f2a3-c455-480e-b910-dfd1a2020a5b input.sk-hidden--visually {border: 0;clip: rect(1px 1px 1px 1px);clip: rect(1px, 1px, 1px, 1px);height: 1px;margin: -1px;overflow: hidden;padding: 0;position: absolute;width: 1px;}#sk-9b79f2a3-c455-480e-b910-dfd1a2020a5b div.sk-estimator {font-family: monospace;background-color: #f0f8ff;border: 1px dotted black;border-radius: 0.25em;box-sizing: border-box;margin-bottom: 0.5em;}#sk-9b79f2a3-c455-480e-b910-dfd1a2020a5b div.sk-estimator:hover {background-color: #d4ebff;}#sk-9b79f2a3-c455-480e-b910-dfd1a2020a5b div.sk-parallel-item::after {content: \"\";width: 100%;border-bottom: 1px solid gray;flex-grow: 1;}#sk-9b79f2a3-c455-480e-b910-dfd1a2020a5b div.sk-label:hover label.sk-toggleable__label {background-color: #d4ebff;}#sk-9b79f2a3-c455-480e-b910-dfd1a2020a5b div.sk-serial::before {content: \"\";position: absolute;border-left: 1px solid gray;box-sizing: border-box;top: 2em;bottom: 0;left: 50%;}#sk-9b79f2a3-c455-480e-b910-dfd1a2020a5b div.sk-serial {display: flex;flex-direction: column;align-items: center;background-color: white;padding-right: 0.2em;padding-left: 0.2em;}#sk-9b79f2a3-c455-480e-b910-dfd1a2020a5b div.sk-item {z-index: 1;}#sk-9b79f2a3-c455-480e-b910-dfd1a2020a5b div.sk-parallel {display: flex;align-items: stretch;justify-content: center;background-color: white;}#sk-9b79f2a3-c455-480e-b910-dfd1a2020a5b div.sk-parallel::before {content: \"\";position: absolute;border-left: 1px solid gray;box-sizing: border-box;top: 2em;bottom: 0;left: 50%;}#sk-9b79f2a3-c455-480e-b910-dfd1a2020a5b div.sk-parallel-item {display: flex;flex-direction: column;position: relative;background-color: white;}#sk-9b79f2a3-c455-480e-b910-dfd1a2020a5b div.sk-parallel-item:first-child::after {align-self: flex-end;width: 50%;}#sk-9b79f2a3-c455-480e-b910-dfd1a2020a5b div.sk-parallel-item:last-child::after {align-self: flex-start;width: 50%;}#sk-9b79f2a3-c455-480e-b910-dfd1a2020a5b div.sk-parallel-item:only-child::after {width: 0;}#sk-9b79f2a3-c455-480e-b910-dfd1a2020a5b div.sk-dashed-wrapped {border: 1px dashed gray;margin: 0 0.4em 0.5em 0.4em;box-sizing: border-box;padding-bottom: 0.4em;background-color: white;position: relative;}#sk-9b79f2a3-c455-480e-b910-dfd1a2020a5b div.sk-label label {font-family: monospace;font-weight: bold;background-color: white;display: inline-block;line-height: 1.2em;}#sk-9b79f2a3-c455-480e-b910-dfd1a2020a5b div.sk-label-container {position: relative;z-index: 2;text-align: center;}#sk-9b79f2a3-c455-480e-b910-dfd1a2020a5b div.sk-container {/* jupyter's `normalize.less` sets `[hidden] { display: none; }` but bootstrap.min.css set `[hidden] { display: none !important; }` so we also need the `!important` here to be able to override the default hidden behavior on the sphinx rendered scikit-learn.org. See: https://github.com/scikit-learn/scikit-learn/issues/21755 */display: inline-block !important;position: relative;}#sk-9b79f2a3-c455-480e-b910-dfd1a2020a5b div.sk-text-repr-fallback {display: none;}</style><div id=\"sk-9b79f2a3-c455-480e-b910-dfd1a2020a5b\" class=\"sk-top-container\"><div class=\"sk-text-repr-fallback\"><pre>ColumnTransformer(transformers=[(&#x27;pipeline-1&#x27;,\n",
       "                                 Pipeline(steps=[(&#x27;simpleimputer&#x27;,\n",
       "                                                  SimpleImputer(strategy=&#x27;most_frequent&#x27;)),\n",
       "                                                 (&#x27;onehotencoder&#x27;,\n",
       "                                                  OneHotEncoder(handle_unknown=&#x27;ignore&#x27;,\n",
       "                                                                sparse=False))]),\n",
       "                                 &lt;sklearn.compose._column_transformer.make_column_selector object at 0x7f2c88b0bd60&gt;),\n",
       "                                (&#x27;pipeline-2&#x27;,\n",
       "                                 Pipeline(steps=[(&#x27;simpleimputer&#x27;,\n",
       "                                                  SimpleImputer()),\n",
       "                                                 (&#x27;minmaxscaler&#x27;,\n",
       "                                                  MinMaxScaler())]),\n",
       "                                 &lt;sklearn.compose._column_transformer.make_column_selector object at 0x7f2c14939ac0&gt;)])</pre><b>Please rerun this cell to show the HTML repr or trust the notebook.</b></div><div class=\"sk-container\" hidden><div class=\"sk-item sk-dashed-wrapped\"><div class=\"sk-label-container\"><div class=\"sk-label sk-toggleable\"><input class=\"sk-toggleable__control sk-hidden--visually\" id=\"2c9b7d19-8820-48f1-8a16-971aa009c157\" type=\"checkbox\" ><label for=\"2c9b7d19-8820-48f1-8a16-971aa009c157\" class=\"sk-toggleable__label sk-toggleable__label-arrow\">ColumnTransformer</label><div class=\"sk-toggleable__content\"><pre>ColumnTransformer(transformers=[(&#x27;pipeline-1&#x27;,\n",
       "                                 Pipeline(steps=[(&#x27;simpleimputer&#x27;,\n",
       "                                                  SimpleImputer(strategy=&#x27;most_frequent&#x27;)),\n",
       "                                                 (&#x27;onehotencoder&#x27;,\n",
       "                                                  OneHotEncoder(handle_unknown=&#x27;ignore&#x27;,\n",
       "                                                                sparse=False))]),\n",
       "                                 &lt;sklearn.compose._column_transformer.make_column_selector object at 0x7f2c88b0bd60&gt;),\n",
       "                                (&#x27;pipeline-2&#x27;,\n",
       "                                 Pipeline(steps=[(&#x27;simpleimputer&#x27;,\n",
       "                                                  SimpleImputer()),\n",
       "                                                 (&#x27;minmaxscaler&#x27;,\n",
       "                                                  MinMaxScaler())]),\n",
       "                                 &lt;sklearn.compose._column_transformer.make_column_selector object at 0x7f2c14939ac0&gt;)])</pre></div></div></div><div class=\"sk-parallel\"><div class=\"sk-parallel-item\"><div class=\"sk-item\"><div class=\"sk-label-container\"><div class=\"sk-label sk-toggleable\"><input class=\"sk-toggleable__control sk-hidden--visually\" id=\"62a1de0c-33d1-4f47-b593-45a33b239e8e\" type=\"checkbox\" ><label for=\"62a1de0c-33d1-4f47-b593-45a33b239e8e\" class=\"sk-toggleable__label sk-toggleable__label-arrow\">pipeline-1</label><div class=\"sk-toggleable__content\"><pre>&lt;sklearn.compose._column_transformer.make_column_selector object at 0x7f2c88b0bd60&gt;</pre></div></div></div><div class=\"sk-serial\"><div class=\"sk-item\"><div class=\"sk-serial\"><div class=\"sk-item\"><div class=\"sk-estimator sk-toggleable\"><input class=\"sk-toggleable__control sk-hidden--visually\" id=\"066e4b8d-88d5-4f41-824e-4ee9c0b3d640\" type=\"checkbox\" ><label for=\"066e4b8d-88d5-4f41-824e-4ee9c0b3d640\" class=\"sk-toggleable__label sk-toggleable__label-arrow\">SimpleImputer</label><div class=\"sk-toggleable__content\"><pre>SimpleImputer(strategy=&#x27;most_frequent&#x27;)</pre></div></div></div><div class=\"sk-item\"><div class=\"sk-estimator sk-toggleable\"><input class=\"sk-toggleable__control sk-hidden--visually\" id=\"50f0a0c8-acb9-4c5c-b48c-28b3a41d583c\" type=\"checkbox\" ><label for=\"50f0a0c8-acb9-4c5c-b48c-28b3a41d583c\" class=\"sk-toggleable__label sk-toggleable__label-arrow\">OneHotEncoder</label><div class=\"sk-toggleable__content\"><pre>OneHotEncoder(handle_unknown=&#x27;ignore&#x27;, sparse=False)</pre></div></div></div></div></div></div></div></div><div class=\"sk-parallel-item\"><div class=\"sk-item\"><div class=\"sk-label-container\"><div class=\"sk-label sk-toggleable\"><input class=\"sk-toggleable__control sk-hidden--visually\" id=\"30d859b1-5b2b-4752-ae69-45abc33512a4\" type=\"checkbox\" ><label for=\"30d859b1-5b2b-4752-ae69-45abc33512a4\" class=\"sk-toggleable__label sk-toggleable__label-arrow\">pipeline-2</label><div class=\"sk-toggleable__content\"><pre>&lt;sklearn.compose._column_transformer.make_column_selector object at 0x7f2c14939ac0&gt;</pre></div></div></div><div class=\"sk-serial\"><div class=\"sk-item\"><div class=\"sk-serial\"><div class=\"sk-item\"><div class=\"sk-estimator sk-toggleable\"><input class=\"sk-toggleable__control sk-hidden--visually\" id=\"47e97c65-55c5-4560-9007-508308fb716c\" type=\"checkbox\" ><label for=\"47e97c65-55c5-4560-9007-508308fb716c\" class=\"sk-toggleable__label sk-toggleable__label-arrow\">SimpleImputer</label><div class=\"sk-toggleable__content\"><pre>SimpleImputer()</pre></div></div></div><div class=\"sk-item\"><div class=\"sk-estimator sk-toggleable\"><input class=\"sk-toggleable__control sk-hidden--visually\" id=\"d1275928-5fd8-4956-b2f1-e912bdd9f066\" type=\"checkbox\" ><label for=\"d1275928-5fd8-4956-b2f1-e912bdd9f066\" class=\"sk-toggleable__label sk-toggleable__label-arrow\">MinMaxScaler</label><div class=\"sk-toggleable__content\"><pre>MinMaxScaler()</pre></div></div></div></div></div></div></div></div></div></div></div></div>"
      ],
      "text/plain": [
       "ColumnTransformer(transformers=[('pipeline-1',\n",
       "                                 Pipeline(steps=[('simpleimputer',\n",
       "                                                  SimpleImputer(strategy='most_frequent')),\n",
       "                                                 ('onehotencoder',\n",
       "                                                  OneHotEncoder(handle_unknown='ignore',\n",
       "                                                                sparse=False))]),\n",
       "                                 <sklearn.compose._column_transformer.make_column_selector object at 0x7f2c88b0bd60>),\n",
       "                                ('pipeline-2',\n",
       "                                 Pipeline(steps=[('simpleimputer',\n",
       "                                                  SimpleImputer()),\n",
       "                                                 ('minmaxscaler',\n",
       "                                                  MinMaxScaler())]),\n",
       "                                 <sklearn.compose._column_transformer.make_column_selector object at 0x7f2c14939ac0>)])"
      ]
     },
     "execution_count": 21,
     "metadata": {},
     "output_type": "execute_result"
    }
   ],
   "source": [
    "preproc_baseline"
   ]
  },
  {
   "cell_type": "code",
   "execution_count": 22,
   "metadata": {},
   "outputs": [],
   "source": [
    "data_preproc = preproc_baseline.fit_transform(X_light,y)"
   ]
  },
  {
   "cell_type": "markdown",
   "metadata": {},
   "source": [
    "❓ Look at the **shape** of your preprocessed dataframe."
   ]
  },
  {
   "cell_type": "code",
   "execution_count": 23,
   "metadata": {
    "ExecuteTime": {
     "end_time": "2021-02-03T08:29:48.945399Z",
     "start_time": "2021-02-03T08:29:48.899742Z"
    }
   },
   "outputs": [],
   "source": [
    "shape_preproc_baseline = data_preproc.shape"
   ]
  },
  {
   "cell_type": "code",
   "execution_count": 24,
   "metadata": {},
   "outputs": [
    {
     "data": {
      "text/plain": [
       "numpy.ndarray"
      ]
     },
     "execution_count": 24,
     "metadata": {},
     "output_type": "execute_result"
    }
   ],
   "source": [
    "type(data_preproc)"
   ]
  },
  {
   "cell_type": "code",
   "execution_count": 25,
   "metadata": {},
   "outputs": [
    {
     "data": {
      "text/plain": [
       "(1460, 183)"
      ]
     },
     "execution_count": 25,
     "metadata": {},
     "output_type": "execute_result"
    }
   ],
   "source": [
    "shape_preproc_baseline"
   ]
  },
  {
   "cell_type": "markdown",
   "metadata": {},
   "source": [
    "🧪 Test your code below"
   ]
  },
  {
   "cell_type": "code",
   "execution_count": 26,
   "metadata": {
    "ExecuteTime": {
     "end_time": "2021-02-03T08:29:51.189687Z",
     "start_time": "2021-02-03T08:29:50.059279Z"
    }
   },
   "outputs": [
    {
     "name": "stdout",
     "output_type": "stream",
     "text": [
      "\u001b[1m============================= test session starts ==============================\u001b[0m\n",
      "platform linux -- Python 3.8.12, pytest-6.2.5, py-1.10.0, pluggy-1.0.0 -- /home/idriss/.pyenv/versions/lewagon/bin/python3\n",
      "cachedir: .pytest_cache\n",
      "rootdir: /home/idriss/code/OzRuby/houses_prices_kaggle_challenge\n",
      "plugins: dash-2.0.0, anyio-3.3.2\n",
      "\u001b[1mcollecting ... \u001b[0mcollected 1 item\n",
      "\n",
      "tests/test_preproc_baseline.py::TestPreprocBaseline::test_shape \u001b[32mPASSED\u001b[0m\u001b[32m   [100%]\u001b[0m\n",
      "\n",
      "\u001b[32m============================== \u001b[32m\u001b[1m1 passed\u001b[0m\u001b[32m in 0.01s\u001b[0m\u001b[32m ===============================\u001b[0m\n",
      "\n",
      "\n",
      "💯 You can commit your code:\n",
      "\n",
      "\u001b[1;32mgit\u001b[39m add tests/preproc_baseline.pickle\n",
      "\n",
      "\u001b[32mgit\u001b[39m commit -m \u001b[33m'Completed preproc_baseline step'\u001b[39m\n",
      "\n",
      "\u001b[32mgit\u001b[39m push origin master\n"
     ]
    }
   ],
   "source": [
    "from nbresult import ChallengeResult\n",
    "result = ChallengeResult('preproc_baseline',\n",
    "    shape=shape_preproc_baseline)\n",
    "result.write()\n",
    "print(result.check())"
   ]
  },
  {
   "cell_type": "markdown",
   "metadata": {},
   "source": [
    "### b) Add estimator"
   ]
  },
  {
   "cell_type": "markdown",
   "metadata": {},
   "source": [
    "❓ Add a simple Decision Tree model to your `preproc_baseline` and store it to `pipe_baseline` variable."
   ]
  },
  {
   "cell_type": "code",
   "execution_count": 27,
   "metadata": {
    "ExecuteTime": {
     "end_time": "2021-02-03T08:29:52.307918Z",
     "start_time": "2021-02-03T08:29:52.248129Z"
    }
   },
   "outputs": [],
   "source": [
    "pipe_baseline = make_pipeline(preproc_baseline, Lasso())"
   ]
  },
  {
   "cell_type": "markdown",
   "metadata": {},
   "source": [
    "❓ Read the Kaggle [contest evaluation rules](https://www.kaggle.com/c/house-prices-advanced-regression-techniques/overview/evaluation) \n",
    "- Which performance metric do you need? Is it readily available in sklearn?\n",
    "- We will need to create our custom `sklearn.metrics.scorer` object so as to pass to any cross-validation or grid search as below\n",
    "\n",
    "\n",
    "👉 Create a scorer called `rmsle` using [`make_scorer`](https://scikit-learn.org/stable/modules/generated/sklearn.metrics.make_scorer.html) that can be passed as a value for the `scoring` kwarg as below:\n",
    "```python\n",
    "cross_val_score(pipe_baseline, X, y, cv=5, scoring=rmsle)\n",
    "```\n",
    "👉 Create also the negative version `rmsle_neg` which is best when _maximized_. This will come handy later as `GridSearchCV` always tries to _maximize_ a score\n",
    "```python\n",
    "GridSearchCV(pipe_baseline, param_grid=..., cv=5, scoring=rmse_neg)\n",
    "```"
   ]
  },
  {
   "cell_type": "markdown",
   "metadata": {},
   "source": [
    "$$\\text{RMSLE}(y, \\hat{y}) = \\sqrt{\\frac{1}{n_\\text{samples}} \\sum_{i=0}^{n_\\text{samples} - 1} (\\log_e (1 + y_i) - \\log_e (1 + \\hat{y}_i) )^2.}$$"
   ]
  },
  {
   "cell_type": "code",
   "execution_count": 28,
   "metadata": {
    "ExecuteTime": {
     "end_time": "2021-02-03T08:48:25.203103Z",
     "start_time": "2021-02-03T08:48:25.197636Z"
    }
   },
   "outputs": [],
   "source": [
    "def log_loss(y, y_pred):\n",
    "    return ((np.log(y+1) - np.log(y_pred+1))**2).mean()**0.5"
   ]
  },
  {
   "cell_type": "code",
   "execution_count": 29,
   "metadata": {},
   "outputs": [],
   "source": [
    "def rmse(y,y_pred):\n",
    "    return mean_squared_error(y,y_pred)**0.5"
   ]
  },
  {
   "cell_type": "code",
   "execution_count": 30,
   "metadata": {},
   "outputs": [
    {
     "data": {
      "text/plain": [
       "1460"
      ]
     },
     "execution_count": 30,
     "metadata": {},
     "output_type": "execute_result"
    }
   ],
   "source": [
    "len(X.MasVnrArea)"
   ]
  },
  {
   "cell_type": "code",
   "execution_count": 31,
   "metadata": {},
   "outputs": [],
   "source": [
    "rmsle = make_scorer(log_loss, greater_is_better=True)"
   ]
  },
  {
   "cell_type": "code",
   "execution_count": 32,
   "metadata": {},
   "outputs": [],
   "source": [
    "rmse_scorer = make_scorer(rmse)"
   ]
  },
  {
   "cell_type": "code",
   "execution_count": 33,
   "metadata": {},
   "outputs": [],
   "source": [
    "def log_loss_neg(y, y_pred):\n",
    "    return -log_loss(y,y_pred)"
   ]
  },
  {
   "cell_type": "markdown",
   "metadata": {},
   "source": [
    "❓5-fold cross_validate your `pipe_baseline` using this metric to get a first glance at your baseline perf.    \n",
    "\n",
    "Store your mean score as `score_baseline`"
   ]
  },
  {
   "cell_type": "code",
   "execution_count": 34,
   "metadata": {},
   "outputs": [],
   "source": [
    "cv_result = cross_validate(pipe_baseline, X_light, y , scoring=rmsle, cv=10, n_jobs=-1)"
   ]
  },
  {
   "cell_type": "code",
   "execution_count": 35,
   "metadata": {},
   "outputs": [
    {
     "data": {
      "text/plain": [
       "{'fit_time': array([0.18697262, 0.24780607, 0.25195527, 0.14114308, 0.24380898,\n",
       "        0.26169229, 0.27818441, 0.22018051, 0.23439288, 0.21531057]),\n",
       " 'score_time': array([0.01013017, 0.00994921, 0.00712013, 0.0060792 , 0.00657439,\n",
       "        0.00698471, 0.00615716, 0.00582743, 0.00787687, 0.00596952]),\n",
       " 'test_score': array([0.19876612, 0.15776319, 0.17884488, 0.19660799, 0.18615798,\n",
       "        0.15010922, 0.14541061, 0.17528275, 0.19225524, 0.20438769])}"
      ]
     },
     "execution_count": 35,
     "metadata": {},
     "output_type": "execute_result"
    }
   ],
   "source": [
    "cv_result"
   ]
  },
  {
   "cell_type": "code",
   "execution_count": 36,
   "metadata": {
    "ExecuteTime": {
     "end_time": "2021-02-03T08:29:56.980617Z",
     "start_time": "2021-02-03T08:29:56.716448Z"
    },
    "scrolled": true
   },
   "outputs": [],
   "source": [
    "score_baseline = cv_result[\"test_score\"].mean()"
   ]
  },
  {
   "cell_type": "code",
   "execution_count": 37,
   "metadata": {},
   "outputs": [
    {
     "data": {
      "text/plain": [
       "0.17855856613835164"
      ]
     },
     "execution_count": 37,
     "metadata": {},
     "output_type": "execute_result"
    }
   ],
   "source": [
    "score_baseline"
   ]
  },
  {
   "cell_type": "code",
   "execution_count": 38,
   "metadata": {},
   "outputs": [
    {
     "data": {
      "text/plain": [
       "0.17855856613835164"
      ]
     },
     "execution_count": 38,
     "metadata": {},
     "output_type": "execute_result"
    }
   ],
   "source": [
    "cv_result[\"test_score\"].mean()"
   ]
  },
  {
   "cell_type": "markdown",
   "metadata": {},
   "source": [
    "### d) Predict baseline"
   ]
  },
  {
   "cell_type": "markdown",
   "metadata": {},
   "source": [
    "❓ Predict `y_pred_baseline` from the Kaggle `test.csv` dataset you stored in the `data` folder."
   ]
  },
  {
   "cell_type": "code",
   "execution_count": 39,
   "metadata": {},
   "outputs": [
    {
     "name": "stderr",
     "output_type": "stream",
     "text": [
      "/home/idriss/.pyenv/versions/3.8.12/envs/lewagon/lib/python3.8/site-packages/sklearn/linear_model/_coordinate_descent.py:647: ConvergenceWarning: Objective did not converge. You might want to increase the number of iterations, check the scale of the features or consider increasing regularisation. Duality gap: 9.758e+08, tolerance: 9.208e+08\n",
      "  model = cd_fast.enet_coordinate_descent(\n"
     ]
    },
    {
     "data": {
      "text/html": [
       "<style>#sk-3de41d35-83c9-4a10-a0c1-f4d9d6b2b4d6 {color: black;background-color: white;}#sk-3de41d35-83c9-4a10-a0c1-f4d9d6b2b4d6 pre{padding: 0;}#sk-3de41d35-83c9-4a10-a0c1-f4d9d6b2b4d6 div.sk-toggleable {background-color: white;}#sk-3de41d35-83c9-4a10-a0c1-f4d9d6b2b4d6 label.sk-toggleable__label {cursor: pointer;display: block;width: 100%;margin-bottom: 0;padding: 0.3em;box-sizing: border-box;text-align: center;}#sk-3de41d35-83c9-4a10-a0c1-f4d9d6b2b4d6 label.sk-toggleable__label-arrow:before {content: \"▸\";float: left;margin-right: 0.25em;color: #696969;}#sk-3de41d35-83c9-4a10-a0c1-f4d9d6b2b4d6 label.sk-toggleable__label-arrow:hover:before {color: black;}#sk-3de41d35-83c9-4a10-a0c1-f4d9d6b2b4d6 div.sk-estimator:hover label.sk-toggleable__label-arrow:before {color: black;}#sk-3de41d35-83c9-4a10-a0c1-f4d9d6b2b4d6 div.sk-toggleable__content {max-height: 0;max-width: 0;overflow: hidden;text-align: left;background-color: #f0f8ff;}#sk-3de41d35-83c9-4a10-a0c1-f4d9d6b2b4d6 div.sk-toggleable__content pre {margin: 0.2em;color: black;border-radius: 0.25em;background-color: #f0f8ff;}#sk-3de41d35-83c9-4a10-a0c1-f4d9d6b2b4d6 input.sk-toggleable__control:checked~div.sk-toggleable__content {max-height: 200px;max-width: 100%;overflow: auto;}#sk-3de41d35-83c9-4a10-a0c1-f4d9d6b2b4d6 input.sk-toggleable__control:checked~label.sk-toggleable__label-arrow:before {content: \"▾\";}#sk-3de41d35-83c9-4a10-a0c1-f4d9d6b2b4d6 div.sk-estimator input.sk-toggleable__control:checked~label.sk-toggleable__label {background-color: #d4ebff;}#sk-3de41d35-83c9-4a10-a0c1-f4d9d6b2b4d6 div.sk-label input.sk-toggleable__control:checked~label.sk-toggleable__label {background-color: #d4ebff;}#sk-3de41d35-83c9-4a10-a0c1-f4d9d6b2b4d6 input.sk-hidden--visually {border: 0;clip: rect(1px 1px 1px 1px);clip: rect(1px, 1px, 1px, 1px);height: 1px;margin: -1px;overflow: hidden;padding: 0;position: absolute;width: 1px;}#sk-3de41d35-83c9-4a10-a0c1-f4d9d6b2b4d6 div.sk-estimator {font-family: monospace;background-color: #f0f8ff;border: 1px dotted black;border-radius: 0.25em;box-sizing: border-box;margin-bottom: 0.5em;}#sk-3de41d35-83c9-4a10-a0c1-f4d9d6b2b4d6 div.sk-estimator:hover {background-color: #d4ebff;}#sk-3de41d35-83c9-4a10-a0c1-f4d9d6b2b4d6 div.sk-parallel-item::after {content: \"\";width: 100%;border-bottom: 1px solid gray;flex-grow: 1;}#sk-3de41d35-83c9-4a10-a0c1-f4d9d6b2b4d6 div.sk-label:hover label.sk-toggleable__label {background-color: #d4ebff;}#sk-3de41d35-83c9-4a10-a0c1-f4d9d6b2b4d6 div.sk-serial::before {content: \"\";position: absolute;border-left: 1px solid gray;box-sizing: border-box;top: 2em;bottom: 0;left: 50%;}#sk-3de41d35-83c9-4a10-a0c1-f4d9d6b2b4d6 div.sk-serial {display: flex;flex-direction: column;align-items: center;background-color: white;padding-right: 0.2em;padding-left: 0.2em;}#sk-3de41d35-83c9-4a10-a0c1-f4d9d6b2b4d6 div.sk-item {z-index: 1;}#sk-3de41d35-83c9-4a10-a0c1-f4d9d6b2b4d6 div.sk-parallel {display: flex;align-items: stretch;justify-content: center;background-color: white;}#sk-3de41d35-83c9-4a10-a0c1-f4d9d6b2b4d6 div.sk-parallel::before {content: \"\";position: absolute;border-left: 1px solid gray;box-sizing: border-box;top: 2em;bottom: 0;left: 50%;}#sk-3de41d35-83c9-4a10-a0c1-f4d9d6b2b4d6 div.sk-parallel-item {display: flex;flex-direction: column;position: relative;background-color: white;}#sk-3de41d35-83c9-4a10-a0c1-f4d9d6b2b4d6 div.sk-parallel-item:first-child::after {align-self: flex-end;width: 50%;}#sk-3de41d35-83c9-4a10-a0c1-f4d9d6b2b4d6 div.sk-parallel-item:last-child::after {align-self: flex-start;width: 50%;}#sk-3de41d35-83c9-4a10-a0c1-f4d9d6b2b4d6 div.sk-parallel-item:only-child::after {width: 0;}#sk-3de41d35-83c9-4a10-a0c1-f4d9d6b2b4d6 div.sk-dashed-wrapped {border: 1px dashed gray;margin: 0 0.4em 0.5em 0.4em;box-sizing: border-box;padding-bottom: 0.4em;background-color: white;position: relative;}#sk-3de41d35-83c9-4a10-a0c1-f4d9d6b2b4d6 div.sk-label label {font-family: monospace;font-weight: bold;background-color: white;display: inline-block;line-height: 1.2em;}#sk-3de41d35-83c9-4a10-a0c1-f4d9d6b2b4d6 div.sk-label-container {position: relative;z-index: 2;text-align: center;}#sk-3de41d35-83c9-4a10-a0c1-f4d9d6b2b4d6 div.sk-container {/* jupyter's `normalize.less` sets `[hidden] { display: none; }` but bootstrap.min.css set `[hidden] { display: none !important; }` so we also need the `!important` here to be able to override the default hidden behavior on the sphinx rendered scikit-learn.org. See: https://github.com/scikit-learn/scikit-learn/issues/21755 */display: inline-block !important;position: relative;}#sk-3de41d35-83c9-4a10-a0c1-f4d9d6b2b4d6 div.sk-text-repr-fallback {display: none;}</style><div id=\"sk-3de41d35-83c9-4a10-a0c1-f4d9d6b2b4d6\" class=\"sk-top-container\"><div class=\"sk-text-repr-fallback\"><pre>Pipeline(steps=[(&#x27;columntransformer&#x27;,\n",
       "                 ColumnTransformer(transformers=[(&#x27;pipeline-1&#x27;,\n",
       "                                                  Pipeline(steps=[(&#x27;simpleimputer&#x27;,\n",
       "                                                                   SimpleImputer(strategy=&#x27;most_frequent&#x27;)),\n",
       "                                                                  (&#x27;onehotencoder&#x27;,\n",
       "                                                                   OneHotEncoder(handle_unknown=&#x27;ignore&#x27;,\n",
       "                                                                                 sparse=False))]),\n",
       "                                                  &lt;sklearn.compose._column_transformer.make_column_selector object at 0x7f2c88b0bd60&gt;),\n",
       "                                                 (&#x27;pipeline-2&#x27;,\n",
       "                                                  Pipeline(steps=[(&#x27;simpleimputer&#x27;,\n",
       "                                                                   SimpleImputer()),\n",
       "                                                                  (&#x27;minmaxscaler&#x27;,\n",
       "                                                                   MinMaxScaler())]),\n",
       "                                                  &lt;sklearn.compose._column_transformer.make_column_selector object at 0x7f2c14939ac0&gt;)])),\n",
       "                (&#x27;lasso&#x27;, Lasso())])</pre><b>Please rerun this cell to show the HTML repr or trust the notebook.</b></div><div class=\"sk-container\" hidden><div class=\"sk-item sk-dashed-wrapped\"><div class=\"sk-label-container\"><div class=\"sk-label sk-toggleable\"><input class=\"sk-toggleable__control sk-hidden--visually\" id=\"5cb5f81c-e016-4a20-89fb-9e9b699fd846\" type=\"checkbox\" ><label for=\"5cb5f81c-e016-4a20-89fb-9e9b699fd846\" class=\"sk-toggleable__label sk-toggleable__label-arrow\">Pipeline</label><div class=\"sk-toggleable__content\"><pre>Pipeline(steps=[(&#x27;columntransformer&#x27;,\n",
       "                 ColumnTransformer(transformers=[(&#x27;pipeline-1&#x27;,\n",
       "                                                  Pipeline(steps=[(&#x27;simpleimputer&#x27;,\n",
       "                                                                   SimpleImputer(strategy=&#x27;most_frequent&#x27;)),\n",
       "                                                                  (&#x27;onehotencoder&#x27;,\n",
       "                                                                   OneHotEncoder(handle_unknown=&#x27;ignore&#x27;,\n",
       "                                                                                 sparse=False))]),\n",
       "                                                  &lt;sklearn.compose._column_transformer.make_column_selector object at 0x7f2c88b0bd60&gt;),\n",
       "                                                 (&#x27;pipeline-2&#x27;,\n",
       "                                                  Pipeline(steps=[(&#x27;simpleimputer&#x27;,\n",
       "                                                                   SimpleImputer()),\n",
       "                                                                  (&#x27;minmaxscaler&#x27;,\n",
       "                                                                   MinMaxScaler())]),\n",
       "                                                  &lt;sklearn.compose._column_transformer.make_column_selector object at 0x7f2c14939ac0&gt;)])),\n",
       "                (&#x27;lasso&#x27;, Lasso())])</pre></div></div></div><div class=\"sk-serial\"><div class=\"sk-item sk-dashed-wrapped\"><div class=\"sk-label-container\"><div class=\"sk-label sk-toggleable\"><input class=\"sk-toggleable__control sk-hidden--visually\" id=\"3e6c8f0a-1bed-4db1-a521-b1a07dc1ca73\" type=\"checkbox\" ><label for=\"3e6c8f0a-1bed-4db1-a521-b1a07dc1ca73\" class=\"sk-toggleable__label sk-toggleable__label-arrow\">columntransformer: ColumnTransformer</label><div class=\"sk-toggleable__content\"><pre>ColumnTransformer(transformers=[(&#x27;pipeline-1&#x27;,\n",
       "                                 Pipeline(steps=[(&#x27;simpleimputer&#x27;,\n",
       "                                                  SimpleImputer(strategy=&#x27;most_frequent&#x27;)),\n",
       "                                                 (&#x27;onehotencoder&#x27;,\n",
       "                                                  OneHotEncoder(handle_unknown=&#x27;ignore&#x27;,\n",
       "                                                                sparse=False))]),\n",
       "                                 &lt;sklearn.compose._column_transformer.make_column_selector object at 0x7f2c88b0bd60&gt;),\n",
       "                                (&#x27;pipeline-2&#x27;,\n",
       "                                 Pipeline(steps=[(&#x27;simpleimputer&#x27;,\n",
       "                                                  SimpleImputer()),\n",
       "                                                 (&#x27;minmaxscaler&#x27;,\n",
       "                                                  MinMaxScaler())]),\n",
       "                                 &lt;sklearn.compose._column_transformer.make_column_selector object at 0x7f2c14939ac0&gt;)])</pre></div></div></div><div class=\"sk-parallel\"><div class=\"sk-parallel-item\"><div class=\"sk-item\"><div class=\"sk-label-container\"><div class=\"sk-label sk-toggleable\"><input class=\"sk-toggleable__control sk-hidden--visually\" id=\"25d88987-95ba-4ef2-b9e0-991b1f91c465\" type=\"checkbox\" ><label for=\"25d88987-95ba-4ef2-b9e0-991b1f91c465\" class=\"sk-toggleable__label sk-toggleable__label-arrow\">pipeline-1</label><div class=\"sk-toggleable__content\"><pre>&lt;sklearn.compose._column_transformer.make_column_selector object at 0x7f2c88b0bd60&gt;</pre></div></div></div><div class=\"sk-serial\"><div class=\"sk-item\"><div class=\"sk-serial\"><div class=\"sk-item\"><div class=\"sk-estimator sk-toggleable\"><input class=\"sk-toggleable__control sk-hidden--visually\" id=\"c57d5332-c47d-4b0c-8d51-97aa353cec47\" type=\"checkbox\" ><label for=\"c57d5332-c47d-4b0c-8d51-97aa353cec47\" class=\"sk-toggleable__label sk-toggleable__label-arrow\">SimpleImputer</label><div class=\"sk-toggleable__content\"><pre>SimpleImputer(strategy=&#x27;most_frequent&#x27;)</pre></div></div></div><div class=\"sk-item\"><div class=\"sk-estimator sk-toggleable\"><input class=\"sk-toggleable__control sk-hidden--visually\" id=\"289b6dff-9b8f-411a-9a57-710fdbe4b283\" type=\"checkbox\" ><label for=\"289b6dff-9b8f-411a-9a57-710fdbe4b283\" class=\"sk-toggleable__label sk-toggleable__label-arrow\">OneHotEncoder</label><div class=\"sk-toggleable__content\"><pre>OneHotEncoder(handle_unknown=&#x27;ignore&#x27;, sparse=False)</pre></div></div></div></div></div></div></div></div><div class=\"sk-parallel-item\"><div class=\"sk-item\"><div class=\"sk-label-container\"><div class=\"sk-label sk-toggleable\"><input class=\"sk-toggleable__control sk-hidden--visually\" id=\"4bd66c85-3b7e-4ec5-b719-f99f5660b97c\" type=\"checkbox\" ><label for=\"4bd66c85-3b7e-4ec5-b719-f99f5660b97c\" class=\"sk-toggleable__label sk-toggleable__label-arrow\">pipeline-2</label><div class=\"sk-toggleable__content\"><pre>&lt;sklearn.compose._column_transformer.make_column_selector object at 0x7f2c14939ac0&gt;</pre></div></div></div><div class=\"sk-serial\"><div class=\"sk-item\"><div class=\"sk-serial\"><div class=\"sk-item\"><div class=\"sk-estimator sk-toggleable\"><input class=\"sk-toggleable__control sk-hidden--visually\" id=\"f367d631-b1af-41e8-8284-2747bed2ace4\" type=\"checkbox\" ><label for=\"f367d631-b1af-41e8-8284-2747bed2ace4\" class=\"sk-toggleable__label sk-toggleable__label-arrow\">SimpleImputer</label><div class=\"sk-toggleable__content\"><pre>SimpleImputer()</pre></div></div></div><div class=\"sk-item\"><div class=\"sk-estimator sk-toggleable\"><input class=\"sk-toggleable__control sk-hidden--visually\" id=\"aaa3b98b-a354-4b6b-bbf3-a028a006c3c2\" type=\"checkbox\" ><label for=\"aaa3b98b-a354-4b6b-bbf3-a028a006c3c2\" class=\"sk-toggleable__label sk-toggleable__label-arrow\">MinMaxScaler</label><div class=\"sk-toggleable__content\"><pre>MinMaxScaler()</pre></div></div></div></div></div></div></div></div></div></div><div class=\"sk-item\"><div class=\"sk-estimator sk-toggleable\"><input class=\"sk-toggleable__control sk-hidden--visually\" id=\"ebcc9c28-ada3-41d4-b1a5-83ccc1bd3856\" type=\"checkbox\" ><label for=\"ebcc9c28-ada3-41d4-b1a5-83ccc1bd3856\" class=\"sk-toggleable__label sk-toggleable__label-arrow\">Lasso</label><div class=\"sk-toggleable__content\"><pre>Lasso()</pre></div></div></div></div></div></div></div>"
      ],
      "text/plain": [
       "Pipeline(steps=[('columntransformer',\n",
       "                 ColumnTransformer(transformers=[('pipeline-1',\n",
       "                                                  Pipeline(steps=[('simpleimputer',\n",
       "                                                                   SimpleImputer(strategy='most_frequent')),\n",
       "                                                                  ('onehotencoder',\n",
       "                                                                   OneHotEncoder(handle_unknown='ignore',\n",
       "                                                                                 sparse=False))]),\n",
       "                                                  <sklearn.compose._column_transformer.make_column_selector object at 0x7f2c88b0bd60>),\n",
       "                                                 ('pipeline-2',\n",
       "                                                  Pipeline(steps=[('simpleimputer',\n",
       "                                                                   SimpleImputer()),\n",
       "                                                                  ('minmaxscaler',\n",
       "                                                                   MinMaxScaler())]),\n",
       "                                                  <sklearn.compose._column_transformer.make_column_selector object at 0x7f2c14939ac0>)])),\n",
       "                ('lasso', Lasso())])"
      ]
     },
     "execution_count": 39,
     "metadata": {},
     "output_type": "execute_result"
    }
   ],
   "source": [
    "pipe_baseline.fit(X_light, y)"
   ]
  },
  {
   "cell_type": "code",
   "execution_count": 40,
   "metadata": {},
   "outputs": [],
   "source": [
    "X_test = pd.read_csv(\"data/test.csv\")"
   ]
  },
  {
   "cell_type": "code",
   "execution_count": 41,
   "metadata": {},
   "outputs": [],
   "source": [
    "X_test_light = X_test.drop(columns=[\"Id\"])[columns_light].copy()"
   ]
  },
  {
   "cell_type": "code",
   "execution_count": 42,
   "metadata": {},
   "outputs": [],
   "source": [
    "y_pred_baseline = pipe_baseline.predict(X_test_light)"
   ]
  },
  {
   "cell_type": "markdown",
   "metadata": {},
   "source": [
    "❓ Finally, store your CSV ready to be submitted as `submission_baseline.csv` in the `data` folder. Read carefully the Kaggle required format and test it below (you don't need to submit this baseline online for now)."
   ]
  },
  {
   "cell_type": "code",
   "execution_count": 43,
   "metadata": {
    "ExecuteTime": {
     "end_time": "2021-02-03T08:30:00.911236Z",
     "start_time": "2021-02-03T08:30:00.904484Z"
    }
   },
   "outputs": [],
   "source": [
    "pd.DataFrame({\"Id\" : X_test.loc[:,\"Id\"], \"SalePrice\":y_pred_baseline}).to_csv(\"data/submission_baseline.csv\", index=False)\n"
   ]
  },
  {
   "cell_type": "code",
   "execution_count": 44,
   "metadata": {},
   "outputs": [
    {
     "data": {
      "text/plain": [
       "array([111560.13141909, 129822.61377829, 175566.71859966, ...,\n",
       "       154122.43620439, 115932.02305601, 235768.86493688])"
      ]
     },
     "execution_count": 44,
     "metadata": {},
     "output_type": "execute_result"
    }
   ],
   "source": [
    "y_pred_baseline"
   ]
  },
  {
   "cell_type": "markdown",
   "metadata": {},
   "source": [
    "🧪 Test your code"
   ]
  },
  {
   "cell_type": "code",
   "execution_count": 45,
   "metadata": {
    "ExecuteTime": {
     "end_time": "2021-02-03T08:30:06.294037Z",
     "start_time": "2021-02-03T08:30:05.002420Z"
    }
   },
   "outputs": [
    {
     "name": "stdout",
     "output_type": "stream",
     "text": [
      "\u001b[1m============================= test session starts ==============================\u001b[0m\n",
      "platform linux -- Python 3.8.12, pytest-6.2.5, py-1.10.0, pluggy-1.0.0 -- /home/idriss/.pyenv/versions/lewagon/bin/python3\n",
      "cachedir: .pytest_cache\n",
      "rootdir: /home/idriss/code/OzRuby/houses_prices_kaggle_challenge\n",
      "plugins: dash-2.0.0, anyio-3.3.2\n",
      "\u001b[1mcollecting ... \u001b[0mcollected 4 items\n",
      "\n",
      "tests/test_submission_baseline.py::TestSubmissionBaseline::test_score_baseline \u001b[32mPASSED\u001b[0m\u001b[32m [ 25%]\u001b[0m\n",
      "tests/test_submission_baseline.py::TestSubmissionBaseline::test_submission_columns \u001b[32mPASSED\u001b[0m\u001b[32m [ 50%]\u001b[0m\n",
      "tests/test_submission_baseline.py::TestSubmissionBaseline::test_submission_dtypes \u001b[32mPASSED\u001b[0m\u001b[32m [ 75%]\u001b[0m\n",
      "tests/test_submission_baseline.py::TestSubmissionBaseline::test_submission_shape \u001b[32mPASSED\u001b[0m\u001b[32m [100%]\u001b[0m\n",
      "\n",
      "\u001b[32m============================== \u001b[32m\u001b[1m4 passed\u001b[0m\u001b[32m in 0.07s\u001b[0m\u001b[32m ===============================\u001b[0m\n",
      "\n",
      "\n",
      "💯 You can commit your code:\n",
      "\n",
      "\u001b[1;32mgit\u001b[39m add tests/submission_baseline.pickle\n",
      "\n",
      "\u001b[32mgit\u001b[39m commit -m \u001b[33m'Completed submission_baseline step'\u001b[39m\n",
      "\n",
      "\u001b[32mgit\u001b[39m push origin master\n"
     ]
    }
   ],
   "source": [
    "from nbresult import ChallengeResult\n",
    "tmp = pd.read_csv(\"data/submission_baseline.csv\")\n",
    "result = ChallengeResult('submission_baseline',\n",
    "    score_baseline = score_baseline,\n",
    "    submission_shape = tmp.shape,\n",
    "    submission_columns = list(tmp.columns),\n",
    "    submission_dtypes = str(list(tmp.dtypes)),\n",
    ")\n",
    "result.write()\n",
    "print(result.check())"
   ]
  },
  {
   "cell_type": "markdown",
   "metadata": {},
   "source": [
    "# 🏋️‍♀️ 2. ITERATIONS "
   ]
  },
  {
   "cell_type": "markdown",
   "metadata": {},
   "source": [
    "🎉 🎉 Congratulation for having fully pipelined a basline model! You will see now how easier it is to iterate and improve performance 🚀\n",
    "\n",
    "- Your goal is to improve your prediction and submit it by **16h30 max online**\n",
    "- We suggested you some improvements below: **Pick up your fights** and **incrementally** improve your pipeline as you see fit"
   ]
  },
  {
   "cell_type": "markdown",
   "metadata": {},
   "source": [
    "**Estimators**\n",
    "\n",
    "- **Tree-based ensembles (must try today)**: Probably the best suited for many categorical-features problems\n",
    "- Stacking !\n",
    "- XGBoost !\n",
    "\n",
    "**Preprocessing** (once your first ensemble models works)\n",
    "\n",
    "- Ordinal Encoding of categorical features with a hidden notion of order in their values (e.g. \"bad\", \"average\", good\")\n",
    "- Statistical Feature Selection to remove useless features (avoid overfitting and reduce train time)\n",
    "- Predict log(SalePrice) instead?\n",
    "- ..."
   ]
  },
  {
   "cell_type": "code",
   "execution_count": 46,
   "metadata": {},
   "outputs": [],
   "source": [
    "from sklearn.ensemble import RandomForestRegressor\n",
    "from sklearn.model_selection import GridSearchCV\n"
   ]
  },
  {
   "cell_type": "code",
   "execution_count": 47,
   "metadata": {},
   "outputs": [],
   "source": [
    "cls = RandomForestRegressor(n_jobs=-1)\n",
    "pipe_rfr = make_pipeline(preproc_baseline, cls)"
   ]
  },
  {
   "cell_type": "code",
   "execution_count": 48,
   "metadata": {},
   "outputs": [
    {
     "data": {
      "text/plain": [
       "0.14510891709029017"
      ]
     },
     "execution_count": 48,
     "metadata": {},
     "output_type": "execute_result"
    }
   ],
   "source": [
    "cross_validate(pipe_rfr, X_light, y, scoring=rmsle)[\"test_score\"].mean()"
   ]
  },
  {
   "cell_type": "code",
   "execution_count": 49,
   "metadata": {
    "collapsed": true
   },
   "outputs": [
    {
     "data": {
      "text/plain": [
       "{'memory': None,\n",
       " 'steps': [('columntransformer',\n",
       "   ColumnTransformer(transformers=[('pipeline-1',\n",
       "                                    Pipeline(steps=[('simpleimputer',\n",
       "                                                     SimpleImputer(strategy='most_frequent')),\n",
       "                                                    ('onehotencoder',\n",
       "                                                     OneHotEncoder(handle_unknown='ignore',\n",
       "                                                                   sparse=False))]),\n",
       "                                    <sklearn.compose._column_transformer.make_column_selector object at 0x7f2c88b0bd60>),\n",
       "                                   ('pipeline-2',\n",
       "                                    Pipeline(steps=[('simpleimputer',\n",
       "                                                     SimpleImputer()),\n",
       "                                                    ('minmaxscaler',\n",
       "                                                     MinMaxScaler())]),\n",
       "                                    <sklearn.compose._column_transformer.make_column_selector object at 0x7f2c14939ac0>)])),\n",
       "  ('randomforestregressor', RandomForestRegressor(n_jobs=-1))],\n",
       " 'verbose': False,\n",
       " 'columntransformer': ColumnTransformer(transformers=[('pipeline-1',\n",
       "                                  Pipeline(steps=[('simpleimputer',\n",
       "                                                   SimpleImputer(strategy='most_frequent')),\n",
       "                                                  ('onehotencoder',\n",
       "                                                   OneHotEncoder(handle_unknown='ignore',\n",
       "                                                                 sparse=False))]),\n",
       "                                  <sklearn.compose._column_transformer.make_column_selector object at 0x7f2c88b0bd60>),\n",
       "                                 ('pipeline-2',\n",
       "                                  Pipeline(steps=[('simpleimputer',\n",
       "                                                   SimpleImputer()),\n",
       "                                                  ('minmaxscaler',\n",
       "                                                   MinMaxScaler())]),\n",
       "                                  <sklearn.compose._column_transformer.make_column_selector object at 0x7f2c14939ac0>)]),\n",
       " 'randomforestregressor': RandomForestRegressor(n_jobs=-1),\n",
       " 'columntransformer__n_jobs': None,\n",
       " 'columntransformer__remainder': 'drop',\n",
       " 'columntransformer__sparse_threshold': 0.3,\n",
       " 'columntransformer__transformer_weights': None,\n",
       " 'columntransformer__transformers': [('pipeline-1',\n",
       "   Pipeline(steps=[('simpleimputer', SimpleImputer(strategy='most_frequent')),\n",
       "                   ('onehotencoder',\n",
       "                    OneHotEncoder(handle_unknown='ignore', sparse=False))]),\n",
       "   <sklearn.compose._column_transformer.make_column_selector at 0x7f2c88b0bd60>),\n",
       "  ('pipeline-2',\n",
       "   Pipeline(steps=[('simpleimputer', SimpleImputer()),\n",
       "                   ('minmaxscaler', MinMaxScaler())]),\n",
       "   <sklearn.compose._column_transformer.make_column_selector at 0x7f2c14939ac0>)],\n",
       " 'columntransformer__verbose': False,\n",
       " 'columntransformer__verbose_feature_names_out': True,\n",
       " 'columntransformer__pipeline-1': Pipeline(steps=[('simpleimputer', SimpleImputer(strategy='most_frequent')),\n",
       "                 ('onehotencoder',\n",
       "                  OneHotEncoder(handle_unknown='ignore', sparse=False))]),\n",
       " 'columntransformer__pipeline-2': Pipeline(steps=[('simpleimputer', SimpleImputer()),\n",
       "                 ('minmaxscaler', MinMaxScaler())]),\n",
       " 'columntransformer__pipeline-1__memory': None,\n",
       " 'columntransformer__pipeline-1__steps': [('simpleimputer',\n",
       "   SimpleImputer(strategy='most_frequent')),\n",
       "  ('onehotencoder', OneHotEncoder(handle_unknown='ignore', sparse=False))],\n",
       " 'columntransformer__pipeline-1__verbose': False,\n",
       " 'columntransformer__pipeline-1__simpleimputer': SimpleImputer(strategy='most_frequent'),\n",
       " 'columntransformer__pipeline-1__onehotencoder': OneHotEncoder(handle_unknown='ignore', sparse=False),\n",
       " 'columntransformer__pipeline-1__simpleimputer__add_indicator': False,\n",
       " 'columntransformer__pipeline-1__simpleimputer__copy': True,\n",
       " 'columntransformer__pipeline-1__simpleimputer__fill_value': None,\n",
       " 'columntransformer__pipeline-1__simpleimputer__missing_values': nan,\n",
       " 'columntransformer__pipeline-1__simpleimputer__strategy': 'most_frequent',\n",
       " 'columntransformer__pipeline-1__simpleimputer__verbose': 0,\n",
       " 'columntransformer__pipeline-1__onehotencoder__categories': 'auto',\n",
       " 'columntransformer__pipeline-1__onehotencoder__drop': None,\n",
       " 'columntransformer__pipeline-1__onehotencoder__dtype': numpy.float64,\n",
       " 'columntransformer__pipeline-1__onehotencoder__handle_unknown': 'ignore',\n",
       " 'columntransformer__pipeline-1__onehotencoder__sparse': False,\n",
       " 'columntransformer__pipeline-2__memory': None,\n",
       " 'columntransformer__pipeline-2__steps': [('simpleimputer', SimpleImputer()),\n",
       "  ('minmaxscaler', MinMaxScaler())],\n",
       " 'columntransformer__pipeline-2__verbose': False,\n",
       " 'columntransformer__pipeline-2__simpleimputer': SimpleImputer(),\n",
       " 'columntransformer__pipeline-2__minmaxscaler': MinMaxScaler(),\n",
       " 'columntransformer__pipeline-2__simpleimputer__add_indicator': False,\n",
       " 'columntransformer__pipeline-2__simpleimputer__copy': True,\n",
       " 'columntransformer__pipeline-2__simpleimputer__fill_value': None,\n",
       " 'columntransformer__pipeline-2__simpleimputer__missing_values': nan,\n",
       " 'columntransformer__pipeline-2__simpleimputer__strategy': 'mean',\n",
       " 'columntransformer__pipeline-2__simpleimputer__verbose': 0,\n",
       " 'columntransformer__pipeline-2__minmaxscaler__clip': False,\n",
       " 'columntransformer__pipeline-2__minmaxscaler__copy': True,\n",
       " 'columntransformer__pipeline-2__minmaxscaler__feature_range': (0, 1),\n",
       " 'randomforestregressor__bootstrap': True,\n",
       " 'randomforestregressor__ccp_alpha': 0.0,\n",
       " 'randomforestregressor__criterion': 'squared_error',\n",
       " 'randomforestregressor__max_depth': None,\n",
       " 'randomforestregressor__max_features': 'auto',\n",
       " 'randomforestregressor__max_leaf_nodes': None,\n",
       " 'randomforestregressor__max_samples': None,\n",
       " 'randomforestregressor__min_impurity_decrease': 0.0,\n",
       " 'randomforestregressor__min_samples_leaf': 1,\n",
       " 'randomforestregressor__min_samples_split': 2,\n",
       " 'randomforestregressor__min_weight_fraction_leaf': 0.0,\n",
       " 'randomforestregressor__n_estimators': 100,\n",
       " 'randomforestregressor__n_jobs': -1,\n",
       " 'randomforestregressor__oob_score': False,\n",
       " 'randomforestregressor__random_state': None,\n",
       " 'randomforestregressor__verbose': 0,\n",
       " 'randomforestregressor__warm_start': False}"
      ]
     },
     "execution_count": 49,
     "metadata": {},
     "output_type": "execute_result"
    }
   ],
   "source": [
    "pipe_rfr.get_params()"
   ]
  },
  {
   "cell_type": "code",
   "execution_count": 65,
   "metadata": {},
   "outputs": [],
   "source": [
    "param_grid={\n",
    "    #\"randomforestregressor__max_depth\":[3,4,5],\n",
    "    \"randomforestregressor__min_samples_split\" : [2,3,4,5] \n",
    "    \n",
    "}\n",
    "\n",
    "search = GridSearchCV(pipe_rfr, param_grid=param_grid, scoring=rmsle, cv=5, n_jobs=-1, verbose = 1)"
   ]
  },
  {
   "cell_type": "code",
   "execution_count": 66,
   "metadata": {},
   "outputs": [
    {
     "name": "stdout",
     "output_type": "stream",
     "text": [
      "Fitting 5 folds for each of 4 candidates, totalling 20 fits\n"
     ]
    },
    {
     "data": {
      "text/html": [
       "<style>#sk-f8886a85-2d9b-4d83-afb2-61a8192f6259 {color: black;background-color: white;}#sk-f8886a85-2d9b-4d83-afb2-61a8192f6259 pre{padding: 0;}#sk-f8886a85-2d9b-4d83-afb2-61a8192f6259 div.sk-toggleable {background-color: white;}#sk-f8886a85-2d9b-4d83-afb2-61a8192f6259 label.sk-toggleable__label {cursor: pointer;display: block;width: 100%;margin-bottom: 0;padding: 0.3em;box-sizing: border-box;text-align: center;}#sk-f8886a85-2d9b-4d83-afb2-61a8192f6259 label.sk-toggleable__label-arrow:before {content: \"▸\";float: left;margin-right: 0.25em;color: #696969;}#sk-f8886a85-2d9b-4d83-afb2-61a8192f6259 label.sk-toggleable__label-arrow:hover:before {color: black;}#sk-f8886a85-2d9b-4d83-afb2-61a8192f6259 div.sk-estimator:hover label.sk-toggleable__label-arrow:before {color: black;}#sk-f8886a85-2d9b-4d83-afb2-61a8192f6259 div.sk-toggleable__content {max-height: 0;max-width: 0;overflow: hidden;text-align: left;background-color: #f0f8ff;}#sk-f8886a85-2d9b-4d83-afb2-61a8192f6259 div.sk-toggleable__content pre {margin: 0.2em;color: black;border-radius: 0.25em;background-color: #f0f8ff;}#sk-f8886a85-2d9b-4d83-afb2-61a8192f6259 input.sk-toggleable__control:checked~div.sk-toggleable__content {max-height: 200px;max-width: 100%;overflow: auto;}#sk-f8886a85-2d9b-4d83-afb2-61a8192f6259 input.sk-toggleable__control:checked~label.sk-toggleable__label-arrow:before {content: \"▾\";}#sk-f8886a85-2d9b-4d83-afb2-61a8192f6259 div.sk-estimator input.sk-toggleable__control:checked~label.sk-toggleable__label {background-color: #d4ebff;}#sk-f8886a85-2d9b-4d83-afb2-61a8192f6259 div.sk-label input.sk-toggleable__control:checked~label.sk-toggleable__label {background-color: #d4ebff;}#sk-f8886a85-2d9b-4d83-afb2-61a8192f6259 input.sk-hidden--visually {border: 0;clip: rect(1px 1px 1px 1px);clip: rect(1px, 1px, 1px, 1px);height: 1px;margin: -1px;overflow: hidden;padding: 0;position: absolute;width: 1px;}#sk-f8886a85-2d9b-4d83-afb2-61a8192f6259 div.sk-estimator {font-family: monospace;background-color: #f0f8ff;border: 1px dotted black;border-radius: 0.25em;box-sizing: border-box;margin-bottom: 0.5em;}#sk-f8886a85-2d9b-4d83-afb2-61a8192f6259 div.sk-estimator:hover {background-color: #d4ebff;}#sk-f8886a85-2d9b-4d83-afb2-61a8192f6259 div.sk-parallel-item::after {content: \"\";width: 100%;border-bottom: 1px solid gray;flex-grow: 1;}#sk-f8886a85-2d9b-4d83-afb2-61a8192f6259 div.sk-label:hover label.sk-toggleable__label {background-color: #d4ebff;}#sk-f8886a85-2d9b-4d83-afb2-61a8192f6259 div.sk-serial::before {content: \"\";position: absolute;border-left: 1px solid gray;box-sizing: border-box;top: 2em;bottom: 0;left: 50%;}#sk-f8886a85-2d9b-4d83-afb2-61a8192f6259 div.sk-serial {display: flex;flex-direction: column;align-items: center;background-color: white;padding-right: 0.2em;padding-left: 0.2em;}#sk-f8886a85-2d9b-4d83-afb2-61a8192f6259 div.sk-item {z-index: 1;}#sk-f8886a85-2d9b-4d83-afb2-61a8192f6259 div.sk-parallel {display: flex;align-items: stretch;justify-content: center;background-color: white;}#sk-f8886a85-2d9b-4d83-afb2-61a8192f6259 div.sk-parallel::before {content: \"\";position: absolute;border-left: 1px solid gray;box-sizing: border-box;top: 2em;bottom: 0;left: 50%;}#sk-f8886a85-2d9b-4d83-afb2-61a8192f6259 div.sk-parallel-item {display: flex;flex-direction: column;position: relative;background-color: white;}#sk-f8886a85-2d9b-4d83-afb2-61a8192f6259 div.sk-parallel-item:first-child::after {align-self: flex-end;width: 50%;}#sk-f8886a85-2d9b-4d83-afb2-61a8192f6259 div.sk-parallel-item:last-child::after {align-self: flex-start;width: 50%;}#sk-f8886a85-2d9b-4d83-afb2-61a8192f6259 div.sk-parallel-item:only-child::after {width: 0;}#sk-f8886a85-2d9b-4d83-afb2-61a8192f6259 div.sk-dashed-wrapped {border: 1px dashed gray;margin: 0 0.4em 0.5em 0.4em;box-sizing: border-box;padding-bottom: 0.4em;background-color: white;position: relative;}#sk-f8886a85-2d9b-4d83-afb2-61a8192f6259 div.sk-label label {font-family: monospace;font-weight: bold;background-color: white;display: inline-block;line-height: 1.2em;}#sk-f8886a85-2d9b-4d83-afb2-61a8192f6259 div.sk-label-container {position: relative;z-index: 2;text-align: center;}#sk-f8886a85-2d9b-4d83-afb2-61a8192f6259 div.sk-container {/* jupyter's `normalize.less` sets `[hidden] { display: none; }` but bootstrap.min.css set `[hidden] { display: none !important; }` so we also need the `!important` here to be able to override the default hidden behavior on the sphinx rendered scikit-learn.org. See: https://github.com/scikit-learn/scikit-learn/issues/21755 */display: inline-block !important;position: relative;}#sk-f8886a85-2d9b-4d83-afb2-61a8192f6259 div.sk-text-repr-fallback {display: none;}</style><div id=\"sk-f8886a85-2d9b-4d83-afb2-61a8192f6259\" class=\"sk-top-container\"><div class=\"sk-text-repr-fallback\"><pre>GridSearchCV(cv=5,\n",
       "             estimator=Pipeline(steps=[(&#x27;columntransformer&#x27;,\n",
       "                                        ColumnTransformer(transformers=[(&#x27;pipeline-1&#x27;,\n",
       "                                                                         Pipeline(steps=[(&#x27;simpleimputer&#x27;,\n",
       "                                                                                          SimpleImputer(strategy=&#x27;most_frequent&#x27;)),\n",
       "                                                                                         (&#x27;onehotencoder&#x27;,\n",
       "                                                                                          OneHotEncoder(handle_unknown=&#x27;ignore&#x27;,\n",
       "                                                                                                        sparse=False))]),\n",
       "                                                                         &lt;sklearn.compose._column_transformer.make_column_selector object at 0x7f2c88b0bd60&gt;),\n",
       "                                                                        (&#x27;pipeline-2&#x27;,\n",
       "                                                                         Pipeline(steps=[(&#x27;simpleimputer&#x27;,\n",
       "                                                                                          SimpleImputer()),\n",
       "                                                                                         (&#x27;minmaxscaler&#x27;,\n",
       "                                                                                          MinMaxScaler())]),\n",
       "                                                                         &lt;sklearn.compose._column_transformer.make_column_selector object at 0x7f2c14939ac0&gt;)])),\n",
       "                                       (&#x27;randomforestregressor&#x27;,\n",
       "                                        RandomForestRegressor(n_jobs=-1))]),\n",
       "             n_jobs=-1,\n",
       "             param_grid={&#x27;randomforestregressor__min_samples_split&#x27;: [2, 3, 4,\n",
       "                                                                      5]},\n",
       "             scoring=make_scorer(log_loss), verbose=1)</pre><b>Please rerun this cell to show the HTML repr or trust the notebook.</b></div><div class=\"sk-container\" hidden><div class=\"sk-item sk-dashed-wrapped\"><div class=\"sk-label-container\"><div class=\"sk-label sk-toggleable\"><input class=\"sk-toggleable__control sk-hidden--visually\" id=\"bfd7c5ee-c4d3-4fc0-8078-d157c604a085\" type=\"checkbox\" ><label for=\"bfd7c5ee-c4d3-4fc0-8078-d157c604a085\" class=\"sk-toggleable__label sk-toggleable__label-arrow\">GridSearchCV</label><div class=\"sk-toggleable__content\"><pre>GridSearchCV(cv=5,\n",
       "             estimator=Pipeline(steps=[(&#x27;columntransformer&#x27;,\n",
       "                                        ColumnTransformer(transformers=[(&#x27;pipeline-1&#x27;,\n",
       "                                                                         Pipeline(steps=[(&#x27;simpleimputer&#x27;,\n",
       "                                                                                          SimpleImputer(strategy=&#x27;most_frequent&#x27;)),\n",
       "                                                                                         (&#x27;onehotencoder&#x27;,\n",
       "                                                                                          OneHotEncoder(handle_unknown=&#x27;ignore&#x27;,\n",
       "                                                                                                        sparse=False))]),\n",
       "                                                                         &lt;sklearn.compose._column_transformer.make_column_selector object at 0x7f2c88b0bd60&gt;),\n",
       "                                                                        (&#x27;pipeline-2&#x27;,\n",
       "                                                                         Pipeline(steps=[(&#x27;simpleimputer&#x27;,\n",
       "                                                                                          SimpleImputer()),\n",
       "                                                                                         (&#x27;minmaxscaler&#x27;,\n",
       "                                                                                          MinMaxScaler())]),\n",
       "                                                                         &lt;sklearn.compose._column_transformer.make_column_selector object at 0x7f2c14939ac0&gt;)])),\n",
       "                                       (&#x27;randomforestregressor&#x27;,\n",
       "                                        RandomForestRegressor(n_jobs=-1))]),\n",
       "             n_jobs=-1,\n",
       "             param_grid={&#x27;randomforestregressor__min_samples_split&#x27;: [2, 3, 4,\n",
       "                                                                      5]},\n",
       "             scoring=make_scorer(log_loss), verbose=1)</pre></div></div></div><div class=\"sk-parallel\"><div class=\"sk-parallel-item\"><div class=\"sk-item\"><div class=\"sk-serial\"><div class=\"sk-item\"><div class=\"sk-serial\"><div class=\"sk-item sk-dashed-wrapped\"><div class=\"sk-label-container\"><div class=\"sk-label sk-toggleable\"><input class=\"sk-toggleable__control sk-hidden--visually\" id=\"494cb5e2-a34f-4d47-af5c-03d796d3cbbe\" type=\"checkbox\" ><label for=\"494cb5e2-a34f-4d47-af5c-03d796d3cbbe\" class=\"sk-toggleable__label sk-toggleable__label-arrow\">columntransformer: ColumnTransformer</label><div class=\"sk-toggleable__content\"><pre>ColumnTransformer(transformers=[(&#x27;pipeline-1&#x27;,\n",
       "                                 Pipeline(steps=[(&#x27;simpleimputer&#x27;,\n",
       "                                                  SimpleImputer(strategy=&#x27;most_frequent&#x27;)),\n",
       "                                                 (&#x27;onehotencoder&#x27;,\n",
       "                                                  OneHotEncoder(handle_unknown=&#x27;ignore&#x27;,\n",
       "                                                                sparse=False))]),\n",
       "                                 &lt;sklearn.compose._column_transformer.make_column_selector object at 0x7f2c88b0bd60&gt;),\n",
       "                                (&#x27;pipeline-2&#x27;,\n",
       "                                 Pipeline(steps=[(&#x27;simpleimputer&#x27;,\n",
       "                                                  SimpleImputer()),\n",
       "                                                 (&#x27;minmaxscaler&#x27;,\n",
       "                                                  MinMaxScaler())]),\n",
       "                                 &lt;sklearn.compose._column_transformer.make_column_selector object at 0x7f2c14939ac0&gt;)])</pre></div></div></div><div class=\"sk-parallel\"><div class=\"sk-parallel-item\"><div class=\"sk-item\"><div class=\"sk-label-container\"><div class=\"sk-label sk-toggleable\"><input class=\"sk-toggleable__control sk-hidden--visually\" id=\"cc76fc3c-5181-4f8b-9488-533206532904\" type=\"checkbox\" ><label for=\"cc76fc3c-5181-4f8b-9488-533206532904\" class=\"sk-toggleable__label sk-toggleable__label-arrow\">pipeline-1</label><div class=\"sk-toggleable__content\"><pre>&lt;sklearn.compose._column_transformer.make_column_selector object at 0x7f2c88b0bd60&gt;</pre></div></div></div><div class=\"sk-serial\"><div class=\"sk-item\"><div class=\"sk-serial\"><div class=\"sk-item\"><div class=\"sk-estimator sk-toggleable\"><input class=\"sk-toggleable__control sk-hidden--visually\" id=\"60cb7fa4-4423-4423-8671-71a7df774c29\" type=\"checkbox\" ><label for=\"60cb7fa4-4423-4423-8671-71a7df774c29\" class=\"sk-toggleable__label sk-toggleable__label-arrow\">SimpleImputer</label><div class=\"sk-toggleable__content\"><pre>SimpleImputer(strategy=&#x27;most_frequent&#x27;)</pre></div></div></div><div class=\"sk-item\"><div class=\"sk-estimator sk-toggleable\"><input class=\"sk-toggleable__control sk-hidden--visually\" id=\"9392254f-f2aa-48a7-9dbb-aa82237f7bcc\" type=\"checkbox\" ><label for=\"9392254f-f2aa-48a7-9dbb-aa82237f7bcc\" class=\"sk-toggleable__label sk-toggleable__label-arrow\">OneHotEncoder</label><div class=\"sk-toggleable__content\"><pre>OneHotEncoder(handle_unknown=&#x27;ignore&#x27;, sparse=False)</pre></div></div></div></div></div></div></div></div><div class=\"sk-parallel-item\"><div class=\"sk-item\"><div class=\"sk-label-container\"><div class=\"sk-label sk-toggleable\"><input class=\"sk-toggleable__control sk-hidden--visually\" id=\"42927c06-0387-453f-bdbf-2be36453c7f9\" type=\"checkbox\" ><label for=\"42927c06-0387-453f-bdbf-2be36453c7f9\" class=\"sk-toggleable__label sk-toggleable__label-arrow\">pipeline-2</label><div class=\"sk-toggleable__content\"><pre>&lt;sklearn.compose._column_transformer.make_column_selector object at 0x7f2c14939ac0&gt;</pre></div></div></div><div class=\"sk-serial\"><div class=\"sk-item\"><div class=\"sk-serial\"><div class=\"sk-item\"><div class=\"sk-estimator sk-toggleable\"><input class=\"sk-toggleable__control sk-hidden--visually\" id=\"16a3a05a-3736-4041-8ed9-91b005a53dea\" type=\"checkbox\" ><label for=\"16a3a05a-3736-4041-8ed9-91b005a53dea\" class=\"sk-toggleable__label sk-toggleable__label-arrow\">SimpleImputer</label><div class=\"sk-toggleable__content\"><pre>SimpleImputer()</pre></div></div></div><div class=\"sk-item\"><div class=\"sk-estimator sk-toggleable\"><input class=\"sk-toggleable__control sk-hidden--visually\" id=\"a78094a6-4933-4213-851f-a2e892f1de9b\" type=\"checkbox\" ><label for=\"a78094a6-4933-4213-851f-a2e892f1de9b\" class=\"sk-toggleable__label sk-toggleable__label-arrow\">MinMaxScaler</label><div class=\"sk-toggleable__content\"><pre>MinMaxScaler()</pre></div></div></div></div></div></div></div></div></div></div><div class=\"sk-item\"><div class=\"sk-estimator sk-toggleable\"><input class=\"sk-toggleable__control sk-hidden--visually\" id=\"ba622c24-f361-434b-be6c-05ca705c1290\" type=\"checkbox\" ><label for=\"ba622c24-f361-434b-be6c-05ca705c1290\" class=\"sk-toggleable__label sk-toggleable__label-arrow\">RandomForestRegressor</label><div class=\"sk-toggleable__content\"><pre>RandomForestRegressor(n_jobs=-1)</pre></div></div></div></div></div></div></div></div></div></div></div></div>"
      ],
      "text/plain": [
       "GridSearchCV(cv=5,\n",
       "             estimator=Pipeline(steps=[('columntransformer',\n",
       "                                        ColumnTransformer(transformers=[('pipeline-1',\n",
       "                                                                         Pipeline(steps=[('simpleimputer',\n",
       "                                                                                          SimpleImputer(strategy='most_frequent')),\n",
       "                                                                                         ('onehotencoder',\n",
       "                                                                                          OneHotEncoder(handle_unknown='ignore',\n",
       "                                                                                                        sparse=False))]),\n",
       "                                                                         <sklearn.compose._column_transformer.make_column_selector object at 0x7f2c88b0bd60>),\n",
       "                                                                        ('pipeline-2',\n",
       "                                                                         Pipeline(steps=[('simpleimputer',\n",
       "                                                                                          SimpleImputer()),\n",
       "                                                                                         ('minmaxscaler',\n",
       "                                                                                          MinMaxScaler())]),\n",
       "                                                                         <sklearn.compose._column_transformer.make_column_selector object at 0x7f2c14939ac0>)])),\n",
       "                                       ('randomforestregressor',\n",
       "                                        RandomForestRegressor(n_jobs=-1))]),\n",
       "             n_jobs=-1,\n",
       "             param_grid={'randomforestregressor__min_samples_split': [2, 3, 4,\n",
       "                                                                      5]},\n",
       "             scoring=make_scorer(log_loss), verbose=1)"
      ]
     },
     "execution_count": 66,
     "metadata": {},
     "output_type": "execute_result"
    }
   ],
   "source": [
    "search.fit(X_light,y)"
   ]
  },
  {
   "cell_type": "code",
   "execution_count": 67,
   "metadata": {},
   "outputs": [
    {
     "data": {
      "text/plain": [
       "{'randomforestregressor__min_samples_split': 5}"
      ]
     },
     "execution_count": 67,
     "metadata": {},
     "output_type": "execute_result"
    }
   ],
   "source": [
    "search.best_params_"
   ]
  },
  {
   "cell_type": "code",
   "execution_count": 68,
   "metadata": {},
   "outputs": [
    {
     "data": {
      "text/plain": [
       "0.14682249849968018"
      ]
     },
     "execution_count": 68,
     "metadata": {},
     "output_type": "execute_result"
    }
   ],
   "source": [
    "search.best_score_"
   ]
  },
  {
   "cell_type": "code",
   "execution_count": 54,
   "metadata": {},
   "outputs": [
    {
     "data": {
      "text/html": [
       "<style>#sk-ce0f8b96-c2c1-433d-ac37-d04f5eb50253 {color: black;background-color: white;}#sk-ce0f8b96-c2c1-433d-ac37-d04f5eb50253 pre{padding: 0;}#sk-ce0f8b96-c2c1-433d-ac37-d04f5eb50253 div.sk-toggleable {background-color: white;}#sk-ce0f8b96-c2c1-433d-ac37-d04f5eb50253 label.sk-toggleable__label {cursor: pointer;display: block;width: 100%;margin-bottom: 0;padding: 0.3em;box-sizing: border-box;text-align: center;}#sk-ce0f8b96-c2c1-433d-ac37-d04f5eb50253 label.sk-toggleable__label-arrow:before {content: \"▸\";float: left;margin-right: 0.25em;color: #696969;}#sk-ce0f8b96-c2c1-433d-ac37-d04f5eb50253 label.sk-toggleable__label-arrow:hover:before {color: black;}#sk-ce0f8b96-c2c1-433d-ac37-d04f5eb50253 div.sk-estimator:hover label.sk-toggleable__label-arrow:before {color: black;}#sk-ce0f8b96-c2c1-433d-ac37-d04f5eb50253 div.sk-toggleable__content {max-height: 0;max-width: 0;overflow: hidden;text-align: left;background-color: #f0f8ff;}#sk-ce0f8b96-c2c1-433d-ac37-d04f5eb50253 div.sk-toggleable__content pre {margin: 0.2em;color: black;border-radius: 0.25em;background-color: #f0f8ff;}#sk-ce0f8b96-c2c1-433d-ac37-d04f5eb50253 input.sk-toggleable__control:checked~div.sk-toggleable__content {max-height: 200px;max-width: 100%;overflow: auto;}#sk-ce0f8b96-c2c1-433d-ac37-d04f5eb50253 input.sk-toggleable__control:checked~label.sk-toggleable__label-arrow:before {content: \"▾\";}#sk-ce0f8b96-c2c1-433d-ac37-d04f5eb50253 div.sk-estimator input.sk-toggleable__control:checked~label.sk-toggleable__label {background-color: #d4ebff;}#sk-ce0f8b96-c2c1-433d-ac37-d04f5eb50253 div.sk-label input.sk-toggleable__control:checked~label.sk-toggleable__label {background-color: #d4ebff;}#sk-ce0f8b96-c2c1-433d-ac37-d04f5eb50253 input.sk-hidden--visually {border: 0;clip: rect(1px 1px 1px 1px);clip: rect(1px, 1px, 1px, 1px);height: 1px;margin: -1px;overflow: hidden;padding: 0;position: absolute;width: 1px;}#sk-ce0f8b96-c2c1-433d-ac37-d04f5eb50253 div.sk-estimator {font-family: monospace;background-color: #f0f8ff;border: 1px dotted black;border-radius: 0.25em;box-sizing: border-box;margin-bottom: 0.5em;}#sk-ce0f8b96-c2c1-433d-ac37-d04f5eb50253 div.sk-estimator:hover {background-color: #d4ebff;}#sk-ce0f8b96-c2c1-433d-ac37-d04f5eb50253 div.sk-parallel-item::after {content: \"\";width: 100%;border-bottom: 1px solid gray;flex-grow: 1;}#sk-ce0f8b96-c2c1-433d-ac37-d04f5eb50253 div.sk-label:hover label.sk-toggleable__label {background-color: #d4ebff;}#sk-ce0f8b96-c2c1-433d-ac37-d04f5eb50253 div.sk-serial::before {content: \"\";position: absolute;border-left: 1px solid gray;box-sizing: border-box;top: 2em;bottom: 0;left: 50%;}#sk-ce0f8b96-c2c1-433d-ac37-d04f5eb50253 div.sk-serial {display: flex;flex-direction: column;align-items: center;background-color: white;padding-right: 0.2em;padding-left: 0.2em;}#sk-ce0f8b96-c2c1-433d-ac37-d04f5eb50253 div.sk-item {z-index: 1;}#sk-ce0f8b96-c2c1-433d-ac37-d04f5eb50253 div.sk-parallel {display: flex;align-items: stretch;justify-content: center;background-color: white;}#sk-ce0f8b96-c2c1-433d-ac37-d04f5eb50253 div.sk-parallel::before {content: \"\";position: absolute;border-left: 1px solid gray;box-sizing: border-box;top: 2em;bottom: 0;left: 50%;}#sk-ce0f8b96-c2c1-433d-ac37-d04f5eb50253 div.sk-parallel-item {display: flex;flex-direction: column;position: relative;background-color: white;}#sk-ce0f8b96-c2c1-433d-ac37-d04f5eb50253 div.sk-parallel-item:first-child::after {align-self: flex-end;width: 50%;}#sk-ce0f8b96-c2c1-433d-ac37-d04f5eb50253 div.sk-parallel-item:last-child::after {align-self: flex-start;width: 50%;}#sk-ce0f8b96-c2c1-433d-ac37-d04f5eb50253 div.sk-parallel-item:only-child::after {width: 0;}#sk-ce0f8b96-c2c1-433d-ac37-d04f5eb50253 div.sk-dashed-wrapped {border: 1px dashed gray;margin: 0 0.4em 0.5em 0.4em;box-sizing: border-box;padding-bottom: 0.4em;background-color: white;position: relative;}#sk-ce0f8b96-c2c1-433d-ac37-d04f5eb50253 div.sk-label label {font-family: monospace;font-weight: bold;background-color: white;display: inline-block;line-height: 1.2em;}#sk-ce0f8b96-c2c1-433d-ac37-d04f5eb50253 div.sk-label-container {position: relative;z-index: 2;text-align: center;}#sk-ce0f8b96-c2c1-433d-ac37-d04f5eb50253 div.sk-container {/* jupyter's `normalize.less` sets `[hidden] { display: none; }` but bootstrap.min.css set `[hidden] { display: none !important; }` so we also need the `!important` here to be able to override the default hidden behavior on the sphinx rendered scikit-learn.org. See: https://github.com/scikit-learn/scikit-learn/issues/21755 */display: inline-block !important;position: relative;}#sk-ce0f8b96-c2c1-433d-ac37-d04f5eb50253 div.sk-text-repr-fallback {display: none;}</style><div id=\"sk-ce0f8b96-c2c1-433d-ac37-d04f5eb50253\" class=\"sk-top-container\"><div class=\"sk-text-repr-fallback\"><pre>Pipeline(steps=[(&#x27;columntransformer&#x27;,\n",
       "                 ColumnTransformer(transformers=[(&#x27;pipeline-1&#x27;,\n",
       "                                                  Pipeline(steps=[(&#x27;simpleimputer&#x27;,\n",
       "                                                                   SimpleImputer(strategy=&#x27;most_frequent&#x27;)),\n",
       "                                                                  (&#x27;onehotencoder&#x27;,\n",
       "                                                                   OneHotEncoder(handle_unknown=&#x27;ignore&#x27;,\n",
       "                                                                                 sparse=False))]),\n",
       "                                                  &lt;sklearn.compose._column_transformer.make_column_selector object at 0x7f2c7fea7250&gt;),\n",
       "                                                 (&#x27;pipeline-2&#x27;,\n",
       "                                                  Pipeline(steps=[(&#x27;simpleimputer&#x27;,\n",
       "                                                                   SimpleImputer()),\n",
       "                                                                  (&#x27;minmaxscaler&#x27;,\n",
       "                                                                   MinMaxScaler())]),\n",
       "                                                  &lt;sklearn.compose._column_transformer.make_column_selector object at 0x7f2c7fea7730&gt;)])),\n",
       "                (&#x27;randomforestregressor&#x27;,\n",
       "                 RandomForestRegressor(min_samples_split=5, n_jobs=-1))])</pre><b>Please rerun this cell to show the HTML repr or trust the notebook.</b></div><div class=\"sk-container\" hidden><div class=\"sk-item sk-dashed-wrapped\"><div class=\"sk-label-container\"><div class=\"sk-label sk-toggleable\"><input class=\"sk-toggleable__control sk-hidden--visually\" id=\"9f9a25c5-a9dd-45f7-9da7-015c6b76e25a\" type=\"checkbox\" ><label for=\"9f9a25c5-a9dd-45f7-9da7-015c6b76e25a\" class=\"sk-toggleable__label sk-toggleable__label-arrow\">Pipeline</label><div class=\"sk-toggleable__content\"><pre>Pipeline(steps=[(&#x27;columntransformer&#x27;,\n",
       "                 ColumnTransformer(transformers=[(&#x27;pipeline-1&#x27;,\n",
       "                                                  Pipeline(steps=[(&#x27;simpleimputer&#x27;,\n",
       "                                                                   SimpleImputer(strategy=&#x27;most_frequent&#x27;)),\n",
       "                                                                  (&#x27;onehotencoder&#x27;,\n",
       "                                                                   OneHotEncoder(handle_unknown=&#x27;ignore&#x27;,\n",
       "                                                                                 sparse=False))]),\n",
       "                                                  &lt;sklearn.compose._column_transformer.make_column_selector object at 0x7f2c7fea7250&gt;),\n",
       "                                                 (&#x27;pipeline-2&#x27;,\n",
       "                                                  Pipeline(steps=[(&#x27;simpleimputer&#x27;,\n",
       "                                                                   SimpleImputer()),\n",
       "                                                                  (&#x27;minmaxscaler&#x27;,\n",
       "                                                                   MinMaxScaler())]),\n",
       "                                                  &lt;sklearn.compose._column_transformer.make_column_selector object at 0x7f2c7fea7730&gt;)])),\n",
       "                (&#x27;randomforestregressor&#x27;,\n",
       "                 RandomForestRegressor(min_samples_split=5, n_jobs=-1))])</pre></div></div></div><div class=\"sk-serial\"><div class=\"sk-item sk-dashed-wrapped\"><div class=\"sk-label-container\"><div class=\"sk-label sk-toggleable\"><input class=\"sk-toggleable__control sk-hidden--visually\" id=\"0291914e-aebc-4b59-a581-1752762675df\" type=\"checkbox\" ><label for=\"0291914e-aebc-4b59-a581-1752762675df\" class=\"sk-toggleable__label sk-toggleable__label-arrow\">columntransformer: ColumnTransformer</label><div class=\"sk-toggleable__content\"><pre>ColumnTransformer(transformers=[(&#x27;pipeline-1&#x27;,\n",
       "                                 Pipeline(steps=[(&#x27;simpleimputer&#x27;,\n",
       "                                                  SimpleImputer(strategy=&#x27;most_frequent&#x27;)),\n",
       "                                                 (&#x27;onehotencoder&#x27;,\n",
       "                                                  OneHotEncoder(handle_unknown=&#x27;ignore&#x27;,\n",
       "                                                                sparse=False))]),\n",
       "                                 &lt;sklearn.compose._column_transformer.make_column_selector object at 0x7f2c7fea7250&gt;),\n",
       "                                (&#x27;pipeline-2&#x27;,\n",
       "                                 Pipeline(steps=[(&#x27;simpleimputer&#x27;,\n",
       "                                                  SimpleImputer()),\n",
       "                                                 (&#x27;minmaxscaler&#x27;,\n",
       "                                                  MinMaxScaler())]),\n",
       "                                 &lt;sklearn.compose._column_transformer.make_column_selector object at 0x7f2c7fea7730&gt;)])</pre></div></div></div><div class=\"sk-parallel\"><div class=\"sk-parallel-item\"><div class=\"sk-item\"><div class=\"sk-label-container\"><div class=\"sk-label sk-toggleable\"><input class=\"sk-toggleable__control sk-hidden--visually\" id=\"63285ca8-66df-45ef-9bfc-6eb8b91d0120\" type=\"checkbox\" ><label for=\"63285ca8-66df-45ef-9bfc-6eb8b91d0120\" class=\"sk-toggleable__label sk-toggleable__label-arrow\">pipeline-1</label><div class=\"sk-toggleable__content\"><pre>&lt;sklearn.compose._column_transformer.make_column_selector object at 0x7f2c7fea7250&gt;</pre></div></div></div><div class=\"sk-serial\"><div class=\"sk-item\"><div class=\"sk-serial\"><div class=\"sk-item\"><div class=\"sk-estimator sk-toggleable\"><input class=\"sk-toggleable__control sk-hidden--visually\" id=\"7a97473a-41de-4697-a95a-de1001479179\" type=\"checkbox\" ><label for=\"7a97473a-41de-4697-a95a-de1001479179\" class=\"sk-toggleable__label sk-toggleable__label-arrow\">SimpleImputer</label><div class=\"sk-toggleable__content\"><pre>SimpleImputer(strategy=&#x27;most_frequent&#x27;)</pre></div></div></div><div class=\"sk-item\"><div class=\"sk-estimator sk-toggleable\"><input class=\"sk-toggleable__control sk-hidden--visually\" id=\"b54789d2-3bd4-4f29-a1d5-95c0a13e0f34\" type=\"checkbox\" ><label for=\"b54789d2-3bd4-4f29-a1d5-95c0a13e0f34\" class=\"sk-toggleable__label sk-toggleable__label-arrow\">OneHotEncoder</label><div class=\"sk-toggleable__content\"><pre>OneHotEncoder(handle_unknown=&#x27;ignore&#x27;, sparse=False)</pre></div></div></div></div></div></div></div></div><div class=\"sk-parallel-item\"><div class=\"sk-item\"><div class=\"sk-label-container\"><div class=\"sk-label sk-toggleable\"><input class=\"sk-toggleable__control sk-hidden--visually\" id=\"eb827754-cca3-4a38-a237-0201eecd64c6\" type=\"checkbox\" ><label for=\"eb827754-cca3-4a38-a237-0201eecd64c6\" class=\"sk-toggleable__label sk-toggleable__label-arrow\">pipeline-2</label><div class=\"sk-toggleable__content\"><pre>&lt;sklearn.compose._column_transformer.make_column_selector object at 0x7f2c7fea7730&gt;</pre></div></div></div><div class=\"sk-serial\"><div class=\"sk-item\"><div class=\"sk-serial\"><div class=\"sk-item\"><div class=\"sk-estimator sk-toggleable\"><input class=\"sk-toggleable__control sk-hidden--visually\" id=\"36a23e89-89e1-4336-ae9b-7b591a6b2726\" type=\"checkbox\" ><label for=\"36a23e89-89e1-4336-ae9b-7b591a6b2726\" class=\"sk-toggleable__label sk-toggleable__label-arrow\">SimpleImputer</label><div class=\"sk-toggleable__content\"><pre>SimpleImputer()</pre></div></div></div><div class=\"sk-item\"><div class=\"sk-estimator sk-toggleable\"><input class=\"sk-toggleable__control sk-hidden--visually\" id=\"0f5b6199-d545-4c14-b9cf-bc11c06effbd\" type=\"checkbox\" ><label for=\"0f5b6199-d545-4c14-b9cf-bc11c06effbd\" class=\"sk-toggleable__label sk-toggleable__label-arrow\">MinMaxScaler</label><div class=\"sk-toggleable__content\"><pre>MinMaxScaler()</pre></div></div></div></div></div></div></div></div></div></div><div class=\"sk-item\"><div class=\"sk-estimator sk-toggleable\"><input class=\"sk-toggleable__control sk-hidden--visually\" id=\"49973e68-f028-4bd9-a337-60a197f2345c\" type=\"checkbox\" ><label for=\"49973e68-f028-4bd9-a337-60a197f2345c\" class=\"sk-toggleable__label sk-toggleable__label-arrow\">RandomForestRegressor</label><div class=\"sk-toggleable__content\"><pre>RandomForestRegressor(min_samples_split=5, n_jobs=-1)</pre></div></div></div></div></div></div></div>"
      ],
      "text/plain": [
       "Pipeline(steps=[('columntransformer',\n",
       "                 ColumnTransformer(transformers=[('pipeline-1',\n",
       "                                                  Pipeline(steps=[('simpleimputer',\n",
       "                                                                   SimpleImputer(strategy='most_frequent')),\n",
       "                                                                  ('onehotencoder',\n",
       "                                                                   OneHotEncoder(handle_unknown='ignore',\n",
       "                                                                                 sparse=False))]),\n",
       "                                                  <sklearn.compose._column_transformer.make_column_selector object at 0x7f2c7fea7250>),\n",
       "                                                 ('pipeline-2',\n",
       "                                                  Pipeline(steps=[('simpleimputer',\n",
       "                                                                   SimpleImputer()),\n",
       "                                                                  ('minmaxscaler',\n",
       "                                                                   MinMaxScaler())]),\n",
       "                                                  <sklearn.compose._column_transformer.make_column_selector object at 0x7f2c7fea7730>)])),\n",
       "                ('randomforestregressor',\n",
       "                 RandomForestRegressor(min_samples_split=5, n_jobs=-1))])"
      ]
     },
     "execution_count": 54,
     "metadata": {},
     "output_type": "execute_result"
    }
   ],
   "source": [
    "search.best_estimator_.fit(X_light,y)"
   ]
  },
  {
   "cell_type": "code",
   "execution_count": 55,
   "metadata": {},
   "outputs": [],
   "source": [
    "y_pred_rfr = search.best_estimator_.predict(X_test_light)"
   ]
  },
  {
   "cell_type": "code",
   "execution_count": 56,
   "metadata": {},
   "outputs": [],
   "source": [
    "pd.DataFrame({\"Id\" : X_test.loc[:,\"Id\"], \"SalePrice\":y_pred_rfr}).to_csv(\"data/submission_randomForest_1.csv\", index=False)\n"
   ]
  },
  {
   "cell_type": "markdown",
   "metadata": {},
   "source": [
    "## 2.1 Preprocessing Iteration ♲ \n",
    "(**⚠️ come back here only after you have iterated on your estimators on section 2.2)**\n",
    "\n",
    "⏩ Collapse me if you don't use me!"
   ]
  },
  {
   "cell_type": "markdown",
   "metadata": {},
   "source": [
    "### a) Ordinal Encoding (1h)"
   ]
  },
  {
   "cell_type": "markdown",
   "metadata": {},
   "source": [
    "❓ Look at the following feature below. Couldn't it be encoded numerically in a wise manner?\n",
    "```\n",
    "ExterQual: Evaluates the quality of the material on the exterior \n",
    "\t\t\n",
    "       Ex\tExcellent\n",
    "       Gd\tGood\n",
    "       TA\tAverage/Typical\n",
    "       Fa\tFair\n",
    "       Po\tPoor\n",
    "```"
   ]
  },
  {
   "cell_type": "markdown",
   "metadata": {},
   "source": [
    "💡 Luckily, the `OrdinalEncoder` and its argument `categories`  allows us to do just that. Check it out below and make sure to understand how this works"
   ]
  },
  {
   "cell_type": "code",
   "execution_count": 69,
   "metadata": {},
   "outputs": [
    {
     "data": {
      "text/plain": [
       "TA    906\n",
       "Gd    488\n",
       "Ex     52\n",
       "Fa     14\n",
       "Name: ExterQual, dtype: int64"
      ]
     },
     "execution_count": 69,
     "metadata": {},
     "output_type": "execute_result"
    }
   ],
   "source": [
    "X_light.ExterQual.value_counts()"
   ]
  },
  {
   "cell_type": "code",
   "execution_count": 75,
   "metadata": {
    "ExecuteTime": {
     "end_time": "2021-02-02T15:51:51.765333Z",
     "start_time": "2021-02-02T15:51:51.758709Z"
    }
   },
   "outputs": [
    {
     "data": {
      "text/plain": [
       "array([[ 0.,  0.],\n",
       "       [-1.,  1.],\n",
       "       [ 2.,  2.],\n",
       "       [ 0., -1.]])"
      ]
     },
     "execution_count": 75,
     "metadata": {},
     "output_type": "execute_result"
    }
   ],
   "source": [
    "# Define specific order for features\n",
    "# Note: if you change this order, it will change the output for .transform()\n",
    "feature_A_sorted_values = ['bad', 'average', 'good'] \n",
    "feature_B_sorted_values = ['dirty', 'clean', 'new']\n",
    "\n",
    "encoder = OrdinalEncoder(\n",
    "    categories=[\n",
    "        feature_A_sorted_values,\n",
    "        feature_B_sorted_values\n",
    "    ],\n",
    "    handle_unknown=\"use_encoded_value\",\n",
    "    unknown_value=-1\n",
    ")\n",
    "\n",
    "# Just some random training data\n",
    "XX = [\n",
    "    ['good', 'dirty'],\n",
    "    ['bad', 'new'],\n",
    "    ['average', 'clean'],\n",
    "]\n",
    "\n",
    "encoder.fit(XX)\n",
    "\n",
    "encoder.transform([\n",
    "        ['bad', \"dirty\"],\n",
    "        [\"clean\", \"clean\"],\n",
    "        ['good', 'new'],\n",
    "        ['bad', 'oooops never seen this label before']\n",
    "])"
   ]
  },
  {
   "cell_type": "markdown",
   "metadata": {},
   "source": [
    "---\n",
    "❓ **Your turn**: split your categorical preprocessor into\n",
    "\n",
    "- `preproc_ordinal` to ordinally encode **some features** of your choice\n",
    "- `preproc_nominal` to one hot encode the other ones\n",
    "\n",
    "\n",
    "<details>\n",
    "    <summary>Hints</summary>\n",
    "\n",
    "- You won't be able to avoid hard-coding names and ordered values of features! Be tidy!\n",
    "- It's a good practice to sort alphabetically your features to avoid bad surprises\n",
    "</details>"
   ]
  },
  {
   "cell_type": "code",
   "execution_count": 83,
   "metadata": {
    "ExecuteTime": {
     "end_time": "2021-02-02T16:11:15.997343Z",
     "start_time": "2021-02-02T16:11:15.977031Z"
    },
    "collapsed": true
   },
   "outputs": [
    {
     "data": {
      "text/plain": [
       "['1stFlrSF',\n",
       " '2ndFlrSF',\n",
       " '3SsnPorch',\n",
       " 'Alley',\n",
       " 'BedroomAbvGr',\n",
       " 'BldgType',\n",
       " 'BsmtCond',\n",
       " 'BsmtExposure',\n",
       " 'BsmtFinSF1',\n",
       " 'BsmtFinSF2',\n",
       " 'BsmtFinType1',\n",
       " 'BsmtFinType2',\n",
       " 'BsmtFullBath',\n",
       " 'BsmtHalfBath',\n",
       " 'BsmtQual',\n",
       " 'BsmtUnfSF',\n",
       " 'CentralAir',\n",
       " 'Electrical',\n",
       " 'EnclosedPorch',\n",
       " 'ExterCond',\n",
       " 'ExterQual',\n",
       " 'Fence',\n",
       " 'FireplaceQu',\n",
       " 'Fireplaces',\n",
       " 'Foundation',\n",
       " 'FullBath',\n",
       " 'GarageArea',\n",
       " 'GarageCars',\n",
       " 'GarageCond',\n",
       " 'GarageFinish',\n",
       " 'GarageQual',\n",
       " 'GarageType',\n",
       " 'GarageYrBlt',\n",
       " 'GrLivArea',\n",
       " 'HalfBath',\n",
       " 'Heating',\n",
       " 'HeatingQC',\n",
       " 'KitchenAbvGr',\n",
       " 'KitchenQual',\n",
       " 'LandContour',\n",
       " 'LandSlope',\n",
       " 'LotArea',\n",
       " 'LotConfig',\n",
       " 'LotFrontage',\n",
       " 'LotShape',\n",
       " 'LowQualFinSF',\n",
       " 'MSSubClass',\n",
       " 'MSZoning',\n",
       " 'MasVnrArea',\n",
       " 'MasVnrType',\n",
       " 'MiscFeature',\n",
       " 'MiscVal',\n",
       " 'MoSold',\n",
       " 'OpenPorchSF',\n",
       " 'OverallCond',\n",
       " 'OverallQual',\n",
       " 'PavedDrive',\n",
       " 'PoolArea',\n",
       " 'PoolQC',\n",
       " 'RoofStyle',\n",
       " 'SaleCondition',\n",
       " 'ScreenPorch',\n",
       " 'Street',\n",
       " 'TotRmsAbvGrd',\n",
       " 'TotalBsmtSF',\n",
       " 'Utilities',\n",
       " 'WoodDeckSF',\n",
       " 'YearBuilt',\n",
       " 'YearRemodAdd',\n",
       " 'YrSold']"
      ]
     },
     "execution_count": 83,
     "metadata": {},
     "output_type": "execute_result"
    }
   ],
   "source": [
    "sorted(X_light.columns)"
   ]
  },
  {
   "cell_type": "code",
   "execution_count": 88,
   "metadata": {},
   "outputs": [],
   "source": [
    "X_light_sorted = X_light[sorted(X_light.columns)].copy()"
   ]
  },
  {
   "cell_type": "code",
   "execution_count": 93,
   "metadata": {},
   "outputs": [
    {
     "data": {
      "text/html": [
       "<div>\n",
       "<style scoped>\n",
       "    .dataframe tbody tr th:only-of-type {\n",
       "        vertical-align: middle;\n",
       "    }\n",
       "\n",
       "    .dataframe tbody tr th {\n",
       "        vertical-align: top;\n",
       "    }\n",
       "\n",
       "    .dataframe thead th {\n",
       "        text-align: right;\n",
       "    }\n",
       "</style>\n",
       "<table border=\"1\" class=\"dataframe\">\n",
       "  <thead>\n",
       "    <tr style=\"text-align: right;\">\n",
       "      <th></th>\n",
       "      <th>1stFlrSF</th>\n",
       "      <th>2ndFlrSF</th>\n",
       "      <th>3SsnPorch</th>\n",
       "      <th>Alley</th>\n",
       "      <th>BedroomAbvGr</th>\n",
       "      <th>BldgType</th>\n",
       "      <th>BsmtCond</th>\n",
       "      <th>BsmtExposure</th>\n",
       "      <th>BsmtFinSF1</th>\n",
       "      <th>BsmtFinSF2</th>\n",
       "      <th>...</th>\n",
       "      <th>SaleCondition</th>\n",
       "      <th>ScreenPorch</th>\n",
       "      <th>Street</th>\n",
       "      <th>TotRmsAbvGrd</th>\n",
       "      <th>TotalBsmtSF</th>\n",
       "      <th>Utilities</th>\n",
       "      <th>WoodDeckSF</th>\n",
       "      <th>YearBuilt</th>\n",
       "      <th>YearRemodAdd</th>\n",
       "      <th>YrSold</th>\n",
       "    </tr>\n",
       "  </thead>\n",
       "  <tbody>\n",
       "    <tr>\n",
       "      <th>0</th>\n",
       "      <td>856</td>\n",
       "      <td>854</td>\n",
       "      <td>0</td>\n",
       "      <td>NaN</td>\n",
       "      <td>3</td>\n",
       "      <td>1Fam</td>\n",
       "      <td>TA</td>\n",
       "      <td>No</td>\n",
       "      <td>706</td>\n",
       "      <td>0</td>\n",
       "      <td>...</td>\n",
       "      <td>Normal</td>\n",
       "      <td>0</td>\n",
       "      <td>Pave</td>\n",
       "      <td>8</td>\n",
       "      <td>856</td>\n",
       "      <td>AllPub</td>\n",
       "      <td>0</td>\n",
       "      <td>2003</td>\n",
       "      <td>2003</td>\n",
       "      <td>2008</td>\n",
       "    </tr>\n",
       "    <tr>\n",
       "      <th>1</th>\n",
       "      <td>1262</td>\n",
       "      <td>0</td>\n",
       "      <td>0</td>\n",
       "      <td>NaN</td>\n",
       "      <td>3</td>\n",
       "      <td>1Fam</td>\n",
       "      <td>TA</td>\n",
       "      <td>Gd</td>\n",
       "      <td>978</td>\n",
       "      <td>0</td>\n",
       "      <td>...</td>\n",
       "      <td>Normal</td>\n",
       "      <td>0</td>\n",
       "      <td>Pave</td>\n",
       "      <td>6</td>\n",
       "      <td>1262</td>\n",
       "      <td>AllPub</td>\n",
       "      <td>298</td>\n",
       "      <td>1976</td>\n",
       "      <td>1976</td>\n",
       "      <td>2007</td>\n",
       "    </tr>\n",
       "    <tr>\n",
       "      <th>2</th>\n",
       "      <td>920</td>\n",
       "      <td>866</td>\n",
       "      <td>0</td>\n",
       "      <td>NaN</td>\n",
       "      <td>3</td>\n",
       "      <td>1Fam</td>\n",
       "      <td>TA</td>\n",
       "      <td>Mn</td>\n",
       "      <td>486</td>\n",
       "      <td>0</td>\n",
       "      <td>...</td>\n",
       "      <td>Normal</td>\n",
       "      <td>0</td>\n",
       "      <td>Pave</td>\n",
       "      <td>6</td>\n",
       "      <td>920</td>\n",
       "      <td>AllPub</td>\n",
       "      <td>0</td>\n",
       "      <td>2001</td>\n",
       "      <td>2002</td>\n",
       "      <td>2008</td>\n",
       "    </tr>\n",
       "    <tr>\n",
       "      <th>3</th>\n",
       "      <td>961</td>\n",
       "      <td>756</td>\n",
       "      <td>0</td>\n",
       "      <td>NaN</td>\n",
       "      <td>3</td>\n",
       "      <td>1Fam</td>\n",
       "      <td>Gd</td>\n",
       "      <td>No</td>\n",
       "      <td>216</td>\n",
       "      <td>0</td>\n",
       "      <td>...</td>\n",
       "      <td>Abnorml</td>\n",
       "      <td>0</td>\n",
       "      <td>Pave</td>\n",
       "      <td>7</td>\n",
       "      <td>756</td>\n",
       "      <td>AllPub</td>\n",
       "      <td>0</td>\n",
       "      <td>1915</td>\n",
       "      <td>1970</td>\n",
       "      <td>2006</td>\n",
       "    </tr>\n",
       "    <tr>\n",
       "      <th>4</th>\n",
       "      <td>1145</td>\n",
       "      <td>1053</td>\n",
       "      <td>0</td>\n",
       "      <td>NaN</td>\n",
       "      <td>4</td>\n",
       "      <td>1Fam</td>\n",
       "      <td>TA</td>\n",
       "      <td>Av</td>\n",
       "      <td>655</td>\n",
       "      <td>0</td>\n",
       "      <td>...</td>\n",
       "      <td>Normal</td>\n",
       "      <td>0</td>\n",
       "      <td>Pave</td>\n",
       "      <td>9</td>\n",
       "      <td>1145</td>\n",
       "      <td>AllPub</td>\n",
       "      <td>192</td>\n",
       "      <td>2000</td>\n",
       "      <td>2000</td>\n",
       "      <td>2008</td>\n",
       "    </tr>\n",
       "    <tr>\n",
       "      <th>...</th>\n",
       "      <td>...</td>\n",
       "      <td>...</td>\n",
       "      <td>...</td>\n",
       "      <td>...</td>\n",
       "      <td>...</td>\n",
       "      <td>...</td>\n",
       "      <td>...</td>\n",
       "      <td>...</td>\n",
       "      <td>...</td>\n",
       "      <td>...</td>\n",
       "      <td>...</td>\n",
       "      <td>...</td>\n",
       "      <td>...</td>\n",
       "      <td>...</td>\n",
       "      <td>...</td>\n",
       "      <td>...</td>\n",
       "      <td>...</td>\n",
       "      <td>...</td>\n",
       "      <td>...</td>\n",
       "      <td>...</td>\n",
       "      <td>...</td>\n",
       "    </tr>\n",
       "    <tr>\n",
       "      <th>1455</th>\n",
       "      <td>953</td>\n",
       "      <td>694</td>\n",
       "      <td>0</td>\n",
       "      <td>NaN</td>\n",
       "      <td>3</td>\n",
       "      <td>1Fam</td>\n",
       "      <td>TA</td>\n",
       "      <td>No</td>\n",
       "      <td>0</td>\n",
       "      <td>0</td>\n",
       "      <td>...</td>\n",
       "      <td>Normal</td>\n",
       "      <td>0</td>\n",
       "      <td>Pave</td>\n",
       "      <td>7</td>\n",
       "      <td>953</td>\n",
       "      <td>AllPub</td>\n",
       "      <td>0</td>\n",
       "      <td>1999</td>\n",
       "      <td>2000</td>\n",
       "      <td>2007</td>\n",
       "    </tr>\n",
       "    <tr>\n",
       "      <th>1456</th>\n",
       "      <td>2073</td>\n",
       "      <td>0</td>\n",
       "      <td>0</td>\n",
       "      <td>NaN</td>\n",
       "      <td>3</td>\n",
       "      <td>1Fam</td>\n",
       "      <td>TA</td>\n",
       "      <td>No</td>\n",
       "      <td>790</td>\n",
       "      <td>163</td>\n",
       "      <td>...</td>\n",
       "      <td>Normal</td>\n",
       "      <td>0</td>\n",
       "      <td>Pave</td>\n",
       "      <td>7</td>\n",
       "      <td>1542</td>\n",
       "      <td>AllPub</td>\n",
       "      <td>349</td>\n",
       "      <td>1978</td>\n",
       "      <td>1988</td>\n",
       "      <td>2010</td>\n",
       "    </tr>\n",
       "    <tr>\n",
       "      <th>1457</th>\n",
       "      <td>1188</td>\n",
       "      <td>1152</td>\n",
       "      <td>0</td>\n",
       "      <td>NaN</td>\n",
       "      <td>4</td>\n",
       "      <td>1Fam</td>\n",
       "      <td>Gd</td>\n",
       "      <td>No</td>\n",
       "      <td>275</td>\n",
       "      <td>0</td>\n",
       "      <td>...</td>\n",
       "      <td>Normal</td>\n",
       "      <td>0</td>\n",
       "      <td>Pave</td>\n",
       "      <td>9</td>\n",
       "      <td>1152</td>\n",
       "      <td>AllPub</td>\n",
       "      <td>0</td>\n",
       "      <td>1941</td>\n",
       "      <td>2006</td>\n",
       "      <td>2010</td>\n",
       "    </tr>\n",
       "    <tr>\n",
       "      <th>1458</th>\n",
       "      <td>1078</td>\n",
       "      <td>0</td>\n",
       "      <td>0</td>\n",
       "      <td>NaN</td>\n",
       "      <td>2</td>\n",
       "      <td>1Fam</td>\n",
       "      <td>TA</td>\n",
       "      <td>Mn</td>\n",
       "      <td>49</td>\n",
       "      <td>1029</td>\n",
       "      <td>...</td>\n",
       "      <td>Normal</td>\n",
       "      <td>0</td>\n",
       "      <td>Pave</td>\n",
       "      <td>5</td>\n",
       "      <td>1078</td>\n",
       "      <td>AllPub</td>\n",
       "      <td>366</td>\n",
       "      <td>1950</td>\n",
       "      <td>1996</td>\n",
       "      <td>2010</td>\n",
       "    </tr>\n",
       "    <tr>\n",
       "      <th>1459</th>\n",
       "      <td>1256</td>\n",
       "      <td>0</td>\n",
       "      <td>0</td>\n",
       "      <td>NaN</td>\n",
       "      <td>3</td>\n",
       "      <td>1Fam</td>\n",
       "      <td>TA</td>\n",
       "      <td>No</td>\n",
       "      <td>830</td>\n",
       "      <td>290</td>\n",
       "      <td>...</td>\n",
       "      <td>Normal</td>\n",
       "      <td>0</td>\n",
       "      <td>Pave</td>\n",
       "      <td>6</td>\n",
       "      <td>1256</td>\n",
       "      <td>AllPub</td>\n",
       "      <td>736</td>\n",
       "      <td>1965</td>\n",
       "      <td>1965</td>\n",
       "      <td>2008</td>\n",
       "    </tr>\n",
       "  </tbody>\n",
       "</table>\n",
       "<p>1460 rows × 70 columns</p>\n",
       "</div>"
      ],
      "text/plain": [
       "      1stFlrSF  2ndFlrSF  3SsnPorch Alley  BedroomAbvGr BldgType BsmtCond  \\\n",
       "0          856       854          0   NaN             3     1Fam       TA   \n",
       "1         1262         0          0   NaN             3     1Fam       TA   \n",
       "2          920       866          0   NaN             3     1Fam       TA   \n",
       "3          961       756          0   NaN             3     1Fam       Gd   \n",
       "4         1145      1053          0   NaN             4     1Fam       TA   \n",
       "...        ...       ...        ...   ...           ...      ...      ...   \n",
       "1455       953       694          0   NaN             3     1Fam       TA   \n",
       "1456      2073         0          0   NaN             3     1Fam       TA   \n",
       "1457      1188      1152          0   NaN             4     1Fam       Gd   \n",
       "1458      1078         0          0   NaN             2     1Fam       TA   \n",
       "1459      1256         0          0   NaN             3     1Fam       TA   \n",
       "\n",
       "     BsmtExposure  BsmtFinSF1  BsmtFinSF2  ... SaleCondition ScreenPorch  \\\n",
       "0              No         706           0  ...        Normal           0   \n",
       "1              Gd         978           0  ...        Normal           0   \n",
       "2              Mn         486           0  ...        Normal           0   \n",
       "3              No         216           0  ...       Abnorml           0   \n",
       "4              Av         655           0  ...        Normal           0   \n",
       "...           ...         ...         ...  ...           ...         ...   \n",
       "1455           No           0           0  ...        Normal           0   \n",
       "1456           No         790         163  ...        Normal           0   \n",
       "1457           No         275           0  ...        Normal           0   \n",
       "1458           Mn          49        1029  ...        Normal           0   \n",
       "1459           No         830         290  ...        Normal           0   \n",
       "\n",
       "      Street  TotRmsAbvGrd TotalBsmtSF  Utilities WoodDeckSF YearBuilt  \\\n",
       "0       Pave             8         856     AllPub          0      2003   \n",
       "1       Pave             6        1262     AllPub        298      1976   \n",
       "2       Pave             6         920     AllPub          0      2001   \n",
       "3       Pave             7         756     AllPub          0      1915   \n",
       "4       Pave             9        1145     AllPub        192      2000   \n",
       "...      ...           ...         ...        ...        ...       ...   \n",
       "1455    Pave             7         953     AllPub          0      1999   \n",
       "1456    Pave             7        1542     AllPub        349      1978   \n",
       "1457    Pave             9        1152     AllPub          0      1941   \n",
       "1458    Pave             5        1078     AllPub        366      1950   \n",
       "1459    Pave             6        1256     AllPub        736      1965   \n",
       "\n",
       "      YearRemodAdd YrSold  \n",
       "0             2003   2008  \n",
       "1             1976   2007  \n",
       "2             2002   2008  \n",
       "3             1970   2006  \n",
       "4             2000   2008  \n",
       "...            ...    ...  \n",
       "1455          2000   2007  \n",
       "1456          1988   2010  \n",
       "1457          2006   2010  \n",
       "1458          1996   2010  \n",
       "1459          1965   2008  \n",
       "\n",
       "[1460 rows x 70 columns]"
      ]
     },
     "execution_count": 93,
     "metadata": {},
     "output_type": "execute_result"
    }
   ],
   "source": [
    "(X_light_sorted)"
   ]
  },
  {
   "cell_type": "code",
   "execution_count": 132,
   "metadata": {},
   "outputs": [],
   "source": [
    "ordinal_encoding_columns = sorted(['Utilities', 'PoolQC', 'PavedDrive', 'KitchenQual', 'HeatingQC',\\\n",
    "                           'GarageQual', 'GarageFinish', 'GarageCond', 'FireplaceQu',\\\n",
    "                           'Fence', 'ExterQual', 'ExterCond', 'BsmtQual', 'BsmtExposure', \\\n",
    "                           'BsmtCond', 'Alley', \"BsmtFinType1\", \"BsmtFinType2\", \"CentralAir\", \"Electrical\",\\\n",
    "                                   \"Foundation\", \"LandSlope\", \"LotShape\"])"
   ]
  },
  {
   "cell_type": "code",
   "execution_count": 133,
   "metadata": {},
   "outputs": [
    {
     "data": {
      "text/plain": [
       "23"
      ]
     },
     "execution_count": 133,
     "metadata": {},
     "output_type": "execute_result"
    }
   ],
   "source": [
    "len(ordinal_encoding_columns)"
   ]
  },
  {
   "cell_type": "code",
   "execution_count": 135,
   "metadata": {},
   "outputs": [],
   "source": [
    "Alley_sorted_values = ['NA', 'Grvl', \"Pave\"]       \n",
    "BsmtCond_sorted_values = ['Po', 'Fa','Na', 'TA', \"Gd\", \"Ex\"]\n",
    "BsmtExposure_sorted_values = [\"No\", \"Mn\", \"NA\" ,\"Av\", 'Gd']\n",
    "BsmtFinType1_sorted_values = [\"Unf\", \"LwQ\",\"Rec\", \"BLQ\", \"NA\",\"ALQ\",\"GLQ\"]\n",
    "BsmtFinType2_sorted_values = [\"Unf\", \"LwQ\",\"Rec\", \"BLQ\", \"NA\",\"ALQ\",\"GLQ\"]\n",
    "BsmtQual_sorted_values = ['Po', 'Fa','Na', 'TA', \"Gd\", \"Ex\"]\n",
    "CentralAir_sorted_values = [\"N\",\"Y\"]\n",
    "Electrical_sorted_values = [\"Mix\", \"FuseP\", \"FuseF\", \"FuseA\", \"SBrkr\"]\n",
    "ExterCond = ['Po', 'Fa', 'TA', \"Gd\", \"Ex\"]\n",
    "ExterQual_sorted_values = ['Po', 'Fa', 'TA', \"Gd\", \"Ex\"] \n",
    "Fence_sorted_values = ['NA', 'MnWw', 'GdWo','MnPrv','GdPrv']\n",
    "FireplaceQu_sorted_values = ['Po', 'Fa','Na', 'TA', \"Gd\", \"Ex\"]\n",
    "Foundation_sorted_values = [\"Wood\", \"Stone\", \"Slab\",\"BrkTil\", \"CBlock\" , \"PConc\"]\n",
    "GarageCond_sorted_values = ['Po', 'Fa','Na' , 'TA', \"Gd\", \"Ex\"]\n",
    "GarageFinish_sorted_values= ['Unf','NA','RFn', 'Fin']\n",
    "GarageQual_sorted_values = ['Po', 'Fa','Na', 'TA', \"Gd\", \"Ex\"]\n",
    "HeatingQC_sorted_values = ['Po', 'Fa', 'TA', \"Gd\", \"Ex\"]\n",
    "KitchenQual_sorted_values = ['Po', 'Fa', 'TA', \"Gd\", \"Ex\"]\n",
    "LandSlope_sorted_values = [\"Sev\", \"Mod\", \"Gtl\"]\n",
    "LotShape_sorted_values = [\"IR3\", \"IR2\", \"IR1\",\"Reg\"]\n",
    "PavedDrive_sorted_values = ['N', 'P', 'Y']\n",
    "PoolQC_sorted_values = [\"NA\", 'Fa', 'TA', \"Gd\", \"Ex\"]\n",
    "Utilities_sorted_values = ['ELO', 'NoSeWa', 'NoSewr','AllPub']\n",
    "\n",
    "\n",
    "\n",
    "\n",
    "ordinal_encoder = OrdinalEncoder(\n",
    "    categories=[\n",
    "        Alley_sorted_values,\n",
    "        BsmtCond_sorted_values,\n",
    "        BsmtExposure_sorted_values,\n",
    "        BsmtFinType1_sorted_values,\n",
    "        BsmtFinType2_sorted_values,\n",
    "        BsmtQual_sorted_values,\n",
    "        CentralAir_sorted_values,\n",
    "        Electrical_sorted_values,\n",
    "        ExterCond,\n",
    "        ExterQual_sorted_values,\n",
    "        Fence_sorted_values,\n",
    "        FireplaceQu_sorted_values,\n",
    "        Foundation_sorted_values,\n",
    "        GarageCond_sorted_values,\n",
    "        GarageFinish_sorted_values,\n",
    "        GarageQual_sorted_values,\n",
    "        HeatingQC_sorted_values,\n",
    "        KitchenQual_sorted_values,\n",
    "        LandSlope_sorted_values,\n",
    "        LotShape_sorted_values,\n",
    "        PavedDrive_sorted_values,\n",
    "        PoolQC_sorted_values,\n",
    "        Utilities_sorted_values\n",
    "    ],\n",
    "    handle_unknown=\"use_encoded_value\",\n",
    "    unknown_value=-1\n",
    ")\n"
   ]
  },
  {
   "cell_type": "code",
   "execution_count": 136,
   "metadata": {},
   "outputs": [],
   "source": [
    "cat_columns = [col for col in X_light_sorted.columns if (X_light_sorted[col].dtypes == \"O\" and col not in ordinal_encoding_columns)]"
   ]
  },
  {
   "cell_type": "code",
   "execution_count": 125,
   "metadata": {},
   "outputs": [
    {
     "data": {
      "text/plain": [
       "PConc     647\n",
       "CBlock    634\n",
       "BrkTil    146\n",
       "Slab       24\n",
       "Stone       6\n",
       "Wood        3\n",
       "Name: Foundation, dtype: int64"
      ]
     },
     "execution_count": 125,
     "metadata": {},
     "output_type": "execute_result"
    }
   ],
   "source": [
    "X_light.Foundation.value_counts()"
   ]
  },
  {
   "cell_type": "code",
   "execution_count": 137,
   "metadata": {},
   "outputs": [
    {
     "data": {
      "text/plain": [
       "['BldgType',\n",
       " 'GarageType',\n",
       " 'Heating',\n",
       " 'LandContour',\n",
       " 'LotConfig',\n",
       " 'MSZoning',\n",
       " 'MasVnrType',\n",
       " 'MiscFeature',\n",
       " 'RoofStyle',\n",
       " 'SaleCondition',\n",
       " 'Street']"
      ]
     },
     "execution_count": 137,
     "metadata": {},
     "output_type": "execute_result"
    }
   ],
   "source": [
    "(sorted(cat_columns))"
   ]
  },
  {
   "cell_type": "code",
   "execution_count": 138,
   "metadata": {},
   "outputs": [],
   "source": [
    "cat_pipe = make_pipeline(SimpleImputer(strategy=\"most_frequent\"), \\\n",
    "                         OneHotEncoder(handle_unknown=\"ignore\", sparse=False))\n",
    "ordinal_pipe = make_pipeline(SimpleImputer(strategy=\"most_frequent\"), \\\n",
    "                         ordinal_encoder)"
   ]
  },
  {
   "cell_type": "code",
   "execution_count": 149,
   "metadata": {},
   "outputs": [
    {
     "data": {
      "text/plain": [
       "Grvl    50\n",
       "Pave    41\n",
       "Name: Alley, dtype: int64"
      ]
     },
     "execution_count": 149,
     "metadata": {},
     "output_type": "execute_result"
    }
   ],
   "source": [
    "X_light_sorted.Alley.value_counts()"
   ]
  },
  {
   "cell_type": "code",
   "execution_count": 140,
   "metadata": {},
   "outputs": [
    {
     "data": {
      "text/html": [
       "<div>\n",
       "<style scoped>\n",
       "    .dataframe tbody tr th:only-of-type {\n",
       "        vertical-align: middle;\n",
       "    }\n",
       "\n",
       "    .dataframe tbody tr th {\n",
       "        vertical-align: top;\n",
       "    }\n",
       "\n",
       "    .dataframe thead th {\n",
       "        text-align: right;\n",
       "    }\n",
       "</style>\n",
       "<table border=\"1\" class=\"dataframe\">\n",
       "  <thead>\n",
       "    <tr style=\"text-align: right;\">\n",
       "      <th></th>\n",
       "      <th>Alley</th>\n",
       "      <th>BsmtCond</th>\n",
       "      <th>BsmtExposure</th>\n",
       "      <th>BsmtFinType1</th>\n",
       "      <th>BsmtFinType2</th>\n",
       "      <th>BsmtQual</th>\n",
       "      <th>CentralAir</th>\n",
       "      <th>Electrical</th>\n",
       "      <th>ExterCond</th>\n",
       "      <th>ExterQual</th>\n",
       "      <th>...</th>\n",
       "      <th>GarageCond</th>\n",
       "      <th>GarageFinish</th>\n",
       "      <th>GarageQual</th>\n",
       "      <th>HeatingQC</th>\n",
       "      <th>KitchenQual</th>\n",
       "      <th>LandSlope</th>\n",
       "      <th>LotShape</th>\n",
       "      <th>PavedDrive</th>\n",
       "      <th>PoolQC</th>\n",
       "      <th>Utilities</th>\n",
       "    </tr>\n",
       "  </thead>\n",
       "  <tbody>\n",
       "    <tr>\n",
       "      <th>0</th>\n",
       "      <td>NaN</td>\n",
       "      <td>TA</td>\n",
       "      <td>No</td>\n",
       "      <td>GLQ</td>\n",
       "      <td>Unf</td>\n",
       "      <td>Gd</td>\n",
       "      <td>Y</td>\n",
       "      <td>SBrkr</td>\n",
       "      <td>TA</td>\n",
       "      <td>Gd</td>\n",
       "      <td>...</td>\n",
       "      <td>TA</td>\n",
       "      <td>RFn</td>\n",
       "      <td>TA</td>\n",
       "      <td>Ex</td>\n",
       "      <td>Gd</td>\n",
       "      <td>Gtl</td>\n",
       "      <td>Reg</td>\n",
       "      <td>Y</td>\n",
       "      <td>NaN</td>\n",
       "      <td>AllPub</td>\n",
       "    </tr>\n",
       "    <tr>\n",
       "      <th>1</th>\n",
       "      <td>NaN</td>\n",
       "      <td>TA</td>\n",
       "      <td>Gd</td>\n",
       "      <td>ALQ</td>\n",
       "      <td>Unf</td>\n",
       "      <td>Gd</td>\n",
       "      <td>Y</td>\n",
       "      <td>SBrkr</td>\n",
       "      <td>TA</td>\n",
       "      <td>TA</td>\n",
       "      <td>...</td>\n",
       "      <td>TA</td>\n",
       "      <td>RFn</td>\n",
       "      <td>TA</td>\n",
       "      <td>Ex</td>\n",
       "      <td>TA</td>\n",
       "      <td>Gtl</td>\n",
       "      <td>Reg</td>\n",
       "      <td>Y</td>\n",
       "      <td>NaN</td>\n",
       "      <td>AllPub</td>\n",
       "    </tr>\n",
       "    <tr>\n",
       "      <th>2</th>\n",
       "      <td>NaN</td>\n",
       "      <td>TA</td>\n",
       "      <td>Mn</td>\n",
       "      <td>GLQ</td>\n",
       "      <td>Unf</td>\n",
       "      <td>Gd</td>\n",
       "      <td>Y</td>\n",
       "      <td>SBrkr</td>\n",
       "      <td>TA</td>\n",
       "      <td>Gd</td>\n",
       "      <td>...</td>\n",
       "      <td>TA</td>\n",
       "      <td>RFn</td>\n",
       "      <td>TA</td>\n",
       "      <td>Ex</td>\n",
       "      <td>Gd</td>\n",
       "      <td>Gtl</td>\n",
       "      <td>IR1</td>\n",
       "      <td>Y</td>\n",
       "      <td>NaN</td>\n",
       "      <td>AllPub</td>\n",
       "    </tr>\n",
       "    <tr>\n",
       "      <th>3</th>\n",
       "      <td>NaN</td>\n",
       "      <td>Gd</td>\n",
       "      <td>No</td>\n",
       "      <td>ALQ</td>\n",
       "      <td>Unf</td>\n",
       "      <td>TA</td>\n",
       "      <td>Y</td>\n",
       "      <td>SBrkr</td>\n",
       "      <td>TA</td>\n",
       "      <td>TA</td>\n",
       "      <td>...</td>\n",
       "      <td>TA</td>\n",
       "      <td>Unf</td>\n",
       "      <td>TA</td>\n",
       "      <td>Gd</td>\n",
       "      <td>Gd</td>\n",
       "      <td>Gtl</td>\n",
       "      <td>IR1</td>\n",
       "      <td>Y</td>\n",
       "      <td>NaN</td>\n",
       "      <td>AllPub</td>\n",
       "    </tr>\n",
       "    <tr>\n",
       "      <th>4</th>\n",
       "      <td>NaN</td>\n",
       "      <td>TA</td>\n",
       "      <td>Av</td>\n",
       "      <td>GLQ</td>\n",
       "      <td>Unf</td>\n",
       "      <td>Gd</td>\n",
       "      <td>Y</td>\n",
       "      <td>SBrkr</td>\n",
       "      <td>TA</td>\n",
       "      <td>Gd</td>\n",
       "      <td>...</td>\n",
       "      <td>TA</td>\n",
       "      <td>RFn</td>\n",
       "      <td>TA</td>\n",
       "      <td>Ex</td>\n",
       "      <td>Gd</td>\n",
       "      <td>Gtl</td>\n",
       "      <td>IR1</td>\n",
       "      <td>Y</td>\n",
       "      <td>NaN</td>\n",
       "      <td>AllPub</td>\n",
       "    </tr>\n",
       "  </tbody>\n",
       "</table>\n",
       "<p>5 rows × 23 columns</p>\n",
       "</div>"
      ],
      "text/plain": [
       "  Alley BsmtCond BsmtExposure BsmtFinType1 BsmtFinType2 BsmtQual CentralAir  \\\n",
       "0   NaN       TA           No          GLQ          Unf       Gd          Y   \n",
       "1   NaN       TA           Gd          ALQ          Unf       Gd          Y   \n",
       "2   NaN       TA           Mn          GLQ          Unf       Gd          Y   \n",
       "3   NaN       Gd           No          ALQ          Unf       TA          Y   \n",
       "4   NaN       TA           Av          GLQ          Unf       Gd          Y   \n",
       "\n",
       "  Electrical ExterCond ExterQual  ... GarageCond GarageFinish GarageQual  \\\n",
       "0      SBrkr        TA        Gd  ...         TA          RFn         TA   \n",
       "1      SBrkr        TA        TA  ...         TA          RFn         TA   \n",
       "2      SBrkr        TA        Gd  ...         TA          RFn         TA   \n",
       "3      SBrkr        TA        TA  ...         TA          Unf         TA   \n",
       "4      SBrkr        TA        Gd  ...         TA          RFn         TA   \n",
       "\n",
       "  HeatingQC KitchenQual LandSlope LotShape PavedDrive PoolQC Utilities  \n",
       "0        Ex          Gd       Gtl      Reg          Y    NaN    AllPub  \n",
       "1        Ex          TA       Gtl      Reg          Y    NaN    AllPub  \n",
       "2        Ex          Gd       Gtl      IR1          Y    NaN    AllPub  \n",
       "3        Gd          Gd       Gtl      IR1          Y    NaN    AllPub  \n",
       "4        Ex          Gd       Gtl      IR1          Y    NaN    AllPub  \n",
       "\n",
       "[5 rows x 23 columns]"
      ]
     },
     "execution_count": 140,
     "metadata": {},
     "output_type": "execute_result"
    }
   ],
   "source": [
    "X_light_sorted[ordinal_encoding_columns].head()"
   ]
  },
  {
   "cell_type": "code",
   "execution_count": 150,
   "metadata": {},
   "outputs": [
    {
     "data": {
      "text/plain": [
       "array([[1., 3., 0., ..., 2., 3., 3.],\n",
       "       [1., 3., 4., ..., 2., 3., 3.],\n",
       "       [1., 3., 1., ..., 2., 3., 3.],\n",
       "       ...,\n",
       "       [1., 4., 0., ..., 2., 3., 3.],\n",
       "       [1., 3., 1., ..., 2., 3., 3.],\n",
       "       [1., 3., 0., ..., 2., 3., 3.]])"
      ]
     },
     "execution_count": 150,
     "metadata": {},
     "output_type": "execute_result"
    }
   ],
   "source": [
    "ordinal_pipe.fit_transform(X_light_sorted[ordinal_encoding_columns])"
   ]
  },
  {
   "cell_type": "code",
   "execution_count": 151,
   "metadata": {},
   "outputs": [],
   "source": [
    "prepocessed_tuned = ColumnTransformer([\n",
    "    ('ohe categories', cat_pipe, cat_columns ),\n",
    "    ('ordinal categories' , ordinal_pipe, ordinal_encoding_columns),\n",
    "    ('num categories', num_pipe, num_columns)\n",
    "])"
   ]
  },
  {
   "cell_type": "code",
   "execution_count": 152,
   "metadata": {},
   "outputs": [
    {
     "data": {
      "text/html": [
       "<style>#sk-846dcbb7-340a-4d81-b8f4-0c99cfebeb27 {color: black;background-color: white;}#sk-846dcbb7-340a-4d81-b8f4-0c99cfebeb27 pre{padding: 0;}#sk-846dcbb7-340a-4d81-b8f4-0c99cfebeb27 div.sk-toggleable {background-color: white;}#sk-846dcbb7-340a-4d81-b8f4-0c99cfebeb27 label.sk-toggleable__label {cursor: pointer;display: block;width: 100%;margin-bottom: 0;padding: 0.3em;box-sizing: border-box;text-align: center;}#sk-846dcbb7-340a-4d81-b8f4-0c99cfebeb27 label.sk-toggleable__label-arrow:before {content: \"▸\";float: left;margin-right: 0.25em;color: #696969;}#sk-846dcbb7-340a-4d81-b8f4-0c99cfebeb27 label.sk-toggleable__label-arrow:hover:before {color: black;}#sk-846dcbb7-340a-4d81-b8f4-0c99cfebeb27 div.sk-estimator:hover label.sk-toggleable__label-arrow:before {color: black;}#sk-846dcbb7-340a-4d81-b8f4-0c99cfebeb27 div.sk-toggleable__content {max-height: 0;max-width: 0;overflow: hidden;text-align: left;background-color: #f0f8ff;}#sk-846dcbb7-340a-4d81-b8f4-0c99cfebeb27 div.sk-toggleable__content pre {margin: 0.2em;color: black;border-radius: 0.25em;background-color: #f0f8ff;}#sk-846dcbb7-340a-4d81-b8f4-0c99cfebeb27 input.sk-toggleable__control:checked~div.sk-toggleable__content {max-height: 200px;max-width: 100%;overflow: auto;}#sk-846dcbb7-340a-4d81-b8f4-0c99cfebeb27 input.sk-toggleable__control:checked~label.sk-toggleable__label-arrow:before {content: \"▾\";}#sk-846dcbb7-340a-4d81-b8f4-0c99cfebeb27 div.sk-estimator input.sk-toggleable__control:checked~label.sk-toggleable__label {background-color: #d4ebff;}#sk-846dcbb7-340a-4d81-b8f4-0c99cfebeb27 div.sk-label input.sk-toggleable__control:checked~label.sk-toggleable__label {background-color: #d4ebff;}#sk-846dcbb7-340a-4d81-b8f4-0c99cfebeb27 input.sk-hidden--visually {border: 0;clip: rect(1px 1px 1px 1px);clip: rect(1px, 1px, 1px, 1px);height: 1px;margin: -1px;overflow: hidden;padding: 0;position: absolute;width: 1px;}#sk-846dcbb7-340a-4d81-b8f4-0c99cfebeb27 div.sk-estimator {font-family: monospace;background-color: #f0f8ff;border: 1px dotted black;border-radius: 0.25em;box-sizing: border-box;margin-bottom: 0.5em;}#sk-846dcbb7-340a-4d81-b8f4-0c99cfebeb27 div.sk-estimator:hover {background-color: #d4ebff;}#sk-846dcbb7-340a-4d81-b8f4-0c99cfebeb27 div.sk-parallel-item::after {content: \"\";width: 100%;border-bottom: 1px solid gray;flex-grow: 1;}#sk-846dcbb7-340a-4d81-b8f4-0c99cfebeb27 div.sk-label:hover label.sk-toggleable__label {background-color: #d4ebff;}#sk-846dcbb7-340a-4d81-b8f4-0c99cfebeb27 div.sk-serial::before {content: \"\";position: absolute;border-left: 1px solid gray;box-sizing: border-box;top: 2em;bottom: 0;left: 50%;}#sk-846dcbb7-340a-4d81-b8f4-0c99cfebeb27 div.sk-serial {display: flex;flex-direction: column;align-items: center;background-color: white;padding-right: 0.2em;padding-left: 0.2em;}#sk-846dcbb7-340a-4d81-b8f4-0c99cfebeb27 div.sk-item {z-index: 1;}#sk-846dcbb7-340a-4d81-b8f4-0c99cfebeb27 div.sk-parallel {display: flex;align-items: stretch;justify-content: center;background-color: white;}#sk-846dcbb7-340a-4d81-b8f4-0c99cfebeb27 div.sk-parallel::before {content: \"\";position: absolute;border-left: 1px solid gray;box-sizing: border-box;top: 2em;bottom: 0;left: 50%;}#sk-846dcbb7-340a-4d81-b8f4-0c99cfebeb27 div.sk-parallel-item {display: flex;flex-direction: column;position: relative;background-color: white;}#sk-846dcbb7-340a-4d81-b8f4-0c99cfebeb27 div.sk-parallel-item:first-child::after {align-self: flex-end;width: 50%;}#sk-846dcbb7-340a-4d81-b8f4-0c99cfebeb27 div.sk-parallel-item:last-child::after {align-self: flex-start;width: 50%;}#sk-846dcbb7-340a-4d81-b8f4-0c99cfebeb27 div.sk-parallel-item:only-child::after {width: 0;}#sk-846dcbb7-340a-4d81-b8f4-0c99cfebeb27 div.sk-dashed-wrapped {border: 1px dashed gray;margin: 0 0.4em 0.5em 0.4em;box-sizing: border-box;padding-bottom: 0.4em;background-color: white;position: relative;}#sk-846dcbb7-340a-4d81-b8f4-0c99cfebeb27 div.sk-label label {font-family: monospace;font-weight: bold;background-color: white;display: inline-block;line-height: 1.2em;}#sk-846dcbb7-340a-4d81-b8f4-0c99cfebeb27 div.sk-label-container {position: relative;z-index: 2;text-align: center;}#sk-846dcbb7-340a-4d81-b8f4-0c99cfebeb27 div.sk-container {/* jupyter's `normalize.less` sets `[hidden] { display: none; }` but bootstrap.min.css set `[hidden] { display: none !important; }` so we also need the `!important` here to be able to override the default hidden behavior on the sphinx rendered scikit-learn.org. See: https://github.com/scikit-learn/scikit-learn/issues/21755 */display: inline-block !important;position: relative;}#sk-846dcbb7-340a-4d81-b8f4-0c99cfebeb27 div.sk-text-repr-fallback {display: none;}</style><div id=\"sk-846dcbb7-340a-4d81-b8f4-0c99cfebeb27\" class=\"sk-top-container\"><div class=\"sk-text-repr-fallback\"><pre>ColumnTransformer(transformers=[(&#x27;ohe categories&#x27;,\n",
       "                                 Pipeline(steps=[(&#x27;simpleimputer&#x27;,\n",
       "                                                  SimpleImputer(strategy=&#x27;most_frequent&#x27;)),\n",
       "                                                 (&#x27;onehotencoder&#x27;,\n",
       "                                                  OneHotEncoder(handle_unknown=&#x27;ignore&#x27;,\n",
       "                                                                sparse=False))]),\n",
       "                                 [&#x27;BldgType&#x27;, &#x27;GarageType&#x27;, &#x27;Heating&#x27;,\n",
       "                                  &#x27;LandContour&#x27;, &#x27;LotConfig&#x27;, &#x27;MSZoning&#x27;,\n",
       "                                  &#x27;MasVnrType&#x27;, &#x27;MiscFeature&#x27;, &#x27;RoofStyle&#x27;,\n",
       "                                  &#x27;SaleCondition&#x27;, &#x27;Street&#x27;]),\n",
       "                                (&#x27;ordinal categori...\n",
       "                                  &#x27;ExterQual&#x27;, &#x27;Fence&#x27;, &#x27;FireplaceQu&#x27;,\n",
       "                                  &#x27;Foundation&#x27;, &#x27;GarageCond&#x27;, &#x27;GarageFinish&#x27;,\n",
       "                                  &#x27;GarageQual&#x27;, &#x27;HeatingQC&#x27;, &#x27;KitchenQual&#x27;,\n",
       "                                  &#x27;LandSlope&#x27;, &#x27;LotShape&#x27;, &#x27;PavedDrive&#x27;,\n",
       "                                  &#x27;PoolQC&#x27;, &#x27;Utilities&#x27;]),\n",
       "                                (&#x27;num categories&#x27;,\n",
       "                                 Pipeline(steps=[(&#x27;simpleimputer&#x27;,\n",
       "                                                  SimpleImputer()),\n",
       "                                                 (&#x27;minmaxscaler&#x27;,\n",
       "                                                  MinMaxScaler())]),\n",
       "                                 &lt;sklearn.compose._column_transformer.make_column_selector object at 0x7f2c14939ac0&gt;)])</pre><b>Please rerun this cell to show the HTML repr or trust the notebook.</b></div><div class=\"sk-container\" hidden><div class=\"sk-item sk-dashed-wrapped\"><div class=\"sk-label-container\"><div class=\"sk-label sk-toggleable\"><input class=\"sk-toggleable__control sk-hidden--visually\" id=\"c69465b1-5ede-450b-89c2-d6fe0db8228e\" type=\"checkbox\" ><label for=\"c69465b1-5ede-450b-89c2-d6fe0db8228e\" class=\"sk-toggleable__label sk-toggleable__label-arrow\">ColumnTransformer</label><div class=\"sk-toggleable__content\"><pre>ColumnTransformer(transformers=[(&#x27;ohe categories&#x27;,\n",
       "                                 Pipeline(steps=[(&#x27;simpleimputer&#x27;,\n",
       "                                                  SimpleImputer(strategy=&#x27;most_frequent&#x27;)),\n",
       "                                                 (&#x27;onehotencoder&#x27;,\n",
       "                                                  OneHotEncoder(handle_unknown=&#x27;ignore&#x27;,\n",
       "                                                                sparse=False))]),\n",
       "                                 [&#x27;BldgType&#x27;, &#x27;GarageType&#x27;, &#x27;Heating&#x27;,\n",
       "                                  &#x27;LandContour&#x27;, &#x27;LotConfig&#x27;, &#x27;MSZoning&#x27;,\n",
       "                                  &#x27;MasVnrType&#x27;, &#x27;MiscFeature&#x27;, &#x27;RoofStyle&#x27;,\n",
       "                                  &#x27;SaleCondition&#x27;, &#x27;Street&#x27;]),\n",
       "                                (&#x27;ordinal categori...\n",
       "                                  &#x27;ExterQual&#x27;, &#x27;Fence&#x27;, &#x27;FireplaceQu&#x27;,\n",
       "                                  &#x27;Foundation&#x27;, &#x27;GarageCond&#x27;, &#x27;GarageFinish&#x27;,\n",
       "                                  &#x27;GarageQual&#x27;, &#x27;HeatingQC&#x27;, &#x27;KitchenQual&#x27;,\n",
       "                                  &#x27;LandSlope&#x27;, &#x27;LotShape&#x27;, &#x27;PavedDrive&#x27;,\n",
       "                                  &#x27;PoolQC&#x27;, &#x27;Utilities&#x27;]),\n",
       "                                (&#x27;num categories&#x27;,\n",
       "                                 Pipeline(steps=[(&#x27;simpleimputer&#x27;,\n",
       "                                                  SimpleImputer()),\n",
       "                                                 (&#x27;minmaxscaler&#x27;,\n",
       "                                                  MinMaxScaler())]),\n",
       "                                 &lt;sklearn.compose._column_transformer.make_column_selector object at 0x7f2c14939ac0&gt;)])</pre></div></div></div><div class=\"sk-parallel\"><div class=\"sk-parallel-item\"><div class=\"sk-item\"><div class=\"sk-label-container\"><div class=\"sk-label sk-toggleable\"><input class=\"sk-toggleable__control sk-hidden--visually\" id=\"36ca05cb-5f0a-4dea-839e-8472b7f8f769\" type=\"checkbox\" ><label for=\"36ca05cb-5f0a-4dea-839e-8472b7f8f769\" class=\"sk-toggleable__label sk-toggleable__label-arrow\">ohe categories</label><div class=\"sk-toggleable__content\"><pre>[&#x27;BldgType&#x27;, &#x27;GarageType&#x27;, &#x27;Heating&#x27;, &#x27;LandContour&#x27;, &#x27;LotConfig&#x27;, &#x27;MSZoning&#x27;, &#x27;MasVnrType&#x27;, &#x27;MiscFeature&#x27;, &#x27;RoofStyle&#x27;, &#x27;SaleCondition&#x27;, &#x27;Street&#x27;]</pre></div></div></div><div class=\"sk-serial\"><div class=\"sk-item\"><div class=\"sk-serial\"><div class=\"sk-item\"><div class=\"sk-estimator sk-toggleable\"><input class=\"sk-toggleable__control sk-hidden--visually\" id=\"76368bd8-5781-4b14-ba84-8dce2f3afd94\" type=\"checkbox\" ><label for=\"76368bd8-5781-4b14-ba84-8dce2f3afd94\" class=\"sk-toggleable__label sk-toggleable__label-arrow\">SimpleImputer</label><div class=\"sk-toggleable__content\"><pre>SimpleImputer(strategy=&#x27;most_frequent&#x27;)</pre></div></div></div><div class=\"sk-item\"><div class=\"sk-estimator sk-toggleable\"><input class=\"sk-toggleable__control sk-hidden--visually\" id=\"371d552c-5678-44de-8521-bd75a376323e\" type=\"checkbox\" ><label for=\"371d552c-5678-44de-8521-bd75a376323e\" class=\"sk-toggleable__label sk-toggleable__label-arrow\">OneHotEncoder</label><div class=\"sk-toggleable__content\"><pre>OneHotEncoder(handle_unknown=&#x27;ignore&#x27;, sparse=False)</pre></div></div></div></div></div></div></div></div><div class=\"sk-parallel-item\"><div class=\"sk-item\"><div class=\"sk-label-container\"><div class=\"sk-label sk-toggleable\"><input class=\"sk-toggleable__control sk-hidden--visually\" id=\"19398ec0-9bde-4362-97cd-858eb0dfd911\" type=\"checkbox\" ><label for=\"19398ec0-9bde-4362-97cd-858eb0dfd911\" class=\"sk-toggleable__label sk-toggleable__label-arrow\">ordinal categories</label><div class=\"sk-toggleable__content\"><pre>[&#x27;Alley&#x27;, &#x27;BsmtCond&#x27;, &#x27;BsmtExposure&#x27;, &#x27;BsmtFinType1&#x27;, &#x27;BsmtFinType2&#x27;, &#x27;BsmtQual&#x27;, &#x27;CentralAir&#x27;, &#x27;Electrical&#x27;, &#x27;ExterCond&#x27;, &#x27;ExterQual&#x27;, &#x27;Fence&#x27;, &#x27;FireplaceQu&#x27;, &#x27;Foundation&#x27;, &#x27;GarageCond&#x27;, &#x27;GarageFinish&#x27;, &#x27;GarageQual&#x27;, &#x27;HeatingQC&#x27;, &#x27;KitchenQual&#x27;, &#x27;LandSlope&#x27;, &#x27;LotShape&#x27;, &#x27;PavedDrive&#x27;, &#x27;PoolQC&#x27;, &#x27;Utilities&#x27;]</pre></div></div></div><div class=\"sk-serial\"><div class=\"sk-item\"><div class=\"sk-serial\"><div class=\"sk-item\"><div class=\"sk-estimator sk-toggleable\"><input class=\"sk-toggleable__control sk-hidden--visually\" id=\"1fc93669-7285-44de-b9b6-76d5149476f5\" type=\"checkbox\" ><label for=\"1fc93669-7285-44de-b9b6-76d5149476f5\" class=\"sk-toggleable__label sk-toggleable__label-arrow\">SimpleImputer</label><div class=\"sk-toggleable__content\"><pre>SimpleImputer(strategy=&#x27;most_frequent&#x27;)</pre></div></div></div><div class=\"sk-item\"><div class=\"sk-estimator sk-toggleable\"><input class=\"sk-toggleable__control sk-hidden--visually\" id=\"2f2ada15-7468-43e5-abb0-d22d59da9a4f\" type=\"checkbox\" ><label for=\"2f2ada15-7468-43e5-abb0-d22d59da9a4f\" class=\"sk-toggleable__label sk-toggleable__label-arrow\">OrdinalEncoder</label><div class=\"sk-toggleable__content\"><pre>OrdinalEncoder(categories=[[&#x27;NA&#x27;, &#x27;Grvl&#x27;, &#x27;Pave&#x27;],\n",
       "                           [&#x27;Po&#x27;, &#x27;Fa&#x27;, &#x27;Na&#x27;, &#x27;TA&#x27;, &#x27;Gd&#x27;, &#x27;Ex&#x27;],\n",
       "                           [&#x27;No&#x27;, &#x27;Mn&#x27;, &#x27;NA&#x27;, &#x27;Av&#x27;, &#x27;Gd&#x27;],\n",
       "                           [&#x27;Unf&#x27;, &#x27;LwQ&#x27;, &#x27;Rec&#x27;, &#x27;BLQ&#x27;, &#x27;NA&#x27;, &#x27;ALQ&#x27;, &#x27;GLQ&#x27;],\n",
       "                           [&#x27;Unf&#x27;, &#x27;LwQ&#x27;, &#x27;Rec&#x27;, &#x27;BLQ&#x27;, &#x27;NA&#x27;, &#x27;ALQ&#x27;, &#x27;GLQ&#x27;],\n",
       "                           [&#x27;Po&#x27;, &#x27;Fa&#x27;, &#x27;Na&#x27;, &#x27;TA&#x27;, &#x27;Gd&#x27;, &#x27;Ex&#x27;], [&#x27;N&#x27;, &#x27;Y&#x27;],\n",
       "                           [&#x27;Mix&#x27;, &#x27;FuseP&#x27;, &#x27;FuseF&#x27;, &#x27;FuseA&#x27;, &#x27;SBrkr&#x27;],\n",
       "                           [&#x27;Po&#x27;, &#x27;Fa&#x27;, &#x27;TA&#x27;, &#x27;Gd&#x27;, &#x27;Ex&#x27;],\n",
       "                           [&#x27;Po&#x27;, &#x27;Fa&#x27;, &#x27;TA&#x27;, &#x27;Gd&#x27;, &#x27;Ex&#x27;],\n",
       "                           [&#x27;NA&#x27;, &#x27;MnWw&#x27;, &#x27;GdWo&#x27;, &#x27;...\n",
       "                           [&#x27;Wood&#x27;, &#x27;Stone&#x27;, &#x27;Slab&#x27;, &#x27;BrkTil&#x27;, &#x27;CBlock&#x27;,\n",
       "                            &#x27;PConc&#x27;],\n",
       "                           [&#x27;Po&#x27;, &#x27;Fa&#x27;, &#x27;Na&#x27;, &#x27;TA&#x27;, &#x27;Gd&#x27;, &#x27;Ex&#x27;],\n",
       "                           [&#x27;Unf&#x27;, &#x27;NA&#x27;, &#x27;RFn&#x27;, &#x27;Fin&#x27;],\n",
       "                           [&#x27;Po&#x27;, &#x27;Fa&#x27;, &#x27;Na&#x27;, &#x27;TA&#x27;, &#x27;Gd&#x27;, &#x27;Ex&#x27;],\n",
       "                           [&#x27;Po&#x27;, &#x27;Fa&#x27;, &#x27;TA&#x27;, &#x27;Gd&#x27;, &#x27;Ex&#x27;],\n",
       "                           [&#x27;Po&#x27;, &#x27;Fa&#x27;, &#x27;TA&#x27;, &#x27;Gd&#x27;, &#x27;Ex&#x27;],\n",
       "                           [&#x27;Sev&#x27;, &#x27;Mod&#x27;, &#x27;Gtl&#x27;], [&#x27;IR3&#x27;, &#x27;IR2&#x27;, &#x27;IR1&#x27;, &#x27;Reg&#x27;],\n",
       "                           [&#x27;N&#x27;, &#x27;P&#x27;, &#x27;Y&#x27;], [&#x27;NA&#x27;, &#x27;Fa&#x27;, &#x27;TA&#x27;, &#x27;Gd&#x27;, &#x27;Ex&#x27;],\n",
       "                           [&#x27;ELO&#x27;, &#x27;NoSeWa&#x27;, &#x27;NoSewr&#x27;, &#x27;AllPub&#x27;]],\n",
       "               handle_unknown=&#x27;use_encoded_value&#x27;, unknown_value=-1)</pre></div></div></div></div></div></div></div></div><div class=\"sk-parallel-item\"><div class=\"sk-item\"><div class=\"sk-label-container\"><div class=\"sk-label sk-toggleable\"><input class=\"sk-toggleable__control sk-hidden--visually\" id=\"65c763f1-3317-48ab-84c3-7883aefc6ebb\" type=\"checkbox\" ><label for=\"65c763f1-3317-48ab-84c3-7883aefc6ebb\" class=\"sk-toggleable__label sk-toggleable__label-arrow\">num categories</label><div class=\"sk-toggleable__content\"><pre>&lt;sklearn.compose._column_transformer.make_column_selector object at 0x7f2c14939ac0&gt;</pre></div></div></div><div class=\"sk-serial\"><div class=\"sk-item\"><div class=\"sk-serial\"><div class=\"sk-item\"><div class=\"sk-estimator sk-toggleable\"><input class=\"sk-toggleable__control sk-hidden--visually\" id=\"2ba253f9-6214-4ef9-8d9d-9e7c372ec576\" type=\"checkbox\" ><label for=\"2ba253f9-6214-4ef9-8d9d-9e7c372ec576\" class=\"sk-toggleable__label sk-toggleable__label-arrow\">SimpleImputer</label><div class=\"sk-toggleable__content\"><pre>SimpleImputer()</pre></div></div></div><div class=\"sk-item\"><div class=\"sk-estimator sk-toggleable\"><input class=\"sk-toggleable__control sk-hidden--visually\" id=\"ffde95f4-8390-40aa-89d5-43129f063be8\" type=\"checkbox\" ><label for=\"ffde95f4-8390-40aa-89d5-43129f063be8\" class=\"sk-toggleable__label sk-toggleable__label-arrow\">MinMaxScaler</label><div class=\"sk-toggleable__content\"><pre>MinMaxScaler()</pre></div></div></div></div></div></div></div></div></div></div></div></div>"
      ],
      "text/plain": [
       "ColumnTransformer(transformers=[('ohe categories',\n",
       "                                 Pipeline(steps=[('simpleimputer',\n",
       "                                                  SimpleImputer(strategy='most_frequent')),\n",
       "                                                 ('onehotencoder',\n",
       "                                                  OneHotEncoder(handle_unknown='ignore',\n",
       "                                                                sparse=False))]),\n",
       "                                 ['BldgType', 'GarageType', 'Heating',\n",
       "                                  'LandContour', 'LotConfig', 'MSZoning',\n",
       "                                  'MasVnrType', 'MiscFeature', 'RoofStyle',\n",
       "                                  'SaleCondition', 'Street']),\n",
       "                                ('ordinal categori...\n",
       "                                  'ExterQual', 'Fence', 'FireplaceQu',\n",
       "                                  'Foundation', 'GarageCond', 'GarageFinish',\n",
       "                                  'GarageQual', 'HeatingQC', 'KitchenQual',\n",
       "                                  'LandSlope', 'LotShape', 'PavedDrive',\n",
       "                                  'PoolQC', 'Utilities']),\n",
       "                                ('num categories',\n",
       "                                 Pipeline(steps=[('simpleimputer',\n",
       "                                                  SimpleImputer()),\n",
       "                                                 ('minmaxscaler',\n",
       "                                                  MinMaxScaler())]),\n",
       "                                 <sklearn.compose._column_transformer.make_column_selector object at 0x7f2c14939ac0>)])"
      ]
     },
     "execution_count": 152,
     "metadata": {},
     "output_type": "execute_result"
    }
   ],
   "source": [
    "prepocessed_tuned"
   ]
  },
  {
   "cell_type": "code",
   "execution_count": 153,
   "metadata": {},
   "outputs": [
    {
     "data": {
      "text/plain": [
       "(1460, 112)"
      ]
     },
     "execution_count": 153,
     "metadata": {},
     "output_type": "execute_result"
    }
   ],
   "source": [
    "prepocessed_tuned.fit_transform(X_light_sorted,y).shape"
   ]
  },
  {
   "cell_type": "code",
   "execution_count": 181,
   "metadata": {},
   "outputs": [],
   "source": [
    "from sklearn.linear_model import LinearRegression, Lasso, Ridge\n",
    "from sklearn.metrics import mean_squared_error"
   ]
  },
  {
   "cell_type": "code",
   "execution_count": 205,
   "metadata": {},
   "outputs": [],
   "source": [
    "pipe_tuned_rfr = make_pipeline(prepocessed_tuned, RandomForestRegressor(min_samples_split=5))"
   ]
  },
  {
   "cell_type": "code",
   "execution_count": 177,
   "metadata": {},
   "outputs": [],
   "source": [
    "param_grid={\n",
    "    #\"randomforestregressor__max_depth\":[3,4,5],\n",
    "    \"randomforestregressor__min_samples_split\" : [3,4,5] \n",
    "    \n",
    "}\n",
    "\n",
    "search = GridSearchCV(pipe_tuned_rfr, param_grid=param_grid, scoring=rmse_scorer, cv=5, n_jobs=-1, verbose = 1)"
   ]
  },
  {
   "cell_type": "code",
   "execution_count": 178,
   "metadata": {},
   "outputs": [
    {
     "name": "stdout",
     "output_type": "stream",
     "text": [
      "Fitting 5 folds for each of 3 candidates, totalling 15 fits\n"
     ]
    },
    {
     "data": {
      "text/html": [
       "<style>#sk-8b00cffa-2641-4578-a832-823218f6b0b4 {color: black;background-color: white;}#sk-8b00cffa-2641-4578-a832-823218f6b0b4 pre{padding: 0;}#sk-8b00cffa-2641-4578-a832-823218f6b0b4 div.sk-toggleable {background-color: white;}#sk-8b00cffa-2641-4578-a832-823218f6b0b4 label.sk-toggleable__label {cursor: pointer;display: block;width: 100%;margin-bottom: 0;padding: 0.3em;box-sizing: border-box;text-align: center;}#sk-8b00cffa-2641-4578-a832-823218f6b0b4 label.sk-toggleable__label-arrow:before {content: \"▸\";float: left;margin-right: 0.25em;color: #696969;}#sk-8b00cffa-2641-4578-a832-823218f6b0b4 label.sk-toggleable__label-arrow:hover:before {color: black;}#sk-8b00cffa-2641-4578-a832-823218f6b0b4 div.sk-estimator:hover label.sk-toggleable__label-arrow:before {color: black;}#sk-8b00cffa-2641-4578-a832-823218f6b0b4 div.sk-toggleable__content {max-height: 0;max-width: 0;overflow: hidden;text-align: left;background-color: #f0f8ff;}#sk-8b00cffa-2641-4578-a832-823218f6b0b4 div.sk-toggleable__content pre {margin: 0.2em;color: black;border-radius: 0.25em;background-color: #f0f8ff;}#sk-8b00cffa-2641-4578-a832-823218f6b0b4 input.sk-toggleable__control:checked~div.sk-toggleable__content {max-height: 200px;max-width: 100%;overflow: auto;}#sk-8b00cffa-2641-4578-a832-823218f6b0b4 input.sk-toggleable__control:checked~label.sk-toggleable__label-arrow:before {content: \"▾\";}#sk-8b00cffa-2641-4578-a832-823218f6b0b4 div.sk-estimator input.sk-toggleable__control:checked~label.sk-toggleable__label {background-color: #d4ebff;}#sk-8b00cffa-2641-4578-a832-823218f6b0b4 div.sk-label input.sk-toggleable__control:checked~label.sk-toggleable__label {background-color: #d4ebff;}#sk-8b00cffa-2641-4578-a832-823218f6b0b4 input.sk-hidden--visually {border: 0;clip: rect(1px 1px 1px 1px);clip: rect(1px, 1px, 1px, 1px);height: 1px;margin: -1px;overflow: hidden;padding: 0;position: absolute;width: 1px;}#sk-8b00cffa-2641-4578-a832-823218f6b0b4 div.sk-estimator {font-family: monospace;background-color: #f0f8ff;border: 1px dotted black;border-radius: 0.25em;box-sizing: border-box;margin-bottom: 0.5em;}#sk-8b00cffa-2641-4578-a832-823218f6b0b4 div.sk-estimator:hover {background-color: #d4ebff;}#sk-8b00cffa-2641-4578-a832-823218f6b0b4 div.sk-parallel-item::after {content: \"\";width: 100%;border-bottom: 1px solid gray;flex-grow: 1;}#sk-8b00cffa-2641-4578-a832-823218f6b0b4 div.sk-label:hover label.sk-toggleable__label {background-color: #d4ebff;}#sk-8b00cffa-2641-4578-a832-823218f6b0b4 div.sk-serial::before {content: \"\";position: absolute;border-left: 1px solid gray;box-sizing: border-box;top: 2em;bottom: 0;left: 50%;}#sk-8b00cffa-2641-4578-a832-823218f6b0b4 div.sk-serial {display: flex;flex-direction: column;align-items: center;background-color: white;padding-right: 0.2em;padding-left: 0.2em;}#sk-8b00cffa-2641-4578-a832-823218f6b0b4 div.sk-item {z-index: 1;}#sk-8b00cffa-2641-4578-a832-823218f6b0b4 div.sk-parallel {display: flex;align-items: stretch;justify-content: center;background-color: white;}#sk-8b00cffa-2641-4578-a832-823218f6b0b4 div.sk-parallel::before {content: \"\";position: absolute;border-left: 1px solid gray;box-sizing: border-box;top: 2em;bottom: 0;left: 50%;}#sk-8b00cffa-2641-4578-a832-823218f6b0b4 div.sk-parallel-item {display: flex;flex-direction: column;position: relative;background-color: white;}#sk-8b00cffa-2641-4578-a832-823218f6b0b4 div.sk-parallel-item:first-child::after {align-self: flex-end;width: 50%;}#sk-8b00cffa-2641-4578-a832-823218f6b0b4 div.sk-parallel-item:last-child::after {align-self: flex-start;width: 50%;}#sk-8b00cffa-2641-4578-a832-823218f6b0b4 div.sk-parallel-item:only-child::after {width: 0;}#sk-8b00cffa-2641-4578-a832-823218f6b0b4 div.sk-dashed-wrapped {border: 1px dashed gray;margin: 0 0.4em 0.5em 0.4em;box-sizing: border-box;padding-bottom: 0.4em;background-color: white;position: relative;}#sk-8b00cffa-2641-4578-a832-823218f6b0b4 div.sk-label label {font-family: monospace;font-weight: bold;background-color: white;display: inline-block;line-height: 1.2em;}#sk-8b00cffa-2641-4578-a832-823218f6b0b4 div.sk-label-container {position: relative;z-index: 2;text-align: center;}#sk-8b00cffa-2641-4578-a832-823218f6b0b4 div.sk-container {/* jupyter's `normalize.less` sets `[hidden] { display: none; }` but bootstrap.min.css set `[hidden] { display: none !important; }` so we also need the `!important` here to be able to override the default hidden behavior on the sphinx rendered scikit-learn.org. See: https://github.com/scikit-learn/scikit-learn/issues/21755 */display: inline-block !important;position: relative;}#sk-8b00cffa-2641-4578-a832-823218f6b0b4 div.sk-text-repr-fallback {display: none;}</style><div id=\"sk-8b00cffa-2641-4578-a832-823218f6b0b4\" class=\"sk-top-container\"><div class=\"sk-text-repr-fallback\"><pre>GridSearchCV(cv=5,\n",
       "             estimator=Pipeline(steps=[(&#x27;columntransformer&#x27;,\n",
       "                                        ColumnTransformer(transformers=[(&#x27;ohe &#x27;\n",
       "                                                                         &#x27;categories&#x27;,\n",
       "                                                                         Pipeline(steps=[(&#x27;simpleimputer&#x27;,\n",
       "                                                                                          SimpleImputer(strategy=&#x27;most_frequent&#x27;)),\n",
       "                                                                                         (&#x27;onehotencoder&#x27;,\n",
       "                                                                                          OneHotEncoder(handle_unknown=&#x27;ignore&#x27;,\n",
       "                                                                                                        sparse=False))]),\n",
       "                                                                         [&#x27;BldgType&#x27;,\n",
       "                                                                          &#x27;GarageType&#x27;,\n",
       "                                                                          &#x27;Heating&#x27;,\n",
       "                                                                          &#x27;LandContour&#x27;,\n",
       "                                                                          &#x27;LotConfig&#x27;,\n",
       "                                                                          &#x27;MSZoning&#x27;,\n",
       "                                                                          &#x27;MasVnrType&#x27;,\n",
       "                                                                          &#x27;Mi...\n",
       "                                                                        (&#x27;num &#x27;\n",
       "                                                                         &#x27;categories&#x27;,\n",
       "                                                                         Pipeline(steps=[(&#x27;simpleimputer&#x27;,\n",
       "                                                                                          SimpleImputer()),\n",
       "                                                                                         (&#x27;minmaxscaler&#x27;,\n",
       "                                                                                          MinMaxScaler())]),\n",
       "                                                                         &lt;sklearn.compose._column_transformer.make_column_selector object at 0x7f2c14939ac0&gt;)])),\n",
       "                                       (&#x27;randomforestregressor&#x27;,\n",
       "                                        RandomForestRegressor())]),\n",
       "             n_jobs=-1,\n",
       "             param_grid={&#x27;randomforestregressor__min_samples_split&#x27;: [3, 4, 5]},\n",
       "             scoring=make_scorer(rmse), verbose=1)</pre><b>Please rerun this cell to show the HTML repr or trust the notebook.</b></div><div class=\"sk-container\" hidden><div class=\"sk-item sk-dashed-wrapped\"><div class=\"sk-label-container\"><div class=\"sk-label sk-toggleable\"><input class=\"sk-toggleable__control sk-hidden--visually\" id=\"b1f72699-3a2f-4106-9b02-db5059908574\" type=\"checkbox\" ><label for=\"b1f72699-3a2f-4106-9b02-db5059908574\" class=\"sk-toggleable__label sk-toggleable__label-arrow\">GridSearchCV</label><div class=\"sk-toggleable__content\"><pre>GridSearchCV(cv=5,\n",
       "             estimator=Pipeline(steps=[(&#x27;columntransformer&#x27;,\n",
       "                                        ColumnTransformer(transformers=[(&#x27;ohe &#x27;\n",
       "                                                                         &#x27;categories&#x27;,\n",
       "                                                                         Pipeline(steps=[(&#x27;simpleimputer&#x27;,\n",
       "                                                                                          SimpleImputer(strategy=&#x27;most_frequent&#x27;)),\n",
       "                                                                                         (&#x27;onehotencoder&#x27;,\n",
       "                                                                                          OneHotEncoder(handle_unknown=&#x27;ignore&#x27;,\n",
       "                                                                                                        sparse=False))]),\n",
       "                                                                         [&#x27;BldgType&#x27;,\n",
       "                                                                          &#x27;GarageType&#x27;,\n",
       "                                                                          &#x27;Heating&#x27;,\n",
       "                                                                          &#x27;LandContour&#x27;,\n",
       "                                                                          &#x27;LotConfig&#x27;,\n",
       "                                                                          &#x27;MSZoning&#x27;,\n",
       "                                                                          &#x27;MasVnrType&#x27;,\n",
       "                                                                          &#x27;Mi...\n",
       "                                                                        (&#x27;num &#x27;\n",
       "                                                                         &#x27;categories&#x27;,\n",
       "                                                                         Pipeline(steps=[(&#x27;simpleimputer&#x27;,\n",
       "                                                                                          SimpleImputer()),\n",
       "                                                                                         (&#x27;minmaxscaler&#x27;,\n",
       "                                                                                          MinMaxScaler())]),\n",
       "                                                                         &lt;sklearn.compose._column_transformer.make_column_selector object at 0x7f2c14939ac0&gt;)])),\n",
       "                                       (&#x27;randomforestregressor&#x27;,\n",
       "                                        RandomForestRegressor())]),\n",
       "             n_jobs=-1,\n",
       "             param_grid={&#x27;randomforestregressor__min_samples_split&#x27;: [3, 4, 5]},\n",
       "             scoring=make_scorer(rmse), verbose=1)</pre></div></div></div><div class=\"sk-parallel\"><div class=\"sk-parallel-item\"><div class=\"sk-item\"><div class=\"sk-serial\"><div class=\"sk-item\"><div class=\"sk-serial\"><div class=\"sk-item sk-dashed-wrapped\"><div class=\"sk-label-container\"><div class=\"sk-label sk-toggleable\"><input class=\"sk-toggleable__control sk-hidden--visually\" id=\"16a03013-f043-4a56-8cd8-93aa9cd6788b\" type=\"checkbox\" ><label for=\"16a03013-f043-4a56-8cd8-93aa9cd6788b\" class=\"sk-toggleable__label sk-toggleable__label-arrow\">columntransformer: ColumnTransformer</label><div class=\"sk-toggleable__content\"><pre>ColumnTransformer(transformers=[(&#x27;ohe categories&#x27;,\n",
       "                                 Pipeline(steps=[(&#x27;simpleimputer&#x27;,\n",
       "                                                  SimpleImputer(strategy=&#x27;most_frequent&#x27;)),\n",
       "                                                 (&#x27;onehotencoder&#x27;,\n",
       "                                                  OneHotEncoder(handle_unknown=&#x27;ignore&#x27;,\n",
       "                                                                sparse=False))]),\n",
       "                                 [&#x27;BldgType&#x27;, &#x27;GarageType&#x27;, &#x27;Heating&#x27;,\n",
       "                                  &#x27;LandContour&#x27;, &#x27;LotConfig&#x27;, &#x27;MSZoning&#x27;,\n",
       "                                  &#x27;MasVnrType&#x27;, &#x27;MiscFeature&#x27;, &#x27;RoofStyle&#x27;,\n",
       "                                  &#x27;SaleCondition&#x27;, &#x27;Street&#x27;]),\n",
       "                                (&#x27;ordinal categori...\n",
       "                                  &#x27;ExterQual&#x27;, &#x27;Fence&#x27;, &#x27;FireplaceQu&#x27;,\n",
       "                                  &#x27;Foundation&#x27;, &#x27;GarageCond&#x27;, &#x27;GarageFinish&#x27;,\n",
       "                                  &#x27;GarageQual&#x27;, &#x27;HeatingQC&#x27;, &#x27;KitchenQual&#x27;,\n",
       "                                  &#x27;LandSlope&#x27;, &#x27;LotShape&#x27;, &#x27;PavedDrive&#x27;,\n",
       "                                  &#x27;PoolQC&#x27;, &#x27;Utilities&#x27;]),\n",
       "                                (&#x27;num categories&#x27;,\n",
       "                                 Pipeline(steps=[(&#x27;simpleimputer&#x27;,\n",
       "                                                  SimpleImputer()),\n",
       "                                                 (&#x27;minmaxscaler&#x27;,\n",
       "                                                  MinMaxScaler())]),\n",
       "                                 &lt;sklearn.compose._column_transformer.make_column_selector object at 0x7f2c14939ac0&gt;)])</pre></div></div></div><div class=\"sk-parallel\"><div class=\"sk-parallel-item\"><div class=\"sk-item\"><div class=\"sk-label-container\"><div class=\"sk-label sk-toggleable\"><input class=\"sk-toggleable__control sk-hidden--visually\" id=\"c19f0556-bd85-43f3-82ba-4eb73fea3a5b\" type=\"checkbox\" ><label for=\"c19f0556-bd85-43f3-82ba-4eb73fea3a5b\" class=\"sk-toggleable__label sk-toggleable__label-arrow\">ohe categories</label><div class=\"sk-toggleable__content\"><pre>[&#x27;BldgType&#x27;, &#x27;GarageType&#x27;, &#x27;Heating&#x27;, &#x27;LandContour&#x27;, &#x27;LotConfig&#x27;, &#x27;MSZoning&#x27;, &#x27;MasVnrType&#x27;, &#x27;MiscFeature&#x27;, &#x27;RoofStyle&#x27;, &#x27;SaleCondition&#x27;, &#x27;Street&#x27;]</pre></div></div></div><div class=\"sk-serial\"><div class=\"sk-item\"><div class=\"sk-serial\"><div class=\"sk-item\"><div class=\"sk-estimator sk-toggleable\"><input class=\"sk-toggleable__control sk-hidden--visually\" id=\"44e0308e-f573-4233-94d1-7677a647a609\" type=\"checkbox\" ><label for=\"44e0308e-f573-4233-94d1-7677a647a609\" class=\"sk-toggleable__label sk-toggleable__label-arrow\">SimpleImputer</label><div class=\"sk-toggleable__content\"><pre>SimpleImputer(strategy=&#x27;most_frequent&#x27;)</pre></div></div></div><div class=\"sk-item\"><div class=\"sk-estimator sk-toggleable\"><input class=\"sk-toggleable__control sk-hidden--visually\" id=\"1ee234c7-d1ae-46f5-a342-12d41f54967b\" type=\"checkbox\" ><label for=\"1ee234c7-d1ae-46f5-a342-12d41f54967b\" class=\"sk-toggleable__label sk-toggleable__label-arrow\">OneHotEncoder</label><div class=\"sk-toggleable__content\"><pre>OneHotEncoder(handle_unknown=&#x27;ignore&#x27;, sparse=False)</pre></div></div></div></div></div></div></div></div><div class=\"sk-parallel-item\"><div class=\"sk-item\"><div class=\"sk-label-container\"><div class=\"sk-label sk-toggleable\"><input class=\"sk-toggleable__control sk-hidden--visually\" id=\"0876ae49-6eba-4882-b813-8902e53cdf3f\" type=\"checkbox\" ><label for=\"0876ae49-6eba-4882-b813-8902e53cdf3f\" class=\"sk-toggleable__label sk-toggleable__label-arrow\">ordinal categories</label><div class=\"sk-toggleable__content\"><pre>[&#x27;Alley&#x27;, &#x27;BsmtCond&#x27;, &#x27;BsmtExposure&#x27;, &#x27;BsmtFinType1&#x27;, &#x27;BsmtFinType2&#x27;, &#x27;BsmtQual&#x27;, &#x27;CentralAir&#x27;, &#x27;Electrical&#x27;, &#x27;ExterCond&#x27;, &#x27;ExterQual&#x27;, &#x27;Fence&#x27;, &#x27;FireplaceQu&#x27;, &#x27;Foundation&#x27;, &#x27;GarageCond&#x27;, &#x27;GarageFinish&#x27;, &#x27;GarageQual&#x27;, &#x27;HeatingQC&#x27;, &#x27;KitchenQual&#x27;, &#x27;LandSlope&#x27;, &#x27;LotShape&#x27;, &#x27;PavedDrive&#x27;, &#x27;PoolQC&#x27;, &#x27;Utilities&#x27;]</pre></div></div></div><div class=\"sk-serial\"><div class=\"sk-item\"><div class=\"sk-serial\"><div class=\"sk-item\"><div class=\"sk-estimator sk-toggleable\"><input class=\"sk-toggleable__control sk-hidden--visually\" id=\"2807a4e2-e8fd-4451-b05d-58327eefec19\" type=\"checkbox\" ><label for=\"2807a4e2-e8fd-4451-b05d-58327eefec19\" class=\"sk-toggleable__label sk-toggleable__label-arrow\">SimpleImputer</label><div class=\"sk-toggleable__content\"><pre>SimpleImputer(strategy=&#x27;most_frequent&#x27;)</pre></div></div></div><div class=\"sk-item\"><div class=\"sk-estimator sk-toggleable\"><input class=\"sk-toggleable__control sk-hidden--visually\" id=\"bd0bf547-8659-4c5e-a0ed-7bd74db89315\" type=\"checkbox\" ><label for=\"bd0bf547-8659-4c5e-a0ed-7bd74db89315\" class=\"sk-toggleable__label sk-toggleable__label-arrow\">OrdinalEncoder</label><div class=\"sk-toggleable__content\"><pre>OrdinalEncoder(categories=[[&#x27;NA&#x27;, &#x27;Grvl&#x27;, &#x27;Pave&#x27;],\n",
       "                           [&#x27;Po&#x27;, &#x27;Fa&#x27;, &#x27;Na&#x27;, &#x27;TA&#x27;, &#x27;Gd&#x27;, &#x27;Ex&#x27;],\n",
       "                           [&#x27;No&#x27;, &#x27;Mn&#x27;, &#x27;NA&#x27;, &#x27;Av&#x27;, &#x27;Gd&#x27;],\n",
       "                           [&#x27;Unf&#x27;, &#x27;LwQ&#x27;, &#x27;Rec&#x27;, &#x27;BLQ&#x27;, &#x27;NA&#x27;, &#x27;ALQ&#x27;, &#x27;GLQ&#x27;],\n",
       "                           [&#x27;Unf&#x27;, &#x27;LwQ&#x27;, &#x27;Rec&#x27;, &#x27;BLQ&#x27;, &#x27;NA&#x27;, &#x27;ALQ&#x27;, &#x27;GLQ&#x27;],\n",
       "                           [&#x27;Po&#x27;, &#x27;Fa&#x27;, &#x27;Na&#x27;, &#x27;TA&#x27;, &#x27;Gd&#x27;, &#x27;Ex&#x27;], [&#x27;N&#x27;, &#x27;Y&#x27;],\n",
       "                           [&#x27;Mix&#x27;, &#x27;FuseP&#x27;, &#x27;FuseF&#x27;, &#x27;FuseA&#x27;, &#x27;SBrkr&#x27;],\n",
       "                           [&#x27;Po&#x27;, &#x27;Fa&#x27;, &#x27;TA&#x27;, &#x27;Gd&#x27;, &#x27;Ex&#x27;],\n",
       "                           [&#x27;Po&#x27;, &#x27;Fa&#x27;, &#x27;TA&#x27;, &#x27;Gd&#x27;, &#x27;Ex&#x27;],\n",
       "                           [&#x27;NA&#x27;, &#x27;MnWw&#x27;, &#x27;GdWo&#x27;, &#x27;...\n",
       "                           [&#x27;Wood&#x27;, &#x27;Stone&#x27;, &#x27;Slab&#x27;, &#x27;BrkTil&#x27;, &#x27;CBlock&#x27;,\n",
       "                            &#x27;PConc&#x27;],\n",
       "                           [&#x27;Po&#x27;, &#x27;Fa&#x27;, &#x27;Na&#x27;, &#x27;TA&#x27;, &#x27;Gd&#x27;, &#x27;Ex&#x27;],\n",
       "                           [&#x27;Unf&#x27;, &#x27;NA&#x27;, &#x27;RFn&#x27;, &#x27;Fin&#x27;],\n",
       "                           [&#x27;Po&#x27;, &#x27;Fa&#x27;, &#x27;Na&#x27;, &#x27;TA&#x27;, &#x27;Gd&#x27;, &#x27;Ex&#x27;],\n",
       "                           [&#x27;Po&#x27;, &#x27;Fa&#x27;, &#x27;TA&#x27;, &#x27;Gd&#x27;, &#x27;Ex&#x27;],\n",
       "                           [&#x27;Po&#x27;, &#x27;Fa&#x27;, &#x27;TA&#x27;, &#x27;Gd&#x27;, &#x27;Ex&#x27;],\n",
       "                           [&#x27;Sev&#x27;, &#x27;Mod&#x27;, &#x27;Gtl&#x27;], [&#x27;IR3&#x27;, &#x27;IR2&#x27;, &#x27;IR1&#x27;, &#x27;Reg&#x27;],\n",
       "                           [&#x27;N&#x27;, &#x27;P&#x27;, &#x27;Y&#x27;], [&#x27;NA&#x27;, &#x27;Fa&#x27;, &#x27;TA&#x27;, &#x27;Gd&#x27;, &#x27;Ex&#x27;],\n",
       "                           [&#x27;ELO&#x27;, &#x27;NoSeWa&#x27;, &#x27;NoSewr&#x27;, &#x27;AllPub&#x27;]],\n",
       "               handle_unknown=&#x27;use_encoded_value&#x27;, unknown_value=-1)</pre></div></div></div></div></div></div></div></div><div class=\"sk-parallel-item\"><div class=\"sk-item\"><div class=\"sk-label-container\"><div class=\"sk-label sk-toggleable\"><input class=\"sk-toggleable__control sk-hidden--visually\" id=\"0b9635d5-485d-42cb-a503-0dbd75cce841\" type=\"checkbox\" ><label for=\"0b9635d5-485d-42cb-a503-0dbd75cce841\" class=\"sk-toggleable__label sk-toggleable__label-arrow\">num categories</label><div class=\"sk-toggleable__content\"><pre>&lt;sklearn.compose._column_transformer.make_column_selector object at 0x7f2c14939ac0&gt;</pre></div></div></div><div class=\"sk-serial\"><div class=\"sk-item\"><div class=\"sk-serial\"><div class=\"sk-item\"><div class=\"sk-estimator sk-toggleable\"><input class=\"sk-toggleable__control sk-hidden--visually\" id=\"13228df1-93bf-4947-a963-4839bf65db0c\" type=\"checkbox\" ><label for=\"13228df1-93bf-4947-a963-4839bf65db0c\" class=\"sk-toggleable__label sk-toggleable__label-arrow\">SimpleImputer</label><div class=\"sk-toggleable__content\"><pre>SimpleImputer()</pre></div></div></div><div class=\"sk-item\"><div class=\"sk-estimator sk-toggleable\"><input class=\"sk-toggleable__control sk-hidden--visually\" id=\"b0622084-a102-49b0-b450-1c1cc5bb159f\" type=\"checkbox\" ><label for=\"b0622084-a102-49b0-b450-1c1cc5bb159f\" class=\"sk-toggleable__label sk-toggleable__label-arrow\">MinMaxScaler</label><div class=\"sk-toggleable__content\"><pre>MinMaxScaler()</pre></div></div></div></div></div></div></div></div></div></div><div class=\"sk-item\"><div class=\"sk-estimator sk-toggleable\"><input class=\"sk-toggleable__control sk-hidden--visually\" id=\"2798ffca-5816-4290-9259-8a2cbd9a2bd6\" type=\"checkbox\" ><label for=\"2798ffca-5816-4290-9259-8a2cbd9a2bd6\" class=\"sk-toggleable__label sk-toggleable__label-arrow\">RandomForestRegressor</label><div class=\"sk-toggleable__content\"><pre>RandomForestRegressor()</pre></div></div></div></div></div></div></div></div></div></div></div></div>"
      ],
      "text/plain": [
       "GridSearchCV(cv=5,\n",
       "             estimator=Pipeline(steps=[('columntransformer',\n",
       "                                        ColumnTransformer(transformers=[('ohe '\n",
       "                                                                         'categories',\n",
       "                                                                         Pipeline(steps=[('simpleimputer',\n",
       "                                                                                          SimpleImputer(strategy='most_frequent')),\n",
       "                                                                                         ('onehotencoder',\n",
       "                                                                                          OneHotEncoder(handle_unknown='ignore',\n",
       "                                                                                                        sparse=False))]),\n",
       "                                                                         ['BldgType',\n",
       "                                                                          'GarageType',\n",
       "                                                                          'Heating',\n",
       "                                                                          'LandContour',\n",
       "                                                                          'LotConfig',\n",
       "                                                                          'MSZoning',\n",
       "                                                                          'MasVnrType',\n",
       "                                                                          'Mi...\n",
       "                                                                        ('num '\n",
       "                                                                         'categories',\n",
       "                                                                         Pipeline(steps=[('simpleimputer',\n",
       "                                                                                          SimpleImputer()),\n",
       "                                                                                         ('minmaxscaler',\n",
       "                                                                                          MinMaxScaler())]),\n",
       "                                                                         <sklearn.compose._column_transformer.make_column_selector object at 0x7f2c14939ac0>)])),\n",
       "                                       ('randomforestregressor',\n",
       "                                        RandomForestRegressor())]),\n",
       "             n_jobs=-1,\n",
       "             param_grid={'randomforestregressor__min_samples_split': [3, 4, 5]},\n",
       "             scoring=make_scorer(rmse), verbose=1)"
      ]
     },
     "execution_count": 178,
     "metadata": {},
     "output_type": "execute_result"
    }
   ],
   "source": [
    "search.fit(X_light_sorted,np.log(y))"
   ]
  },
  {
   "cell_type": "code",
   "execution_count": 179,
   "metadata": {},
   "outputs": [
    {
     "data": {
      "text/plain": [
       "{'randomforestregressor__min_samples_split': 4}"
      ]
     },
     "execution_count": 179,
     "metadata": {},
     "output_type": "execute_result"
    }
   ],
   "source": [
    "search.best_params_"
   ]
  },
  {
   "cell_type": "code",
   "execution_count": 180,
   "metadata": {},
   "outputs": [
    {
     "data": {
      "text/plain": [
       "0.1431651356268916"
      ]
     },
     "execution_count": 180,
     "metadata": {},
     "output_type": "execute_result"
    }
   ],
   "source": [
    "search.best_score_"
   ]
  },
  {
   "cell_type": "code",
   "execution_count": 206,
   "metadata": {},
   "outputs": [],
   "source": [
    "cv_result = cross_validate(pipe_tuned_rfr, X_light_sorted, np.log(y) , scoring=rmse_scorer, cv=5)"
   ]
  },
  {
   "cell_type": "code",
   "execution_count": 207,
   "metadata": {},
   "outputs": [
    {
     "data": {
      "text/plain": [
       "{'fit_time': array([1.0683496 , 1.01112533, 1.01559734, 1.01621246, 0.98981214]),\n",
       " 'score_time': array([0.01844287, 0.01871228, 0.01881146, 0.01811075, 0.01874232]),\n",
       " 'test_score': array([0.13593602, 0.15631873, 0.14235185, 0.12540778, 0.15162188])}"
      ]
     },
     "execution_count": 207,
     "metadata": {},
     "output_type": "execute_result"
    }
   ],
   "source": [
    "cv_result"
   ]
  },
  {
   "cell_type": "code",
   "execution_count": 208,
   "metadata": {},
   "outputs": [
    {
     "data": {
      "text/html": [
       "<style>#sk-162c5b6d-5e64-4ad3-aab1-f58e5385b905 {color: black;background-color: white;}#sk-162c5b6d-5e64-4ad3-aab1-f58e5385b905 pre{padding: 0;}#sk-162c5b6d-5e64-4ad3-aab1-f58e5385b905 div.sk-toggleable {background-color: white;}#sk-162c5b6d-5e64-4ad3-aab1-f58e5385b905 label.sk-toggleable__label {cursor: pointer;display: block;width: 100%;margin-bottom: 0;padding: 0.3em;box-sizing: border-box;text-align: center;}#sk-162c5b6d-5e64-4ad3-aab1-f58e5385b905 label.sk-toggleable__label-arrow:before {content: \"▸\";float: left;margin-right: 0.25em;color: #696969;}#sk-162c5b6d-5e64-4ad3-aab1-f58e5385b905 label.sk-toggleable__label-arrow:hover:before {color: black;}#sk-162c5b6d-5e64-4ad3-aab1-f58e5385b905 div.sk-estimator:hover label.sk-toggleable__label-arrow:before {color: black;}#sk-162c5b6d-5e64-4ad3-aab1-f58e5385b905 div.sk-toggleable__content {max-height: 0;max-width: 0;overflow: hidden;text-align: left;background-color: #f0f8ff;}#sk-162c5b6d-5e64-4ad3-aab1-f58e5385b905 div.sk-toggleable__content pre {margin: 0.2em;color: black;border-radius: 0.25em;background-color: #f0f8ff;}#sk-162c5b6d-5e64-4ad3-aab1-f58e5385b905 input.sk-toggleable__control:checked~div.sk-toggleable__content {max-height: 200px;max-width: 100%;overflow: auto;}#sk-162c5b6d-5e64-4ad3-aab1-f58e5385b905 input.sk-toggleable__control:checked~label.sk-toggleable__label-arrow:before {content: \"▾\";}#sk-162c5b6d-5e64-4ad3-aab1-f58e5385b905 div.sk-estimator input.sk-toggleable__control:checked~label.sk-toggleable__label {background-color: #d4ebff;}#sk-162c5b6d-5e64-4ad3-aab1-f58e5385b905 div.sk-label input.sk-toggleable__control:checked~label.sk-toggleable__label {background-color: #d4ebff;}#sk-162c5b6d-5e64-4ad3-aab1-f58e5385b905 input.sk-hidden--visually {border: 0;clip: rect(1px 1px 1px 1px);clip: rect(1px, 1px, 1px, 1px);height: 1px;margin: -1px;overflow: hidden;padding: 0;position: absolute;width: 1px;}#sk-162c5b6d-5e64-4ad3-aab1-f58e5385b905 div.sk-estimator {font-family: monospace;background-color: #f0f8ff;border: 1px dotted black;border-radius: 0.25em;box-sizing: border-box;margin-bottom: 0.5em;}#sk-162c5b6d-5e64-4ad3-aab1-f58e5385b905 div.sk-estimator:hover {background-color: #d4ebff;}#sk-162c5b6d-5e64-4ad3-aab1-f58e5385b905 div.sk-parallel-item::after {content: \"\";width: 100%;border-bottom: 1px solid gray;flex-grow: 1;}#sk-162c5b6d-5e64-4ad3-aab1-f58e5385b905 div.sk-label:hover label.sk-toggleable__label {background-color: #d4ebff;}#sk-162c5b6d-5e64-4ad3-aab1-f58e5385b905 div.sk-serial::before {content: \"\";position: absolute;border-left: 1px solid gray;box-sizing: border-box;top: 2em;bottom: 0;left: 50%;}#sk-162c5b6d-5e64-4ad3-aab1-f58e5385b905 div.sk-serial {display: flex;flex-direction: column;align-items: center;background-color: white;padding-right: 0.2em;padding-left: 0.2em;}#sk-162c5b6d-5e64-4ad3-aab1-f58e5385b905 div.sk-item {z-index: 1;}#sk-162c5b6d-5e64-4ad3-aab1-f58e5385b905 div.sk-parallel {display: flex;align-items: stretch;justify-content: center;background-color: white;}#sk-162c5b6d-5e64-4ad3-aab1-f58e5385b905 div.sk-parallel::before {content: \"\";position: absolute;border-left: 1px solid gray;box-sizing: border-box;top: 2em;bottom: 0;left: 50%;}#sk-162c5b6d-5e64-4ad3-aab1-f58e5385b905 div.sk-parallel-item {display: flex;flex-direction: column;position: relative;background-color: white;}#sk-162c5b6d-5e64-4ad3-aab1-f58e5385b905 div.sk-parallel-item:first-child::after {align-self: flex-end;width: 50%;}#sk-162c5b6d-5e64-4ad3-aab1-f58e5385b905 div.sk-parallel-item:last-child::after {align-self: flex-start;width: 50%;}#sk-162c5b6d-5e64-4ad3-aab1-f58e5385b905 div.sk-parallel-item:only-child::after {width: 0;}#sk-162c5b6d-5e64-4ad3-aab1-f58e5385b905 div.sk-dashed-wrapped {border: 1px dashed gray;margin: 0 0.4em 0.5em 0.4em;box-sizing: border-box;padding-bottom: 0.4em;background-color: white;position: relative;}#sk-162c5b6d-5e64-4ad3-aab1-f58e5385b905 div.sk-label label {font-family: monospace;font-weight: bold;background-color: white;display: inline-block;line-height: 1.2em;}#sk-162c5b6d-5e64-4ad3-aab1-f58e5385b905 div.sk-label-container {position: relative;z-index: 2;text-align: center;}#sk-162c5b6d-5e64-4ad3-aab1-f58e5385b905 div.sk-container {/* jupyter's `normalize.less` sets `[hidden] { display: none; }` but bootstrap.min.css set `[hidden] { display: none !important; }` so we also need the `!important` here to be able to override the default hidden behavior on the sphinx rendered scikit-learn.org. See: https://github.com/scikit-learn/scikit-learn/issues/21755 */display: inline-block !important;position: relative;}#sk-162c5b6d-5e64-4ad3-aab1-f58e5385b905 div.sk-text-repr-fallback {display: none;}</style><div id=\"sk-162c5b6d-5e64-4ad3-aab1-f58e5385b905\" class=\"sk-top-container\"><div class=\"sk-text-repr-fallback\"><pre>Pipeline(steps=[(&#x27;columntransformer&#x27;,\n",
       "                 ColumnTransformer(transformers=[(&#x27;ohe categories&#x27;,\n",
       "                                                  Pipeline(steps=[(&#x27;simpleimputer&#x27;,\n",
       "                                                                   SimpleImputer(strategy=&#x27;most_frequent&#x27;)),\n",
       "                                                                  (&#x27;onehotencoder&#x27;,\n",
       "                                                                   OneHotEncoder(handle_unknown=&#x27;ignore&#x27;,\n",
       "                                                                                 sparse=False))]),\n",
       "                                                  [&#x27;BldgType&#x27;, &#x27;GarageType&#x27;,\n",
       "                                                   &#x27;Heating&#x27;, &#x27;LandContour&#x27;,\n",
       "                                                   &#x27;LotConfig&#x27;, &#x27;MSZoning&#x27;,\n",
       "                                                   &#x27;MasVnrType&#x27;, &#x27;MiscFeature&#x27;,\n",
       "                                                   &#x27;RoofStyle&#x27;, &#x27;SaleCo...\n",
       "                                                   &#x27;GarageFinish&#x27;, &#x27;GarageQual&#x27;,\n",
       "                                                   &#x27;HeatingQC&#x27;, &#x27;KitchenQual&#x27;,\n",
       "                                                   &#x27;LandSlope&#x27;, &#x27;LotShape&#x27;,\n",
       "                                                   &#x27;PavedDrive&#x27;, &#x27;PoolQC&#x27;,\n",
       "                                                   &#x27;Utilities&#x27;]),\n",
       "                                                 (&#x27;num categories&#x27;,\n",
       "                                                  Pipeline(steps=[(&#x27;simpleimputer&#x27;,\n",
       "                                                                   SimpleImputer()),\n",
       "                                                                  (&#x27;minmaxscaler&#x27;,\n",
       "                                                                   MinMaxScaler())]),\n",
       "                                                  &lt;sklearn.compose._column_transformer.make_column_selector object at 0x7f2c14939ac0&gt;)])),\n",
       "                (&#x27;randomforestregressor&#x27;,\n",
       "                 RandomForestRegressor(min_samples_split=5))])</pre><b>Please rerun this cell to show the HTML repr or trust the notebook.</b></div><div class=\"sk-container\" hidden><div class=\"sk-item sk-dashed-wrapped\"><div class=\"sk-label-container\"><div class=\"sk-label sk-toggleable\"><input class=\"sk-toggleable__control sk-hidden--visually\" id=\"7c26c9a1-4c0f-4e5c-bbd5-4578f2158c8e\" type=\"checkbox\" ><label for=\"7c26c9a1-4c0f-4e5c-bbd5-4578f2158c8e\" class=\"sk-toggleable__label sk-toggleable__label-arrow\">Pipeline</label><div class=\"sk-toggleable__content\"><pre>Pipeline(steps=[(&#x27;columntransformer&#x27;,\n",
       "                 ColumnTransformer(transformers=[(&#x27;ohe categories&#x27;,\n",
       "                                                  Pipeline(steps=[(&#x27;simpleimputer&#x27;,\n",
       "                                                                   SimpleImputer(strategy=&#x27;most_frequent&#x27;)),\n",
       "                                                                  (&#x27;onehotencoder&#x27;,\n",
       "                                                                   OneHotEncoder(handle_unknown=&#x27;ignore&#x27;,\n",
       "                                                                                 sparse=False))]),\n",
       "                                                  [&#x27;BldgType&#x27;, &#x27;GarageType&#x27;,\n",
       "                                                   &#x27;Heating&#x27;, &#x27;LandContour&#x27;,\n",
       "                                                   &#x27;LotConfig&#x27;, &#x27;MSZoning&#x27;,\n",
       "                                                   &#x27;MasVnrType&#x27;, &#x27;MiscFeature&#x27;,\n",
       "                                                   &#x27;RoofStyle&#x27;, &#x27;SaleCo...\n",
       "                                                   &#x27;GarageFinish&#x27;, &#x27;GarageQual&#x27;,\n",
       "                                                   &#x27;HeatingQC&#x27;, &#x27;KitchenQual&#x27;,\n",
       "                                                   &#x27;LandSlope&#x27;, &#x27;LotShape&#x27;,\n",
       "                                                   &#x27;PavedDrive&#x27;, &#x27;PoolQC&#x27;,\n",
       "                                                   &#x27;Utilities&#x27;]),\n",
       "                                                 (&#x27;num categories&#x27;,\n",
       "                                                  Pipeline(steps=[(&#x27;simpleimputer&#x27;,\n",
       "                                                                   SimpleImputer()),\n",
       "                                                                  (&#x27;minmaxscaler&#x27;,\n",
       "                                                                   MinMaxScaler())]),\n",
       "                                                  &lt;sklearn.compose._column_transformer.make_column_selector object at 0x7f2c14939ac0&gt;)])),\n",
       "                (&#x27;randomforestregressor&#x27;,\n",
       "                 RandomForestRegressor(min_samples_split=5))])</pre></div></div></div><div class=\"sk-serial\"><div class=\"sk-item sk-dashed-wrapped\"><div class=\"sk-label-container\"><div class=\"sk-label sk-toggleable\"><input class=\"sk-toggleable__control sk-hidden--visually\" id=\"37c4dce6-818e-4d83-98b6-b2f77dffd3f0\" type=\"checkbox\" ><label for=\"37c4dce6-818e-4d83-98b6-b2f77dffd3f0\" class=\"sk-toggleable__label sk-toggleable__label-arrow\">columntransformer: ColumnTransformer</label><div class=\"sk-toggleable__content\"><pre>ColumnTransformer(transformers=[(&#x27;ohe categories&#x27;,\n",
       "                                 Pipeline(steps=[(&#x27;simpleimputer&#x27;,\n",
       "                                                  SimpleImputer(strategy=&#x27;most_frequent&#x27;)),\n",
       "                                                 (&#x27;onehotencoder&#x27;,\n",
       "                                                  OneHotEncoder(handle_unknown=&#x27;ignore&#x27;,\n",
       "                                                                sparse=False))]),\n",
       "                                 [&#x27;BldgType&#x27;, &#x27;GarageType&#x27;, &#x27;Heating&#x27;,\n",
       "                                  &#x27;LandContour&#x27;, &#x27;LotConfig&#x27;, &#x27;MSZoning&#x27;,\n",
       "                                  &#x27;MasVnrType&#x27;, &#x27;MiscFeature&#x27;, &#x27;RoofStyle&#x27;,\n",
       "                                  &#x27;SaleCondition&#x27;, &#x27;Street&#x27;]),\n",
       "                                (&#x27;ordinal categori...\n",
       "                                  &#x27;ExterQual&#x27;, &#x27;Fence&#x27;, &#x27;FireplaceQu&#x27;,\n",
       "                                  &#x27;Foundation&#x27;, &#x27;GarageCond&#x27;, &#x27;GarageFinish&#x27;,\n",
       "                                  &#x27;GarageQual&#x27;, &#x27;HeatingQC&#x27;, &#x27;KitchenQual&#x27;,\n",
       "                                  &#x27;LandSlope&#x27;, &#x27;LotShape&#x27;, &#x27;PavedDrive&#x27;,\n",
       "                                  &#x27;PoolQC&#x27;, &#x27;Utilities&#x27;]),\n",
       "                                (&#x27;num categories&#x27;,\n",
       "                                 Pipeline(steps=[(&#x27;simpleimputer&#x27;,\n",
       "                                                  SimpleImputer()),\n",
       "                                                 (&#x27;minmaxscaler&#x27;,\n",
       "                                                  MinMaxScaler())]),\n",
       "                                 &lt;sklearn.compose._column_transformer.make_column_selector object at 0x7f2c14939ac0&gt;)])</pre></div></div></div><div class=\"sk-parallel\"><div class=\"sk-parallel-item\"><div class=\"sk-item\"><div class=\"sk-label-container\"><div class=\"sk-label sk-toggleable\"><input class=\"sk-toggleable__control sk-hidden--visually\" id=\"4401f7c4-6be6-467b-87ff-6950fb130b85\" type=\"checkbox\" ><label for=\"4401f7c4-6be6-467b-87ff-6950fb130b85\" class=\"sk-toggleable__label sk-toggleable__label-arrow\">ohe categories</label><div class=\"sk-toggleable__content\"><pre>[&#x27;BldgType&#x27;, &#x27;GarageType&#x27;, &#x27;Heating&#x27;, &#x27;LandContour&#x27;, &#x27;LotConfig&#x27;, &#x27;MSZoning&#x27;, &#x27;MasVnrType&#x27;, &#x27;MiscFeature&#x27;, &#x27;RoofStyle&#x27;, &#x27;SaleCondition&#x27;, &#x27;Street&#x27;]</pre></div></div></div><div class=\"sk-serial\"><div class=\"sk-item\"><div class=\"sk-serial\"><div class=\"sk-item\"><div class=\"sk-estimator sk-toggleable\"><input class=\"sk-toggleable__control sk-hidden--visually\" id=\"f5414685-a8cc-43b8-9482-0edf57dc6793\" type=\"checkbox\" ><label for=\"f5414685-a8cc-43b8-9482-0edf57dc6793\" class=\"sk-toggleable__label sk-toggleable__label-arrow\">SimpleImputer</label><div class=\"sk-toggleable__content\"><pre>SimpleImputer(strategy=&#x27;most_frequent&#x27;)</pre></div></div></div><div class=\"sk-item\"><div class=\"sk-estimator sk-toggleable\"><input class=\"sk-toggleable__control sk-hidden--visually\" id=\"f8f223b6-bc81-47b6-bd13-6a654f3c6b56\" type=\"checkbox\" ><label for=\"f8f223b6-bc81-47b6-bd13-6a654f3c6b56\" class=\"sk-toggleable__label sk-toggleable__label-arrow\">OneHotEncoder</label><div class=\"sk-toggleable__content\"><pre>OneHotEncoder(handle_unknown=&#x27;ignore&#x27;, sparse=False)</pre></div></div></div></div></div></div></div></div><div class=\"sk-parallel-item\"><div class=\"sk-item\"><div class=\"sk-label-container\"><div class=\"sk-label sk-toggleable\"><input class=\"sk-toggleable__control sk-hidden--visually\" id=\"6ff7d80d-8eca-43a8-bc48-9e563691d090\" type=\"checkbox\" ><label for=\"6ff7d80d-8eca-43a8-bc48-9e563691d090\" class=\"sk-toggleable__label sk-toggleable__label-arrow\">ordinal categories</label><div class=\"sk-toggleable__content\"><pre>[&#x27;Alley&#x27;, &#x27;BsmtCond&#x27;, &#x27;BsmtExposure&#x27;, &#x27;BsmtFinType1&#x27;, &#x27;BsmtFinType2&#x27;, &#x27;BsmtQual&#x27;, &#x27;CentralAir&#x27;, &#x27;Electrical&#x27;, &#x27;ExterCond&#x27;, &#x27;ExterQual&#x27;, &#x27;Fence&#x27;, &#x27;FireplaceQu&#x27;, &#x27;Foundation&#x27;, &#x27;GarageCond&#x27;, &#x27;GarageFinish&#x27;, &#x27;GarageQual&#x27;, &#x27;HeatingQC&#x27;, &#x27;KitchenQual&#x27;, &#x27;LandSlope&#x27;, &#x27;LotShape&#x27;, &#x27;PavedDrive&#x27;, &#x27;PoolQC&#x27;, &#x27;Utilities&#x27;]</pre></div></div></div><div class=\"sk-serial\"><div class=\"sk-item\"><div class=\"sk-serial\"><div class=\"sk-item\"><div class=\"sk-estimator sk-toggleable\"><input class=\"sk-toggleable__control sk-hidden--visually\" id=\"b9c65e7d-355e-4d56-af79-0e3c8fb6b3ce\" type=\"checkbox\" ><label for=\"b9c65e7d-355e-4d56-af79-0e3c8fb6b3ce\" class=\"sk-toggleable__label sk-toggleable__label-arrow\">SimpleImputer</label><div class=\"sk-toggleable__content\"><pre>SimpleImputer(strategy=&#x27;most_frequent&#x27;)</pre></div></div></div><div class=\"sk-item\"><div class=\"sk-estimator sk-toggleable\"><input class=\"sk-toggleable__control sk-hidden--visually\" id=\"378e9d6b-f375-4760-a21f-2aff75cdcfc9\" type=\"checkbox\" ><label for=\"378e9d6b-f375-4760-a21f-2aff75cdcfc9\" class=\"sk-toggleable__label sk-toggleable__label-arrow\">OrdinalEncoder</label><div class=\"sk-toggleable__content\"><pre>OrdinalEncoder(categories=[[&#x27;NA&#x27;, &#x27;Grvl&#x27;, &#x27;Pave&#x27;],\n",
       "                           [&#x27;Po&#x27;, &#x27;Fa&#x27;, &#x27;Na&#x27;, &#x27;TA&#x27;, &#x27;Gd&#x27;, &#x27;Ex&#x27;],\n",
       "                           [&#x27;No&#x27;, &#x27;Mn&#x27;, &#x27;NA&#x27;, &#x27;Av&#x27;, &#x27;Gd&#x27;],\n",
       "                           [&#x27;Unf&#x27;, &#x27;LwQ&#x27;, &#x27;Rec&#x27;, &#x27;BLQ&#x27;, &#x27;NA&#x27;, &#x27;ALQ&#x27;, &#x27;GLQ&#x27;],\n",
       "                           [&#x27;Unf&#x27;, &#x27;LwQ&#x27;, &#x27;Rec&#x27;, &#x27;BLQ&#x27;, &#x27;NA&#x27;, &#x27;ALQ&#x27;, &#x27;GLQ&#x27;],\n",
       "                           [&#x27;Po&#x27;, &#x27;Fa&#x27;, &#x27;Na&#x27;, &#x27;TA&#x27;, &#x27;Gd&#x27;, &#x27;Ex&#x27;], [&#x27;N&#x27;, &#x27;Y&#x27;],\n",
       "                           [&#x27;Mix&#x27;, &#x27;FuseP&#x27;, &#x27;FuseF&#x27;, &#x27;FuseA&#x27;, &#x27;SBrkr&#x27;],\n",
       "                           [&#x27;Po&#x27;, &#x27;Fa&#x27;, &#x27;TA&#x27;, &#x27;Gd&#x27;, &#x27;Ex&#x27;],\n",
       "                           [&#x27;Po&#x27;, &#x27;Fa&#x27;, &#x27;TA&#x27;, &#x27;Gd&#x27;, &#x27;Ex&#x27;],\n",
       "                           [&#x27;NA&#x27;, &#x27;MnWw&#x27;, &#x27;GdWo&#x27;, &#x27;...\n",
       "                           [&#x27;Wood&#x27;, &#x27;Stone&#x27;, &#x27;Slab&#x27;, &#x27;BrkTil&#x27;, &#x27;CBlock&#x27;,\n",
       "                            &#x27;PConc&#x27;],\n",
       "                           [&#x27;Po&#x27;, &#x27;Fa&#x27;, &#x27;Na&#x27;, &#x27;TA&#x27;, &#x27;Gd&#x27;, &#x27;Ex&#x27;],\n",
       "                           [&#x27;Unf&#x27;, &#x27;NA&#x27;, &#x27;RFn&#x27;, &#x27;Fin&#x27;],\n",
       "                           [&#x27;Po&#x27;, &#x27;Fa&#x27;, &#x27;Na&#x27;, &#x27;TA&#x27;, &#x27;Gd&#x27;, &#x27;Ex&#x27;],\n",
       "                           [&#x27;Po&#x27;, &#x27;Fa&#x27;, &#x27;TA&#x27;, &#x27;Gd&#x27;, &#x27;Ex&#x27;],\n",
       "                           [&#x27;Po&#x27;, &#x27;Fa&#x27;, &#x27;TA&#x27;, &#x27;Gd&#x27;, &#x27;Ex&#x27;],\n",
       "                           [&#x27;Sev&#x27;, &#x27;Mod&#x27;, &#x27;Gtl&#x27;], [&#x27;IR3&#x27;, &#x27;IR2&#x27;, &#x27;IR1&#x27;, &#x27;Reg&#x27;],\n",
       "                           [&#x27;N&#x27;, &#x27;P&#x27;, &#x27;Y&#x27;], [&#x27;NA&#x27;, &#x27;Fa&#x27;, &#x27;TA&#x27;, &#x27;Gd&#x27;, &#x27;Ex&#x27;],\n",
       "                           [&#x27;ELO&#x27;, &#x27;NoSeWa&#x27;, &#x27;NoSewr&#x27;, &#x27;AllPub&#x27;]],\n",
       "               handle_unknown=&#x27;use_encoded_value&#x27;, unknown_value=-1)</pre></div></div></div></div></div></div></div></div><div class=\"sk-parallel-item\"><div class=\"sk-item\"><div class=\"sk-label-container\"><div class=\"sk-label sk-toggleable\"><input class=\"sk-toggleable__control sk-hidden--visually\" id=\"e9f93368-303c-468c-bfbd-f8bba2233561\" type=\"checkbox\" ><label for=\"e9f93368-303c-468c-bfbd-f8bba2233561\" class=\"sk-toggleable__label sk-toggleable__label-arrow\">num categories</label><div class=\"sk-toggleable__content\"><pre>&lt;sklearn.compose._column_transformer.make_column_selector object at 0x7f2c14939ac0&gt;</pre></div></div></div><div class=\"sk-serial\"><div class=\"sk-item\"><div class=\"sk-serial\"><div class=\"sk-item\"><div class=\"sk-estimator sk-toggleable\"><input class=\"sk-toggleable__control sk-hidden--visually\" id=\"e419904f-58c9-469f-99be-7748aa6a1c54\" type=\"checkbox\" ><label for=\"e419904f-58c9-469f-99be-7748aa6a1c54\" class=\"sk-toggleable__label sk-toggleable__label-arrow\">SimpleImputer</label><div class=\"sk-toggleable__content\"><pre>SimpleImputer()</pre></div></div></div><div class=\"sk-item\"><div class=\"sk-estimator sk-toggleable\"><input class=\"sk-toggleable__control sk-hidden--visually\" id=\"1e911cea-8c2c-401a-86ba-3d7d724b9a71\" type=\"checkbox\" ><label for=\"1e911cea-8c2c-401a-86ba-3d7d724b9a71\" class=\"sk-toggleable__label sk-toggleable__label-arrow\">MinMaxScaler</label><div class=\"sk-toggleable__content\"><pre>MinMaxScaler()</pre></div></div></div></div></div></div></div></div></div></div><div class=\"sk-item\"><div class=\"sk-estimator sk-toggleable\"><input class=\"sk-toggleable__control sk-hidden--visually\" id=\"6c184669-2f2e-45ab-ad9e-37b2f84c08ec\" type=\"checkbox\" ><label for=\"6c184669-2f2e-45ab-ad9e-37b2f84c08ec\" class=\"sk-toggleable__label sk-toggleable__label-arrow\">RandomForestRegressor</label><div class=\"sk-toggleable__content\"><pre>RandomForestRegressor(min_samples_split=5)</pre></div></div></div></div></div></div></div>"
      ],
      "text/plain": [
       "Pipeline(steps=[('columntransformer',\n",
       "                 ColumnTransformer(transformers=[('ohe categories',\n",
       "                                                  Pipeline(steps=[('simpleimputer',\n",
       "                                                                   SimpleImputer(strategy='most_frequent')),\n",
       "                                                                  ('onehotencoder',\n",
       "                                                                   OneHotEncoder(handle_unknown='ignore',\n",
       "                                                                                 sparse=False))]),\n",
       "                                                  ['BldgType', 'GarageType',\n",
       "                                                   'Heating', 'LandContour',\n",
       "                                                   'LotConfig', 'MSZoning',\n",
       "                                                   'MasVnrType', 'MiscFeature',\n",
       "                                                   'RoofStyle', 'SaleCo...\n",
       "                                                   'GarageFinish', 'GarageQual',\n",
       "                                                   'HeatingQC', 'KitchenQual',\n",
       "                                                   'LandSlope', 'LotShape',\n",
       "                                                   'PavedDrive', 'PoolQC',\n",
       "                                                   'Utilities']),\n",
       "                                                 ('num categories',\n",
       "                                                  Pipeline(steps=[('simpleimputer',\n",
       "                                                                   SimpleImputer()),\n",
       "                                                                  ('minmaxscaler',\n",
       "                                                                   MinMaxScaler())]),\n",
       "                                                  <sklearn.compose._column_transformer.make_column_selector object at 0x7f2c14939ac0>)])),\n",
       "                ('randomforestregressor',\n",
       "                 RandomForestRegressor(min_samples_split=5))])"
      ]
     },
     "execution_count": 208,
     "metadata": {},
     "output_type": "execute_result"
    }
   ],
   "source": [
    "pipe_tuned_rfr.fit(X_light_sorted, np.log(y))"
   ]
  },
  {
   "cell_type": "code",
   "execution_count": 210,
   "metadata": {},
   "outputs": [],
   "source": [
    "y_pred_baseline = np.exp(pipe_tuned_rfr.predict(X_test_light))"
   ]
  },
  {
   "cell_type": "code",
   "execution_count": 211,
   "metadata": {},
   "outputs": [],
   "source": [
    "pd.DataFrame({\"Id\" : X_test.loc[:,\"Id\"], \"SalePrice\":y_pred_baseline}).to_csv(\"data/submission_tuned_rfr_log.csv\", index=False)\n"
   ]
  },
  {
   "cell_type": "markdown",
   "metadata": {},
   "source": [
    "### Knn Neighbors"
   ]
  },
  {
   "cell_type": "code",
   "execution_count": 212,
   "metadata": {},
   "outputs": [],
   "source": [
    "from sklearn.neighbors import KNeighborsRegressor"
   ]
  },
  {
   "cell_type": "code",
   "execution_count": 213,
   "metadata": {},
   "outputs": [],
   "source": [
    "pipe_knn = make_pipeline(prepocessed_tuned, KNeighborsRegressor(n_jobs=-1))\n"
   ]
  },
  {
   "cell_type": "code",
   "execution_count": 218,
   "metadata": {
    "collapsed": true
   },
   "outputs": [
    {
     "data": {
      "text/plain": [
       "{'memory': None,\n",
       " 'steps': [('columntransformer',\n",
       "   ColumnTransformer(transformers=[('ohe categories',\n",
       "                                    Pipeline(steps=[('simpleimputer',\n",
       "                                                     SimpleImputer(strategy='most_frequent')),\n",
       "                                                    ('onehotencoder',\n",
       "                                                     OneHotEncoder(handle_unknown='ignore',\n",
       "                                                                   sparse=False))]),\n",
       "                                    ['BldgType', 'GarageType', 'Heating',\n",
       "                                     'LandContour', 'LotConfig', 'MSZoning',\n",
       "                                     'MasVnrType', 'MiscFeature', 'RoofStyle',\n",
       "                                     'SaleCondition', 'Street']),\n",
       "                                   ('ordinal categori...\n",
       "                                     'ExterQual', 'Fence', 'FireplaceQu',\n",
       "                                     'Foundation', 'GarageCond', 'GarageFinish',\n",
       "                                     'GarageQual', 'HeatingQC', 'KitchenQual',\n",
       "                                     'LandSlope', 'LotShape', 'PavedDrive',\n",
       "                                     'PoolQC', 'Utilities']),\n",
       "                                   ('num categories',\n",
       "                                    Pipeline(steps=[('simpleimputer',\n",
       "                                                     SimpleImputer()),\n",
       "                                                    ('minmaxscaler',\n",
       "                                                     MinMaxScaler())]),\n",
       "                                    <sklearn.compose._column_transformer.make_column_selector object at 0x7f2c14939ac0>)])),\n",
       "  ('kneighborsregressor', KNeighborsRegressor(n_jobs=-1))],\n",
       " 'verbose': False,\n",
       " 'columntransformer': ColumnTransformer(transformers=[('ohe categories',\n",
       "                                  Pipeline(steps=[('simpleimputer',\n",
       "                                                   SimpleImputer(strategy='most_frequent')),\n",
       "                                                  ('onehotencoder',\n",
       "                                                   OneHotEncoder(handle_unknown='ignore',\n",
       "                                                                 sparse=False))]),\n",
       "                                  ['BldgType', 'GarageType', 'Heating',\n",
       "                                   'LandContour', 'LotConfig', 'MSZoning',\n",
       "                                   'MasVnrType', 'MiscFeature', 'RoofStyle',\n",
       "                                   'SaleCondition', 'Street']),\n",
       "                                 ('ordinal categori...\n",
       "                                   'ExterQual', 'Fence', 'FireplaceQu',\n",
       "                                   'Foundation', 'GarageCond', 'GarageFinish',\n",
       "                                   'GarageQual', 'HeatingQC', 'KitchenQual',\n",
       "                                   'LandSlope', 'LotShape', 'PavedDrive',\n",
       "                                   'PoolQC', 'Utilities']),\n",
       "                                 ('num categories',\n",
       "                                  Pipeline(steps=[('simpleimputer',\n",
       "                                                   SimpleImputer()),\n",
       "                                                  ('minmaxscaler',\n",
       "                                                   MinMaxScaler())]),\n",
       "                                  <sklearn.compose._column_transformer.make_column_selector object at 0x7f2c14939ac0>)]),\n",
       " 'kneighborsregressor': KNeighborsRegressor(n_jobs=-1),\n",
       " 'columntransformer__n_jobs': None,\n",
       " 'columntransformer__remainder': 'drop',\n",
       " 'columntransformer__sparse_threshold': 0.3,\n",
       " 'columntransformer__transformer_weights': None,\n",
       " 'columntransformer__transformers': [('ohe categories',\n",
       "   Pipeline(steps=[('simpleimputer', SimpleImputer(strategy='most_frequent')),\n",
       "                   ('onehotencoder',\n",
       "                    OneHotEncoder(handle_unknown='ignore', sparse=False))]),\n",
       "   ['BldgType',\n",
       "    'GarageType',\n",
       "    'Heating',\n",
       "    'LandContour',\n",
       "    'LotConfig',\n",
       "    'MSZoning',\n",
       "    'MasVnrType',\n",
       "    'MiscFeature',\n",
       "    'RoofStyle',\n",
       "    'SaleCondition',\n",
       "    'Street']),\n",
       "  ('ordinal categories',\n",
       "   Pipeline(steps=[('simpleimputer', SimpleImputer(strategy='most_frequent')),\n",
       "                   ('ordinalencoder',\n",
       "                    OrdinalEncoder(categories=[['NA', 'Grvl', 'Pave'],\n",
       "                                               ['Po', 'Fa', 'Na', 'TA', 'Gd',\n",
       "                                                'Ex'],\n",
       "                                               ['No', 'Mn', 'NA', 'Av', 'Gd'],\n",
       "                                               ['Unf', 'LwQ', 'Rec', 'BLQ', 'NA',\n",
       "                                                'ALQ', 'GLQ'],\n",
       "                                               ['Unf', 'LwQ', 'Rec', 'BLQ', 'NA',\n",
       "                                                'ALQ', 'GLQ'],\n",
       "                                               ['Po', 'Fa', 'Na', 'TA', 'Gd',\n",
       "                                                'Ex'],\n",
       "                                               ['N', 'Y'],\n",
       "                                               ['Mix', 'FuseP', 'FuseF',...\n",
       "                                               ['Wood', 'Stone', 'Slab', 'BrkTil',\n",
       "                                                'CBlock', 'PConc'],\n",
       "                                               ['Po', 'Fa', 'Na', 'TA', 'Gd',\n",
       "                                                'Ex'],\n",
       "                                               ['Unf', 'NA', 'RFn', 'Fin'],\n",
       "                                               ['Po', 'Fa', 'Na', 'TA', 'Gd',\n",
       "                                                'Ex'],\n",
       "                                               ['Po', 'Fa', 'TA', 'Gd', 'Ex'],\n",
       "                                               ['Po', 'Fa', 'TA', 'Gd', 'Ex'],\n",
       "                                               ['Sev', 'Mod', 'Gtl'],\n",
       "                                               ['IR3', 'IR2', 'IR1', 'Reg'],\n",
       "                                               ['N', 'P', 'Y'],\n",
       "                                               ['NA', 'Fa', 'TA', 'Gd', 'Ex'],\n",
       "                                               ['ELO', 'NoSeWa', 'NoSewr',\n",
       "                                                'AllPub']],\n",
       "                                   handle_unknown='use_encoded_value',\n",
       "                                   unknown_value=-1))]),\n",
       "   ['Alley',\n",
       "    'BsmtCond',\n",
       "    'BsmtExposure',\n",
       "    'BsmtFinType1',\n",
       "    'BsmtFinType2',\n",
       "    'BsmtQual',\n",
       "    'CentralAir',\n",
       "    'Electrical',\n",
       "    'ExterCond',\n",
       "    'ExterQual',\n",
       "    'Fence',\n",
       "    'FireplaceQu',\n",
       "    'Foundation',\n",
       "    'GarageCond',\n",
       "    'GarageFinish',\n",
       "    'GarageQual',\n",
       "    'HeatingQC',\n",
       "    'KitchenQual',\n",
       "    'LandSlope',\n",
       "    'LotShape',\n",
       "    'PavedDrive',\n",
       "    'PoolQC',\n",
       "    'Utilities']),\n",
       "  ('num categories',\n",
       "   Pipeline(steps=[('simpleimputer', SimpleImputer()),\n",
       "                   ('minmaxscaler', MinMaxScaler())]),\n",
       "   <sklearn.compose._column_transformer.make_column_selector at 0x7f2c14939ac0>)],\n",
       " 'columntransformer__verbose': False,\n",
       " 'columntransformer__verbose_feature_names_out': True,\n",
       " 'columntransformer__ohe categories': Pipeline(steps=[('simpleimputer', SimpleImputer(strategy='most_frequent')),\n",
       "                 ('onehotencoder',\n",
       "                  OneHotEncoder(handle_unknown='ignore', sparse=False))]),\n",
       " 'columntransformer__ordinal categories': Pipeline(steps=[('simpleimputer', SimpleImputer(strategy='most_frequent')),\n",
       "                 ('ordinalencoder',\n",
       "                  OrdinalEncoder(categories=[['NA', 'Grvl', 'Pave'],\n",
       "                                             ['Po', 'Fa', 'Na', 'TA', 'Gd',\n",
       "                                              'Ex'],\n",
       "                                             ['No', 'Mn', 'NA', 'Av', 'Gd'],\n",
       "                                             ['Unf', 'LwQ', 'Rec', 'BLQ', 'NA',\n",
       "                                              'ALQ', 'GLQ'],\n",
       "                                             ['Unf', 'LwQ', 'Rec', 'BLQ', 'NA',\n",
       "                                              'ALQ', 'GLQ'],\n",
       "                                             ['Po', 'Fa', 'Na', 'TA', 'Gd',\n",
       "                                              'Ex'],\n",
       "                                             ['N', 'Y'],\n",
       "                                             ['Mix', 'FuseP', 'FuseF',...\n",
       "                                             ['Wood', 'Stone', 'Slab', 'BrkTil',\n",
       "                                              'CBlock', 'PConc'],\n",
       "                                             ['Po', 'Fa', 'Na', 'TA', 'Gd',\n",
       "                                              'Ex'],\n",
       "                                             ['Unf', 'NA', 'RFn', 'Fin'],\n",
       "                                             ['Po', 'Fa', 'Na', 'TA', 'Gd',\n",
       "                                              'Ex'],\n",
       "                                             ['Po', 'Fa', 'TA', 'Gd', 'Ex'],\n",
       "                                             ['Po', 'Fa', 'TA', 'Gd', 'Ex'],\n",
       "                                             ['Sev', 'Mod', 'Gtl'],\n",
       "                                             ['IR3', 'IR2', 'IR1', 'Reg'],\n",
       "                                             ['N', 'P', 'Y'],\n",
       "                                             ['NA', 'Fa', 'TA', 'Gd', 'Ex'],\n",
       "                                             ['ELO', 'NoSeWa', 'NoSewr',\n",
       "                                              'AllPub']],\n",
       "                                 handle_unknown='use_encoded_value',\n",
       "                                 unknown_value=-1))]),\n",
       " 'columntransformer__num categories': Pipeline(steps=[('simpleimputer', SimpleImputer()),\n",
       "                 ('minmaxscaler', MinMaxScaler())]),\n",
       " 'columntransformer__ohe categories__memory': None,\n",
       " 'columntransformer__ohe categories__steps': [('simpleimputer',\n",
       "   SimpleImputer(strategy='most_frequent')),\n",
       "  ('onehotencoder', OneHotEncoder(handle_unknown='ignore', sparse=False))],\n",
       " 'columntransformer__ohe categories__verbose': False,\n",
       " 'columntransformer__ohe categories__simpleimputer': SimpleImputer(strategy='most_frequent'),\n",
       " 'columntransformer__ohe categories__onehotencoder': OneHotEncoder(handle_unknown='ignore', sparse=False),\n",
       " 'columntransformer__ohe categories__simpleimputer__add_indicator': False,\n",
       " 'columntransformer__ohe categories__simpleimputer__copy': True,\n",
       " 'columntransformer__ohe categories__simpleimputer__fill_value': None,\n",
       " 'columntransformer__ohe categories__simpleimputer__missing_values': nan,\n",
       " 'columntransformer__ohe categories__simpleimputer__strategy': 'most_frequent',\n",
       " 'columntransformer__ohe categories__simpleimputer__verbose': 0,\n",
       " 'columntransformer__ohe categories__onehotencoder__categories': 'auto',\n",
       " 'columntransformer__ohe categories__onehotencoder__drop': None,\n",
       " 'columntransformer__ohe categories__onehotencoder__dtype': numpy.float64,\n",
       " 'columntransformer__ohe categories__onehotencoder__handle_unknown': 'ignore',\n",
       " 'columntransformer__ohe categories__onehotencoder__sparse': False,\n",
       " 'columntransformer__ordinal categories__memory': None,\n",
       " 'columntransformer__ordinal categories__steps': [('simpleimputer',\n",
       "   SimpleImputer(strategy='most_frequent')),\n",
       "  ('ordinalencoder',\n",
       "   OrdinalEncoder(categories=[['NA', 'Grvl', 'Pave'],\n",
       "                              ['Po', 'Fa', 'Na', 'TA', 'Gd', 'Ex'],\n",
       "                              ['No', 'Mn', 'NA', 'Av', 'Gd'],\n",
       "                              ['Unf', 'LwQ', 'Rec', 'BLQ', 'NA', 'ALQ', 'GLQ'],\n",
       "                              ['Unf', 'LwQ', 'Rec', 'BLQ', 'NA', 'ALQ', 'GLQ'],\n",
       "                              ['Po', 'Fa', 'Na', 'TA', 'Gd', 'Ex'], ['N', 'Y'],\n",
       "                              ['Mix', 'FuseP', 'FuseF', 'FuseA', 'SBrkr'],\n",
       "                              ['Po', 'Fa', 'TA', 'Gd', 'Ex'],\n",
       "                              ['Po', 'Fa', 'TA', 'Gd', 'Ex'],\n",
       "                              ['NA', 'MnWw', 'GdWo', '...\n",
       "                              ['Wood', 'Stone', 'Slab', 'BrkTil', 'CBlock',\n",
       "                               'PConc'],\n",
       "                              ['Po', 'Fa', 'Na', 'TA', 'Gd', 'Ex'],\n",
       "                              ['Unf', 'NA', 'RFn', 'Fin'],\n",
       "                              ['Po', 'Fa', 'Na', 'TA', 'Gd', 'Ex'],\n",
       "                              ['Po', 'Fa', 'TA', 'Gd', 'Ex'],\n",
       "                              ['Po', 'Fa', 'TA', 'Gd', 'Ex'],\n",
       "                              ['Sev', 'Mod', 'Gtl'], ['IR3', 'IR2', 'IR1', 'Reg'],\n",
       "                              ['N', 'P', 'Y'], ['NA', 'Fa', 'TA', 'Gd', 'Ex'],\n",
       "                              ['ELO', 'NoSeWa', 'NoSewr', 'AllPub']],\n",
       "                  handle_unknown='use_encoded_value', unknown_value=-1))],\n",
       " 'columntransformer__ordinal categories__verbose': False,\n",
       " 'columntransformer__ordinal categories__simpleimputer': SimpleImputer(strategy='most_frequent'),\n",
       " 'columntransformer__ordinal categories__ordinalencoder': OrdinalEncoder(categories=[['NA', 'Grvl', 'Pave'],\n",
       "                            ['Po', 'Fa', 'Na', 'TA', 'Gd', 'Ex'],\n",
       "                            ['No', 'Mn', 'NA', 'Av', 'Gd'],\n",
       "                            ['Unf', 'LwQ', 'Rec', 'BLQ', 'NA', 'ALQ', 'GLQ'],\n",
       "                            ['Unf', 'LwQ', 'Rec', 'BLQ', 'NA', 'ALQ', 'GLQ'],\n",
       "                            ['Po', 'Fa', 'Na', 'TA', 'Gd', 'Ex'], ['N', 'Y'],\n",
       "                            ['Mix', 'FuseP', 'FuseF', 'FuseA', 'SBrkr'],\n",
       "                            ['Po', 'Fa', 'TA', 'Gd', 'Ex'],\n",
       "                            ['Po', 'Fa', 'TA', 'Gd', 'Ex'],\n",
       "                            ['NA', 'MnWw', 'GdWo', '...\n",
       "                            ['Wood', 'Stone', 'Slab', 'BrkTil', 'CBlock',\n",
       "                             'PConc'],\n",
       "                            ['Po', 'Fa', 'Na', 'TA', 'Gd', 'Ex'],\n",
       "                            ['Unf', 'NA', 'RFn', 'Fin'],\n",
       "                            ['Po', 'Fa', 'Na', 'TA', 'Gd', 'Ex'],\n",
       "                            ['Po', 'Fa', 'TA', 'Gd', 'Ex'],\n",
       "                            ['Po', 'Fa', 'TA', 'Gd', 'Ex'],\n",
       "                            ['Sev', 'Mod', 'Gtl'], ['IR3', 'IR2', 'IR1', 'Reg'],\n",
       "                            ['N', 'P', 'Y'], ['NA', 'Fa', 'TA', 'Gd', 'Ex'],\n",
       "                            ['ELO', 'NoSeWa', 'NoSewr', 'AllPub']],\n",
       "                handle_unknown='use_encoded_value', unknown_value=-1),\n",
       " 'columntransformer__ordinal categories__simpleimputer__add_indicator': False,\n",
       " 'columntransformer__ordinal categories__simpleimputer__copy': True,\n",
       " 'columntransformer__ordinal categories__simpleimputer__fill_value': None,\n",
       " 'columntransformer__ordinal categories__simpleimputer__missing_values': nan,\n",
       " 'columntransformer__ordinal categories__simpleimputer__strategy': 'most_frequent',\n",
       " 'columntransformer__ordinal categories__simpleimputer__verbose': 0,\n",
       " 'columntransformer__ordinal categories__ordinalencoder__categories': [['NA',\n",
       "   'Grvl',\n",
       "   'Pave'],\n",
       "  ['Po', 'Fa', 'Na', 'TA', 'Gd', 'Ex'],\n",
       "  ['No', 'Mn', 'NA', 'Av', 'Gd'],\n",
       "  ['Unf', 'LwQ', 'Rec', 'BLQ', 'NA', 'ALQ', 'GLQ'],\n",
       "  ['Unf', 'LwQ', 'Rec', 'BLQ', 'NA', 'ALQ', 'GLQ'],\n",
       "  ['Po', 'Fa', 'Na', 'TA', 'Gd', 'Ex'],\n",
       "  ['N', 'Y'],\n",
       "  ['Mix', 'FuseP', 'FuseF', 'FuseA', 'SBrkr'],\n",
       "  ['Po', 'Fa', 'TA', 'Gd', 'Ex'],\n",
       "  ['Po', 'Fa', 'TA', 'Gd', 'Ex'],\n",
       "  ['NA', 'MnWw', 'GdWo', 'MnPrv', 'GdPrv'],\n",
       "  ['Po', 'Fa', 'Na', 'TA', 'Gd', 'Ex'],\n",
       "  ['Wood', 'Stone', 'Slab', 'BrkTil', 'CBlock', 'PConc'],\n",
       "  ['Po', 'Fa', 'Na', 'TA', 'Gd', 'Ex'],\n",
       "  ['Unf', 'NA', 'RFn', 'Fin'],\n",
       "  ['Po', 'Fa', 'Na', 'TA', 'Gd', 'Ex'],\n",
       "  ['Po', 'Fa', 'TA', 'Gd', 'Ex'],\n",
       "  ['Po', 'Fa', 'TA', 'Gd', 'Ex'],\n",
       "  ['Sev', 'Mod', 'Gtl'],\n",
       "  ['IR3', 'IR2', 'IR1', 'Reg'],\n",
       "  ['N', 'P', 'Y'],\n",
       "  ['NA', 'Fa', 'TA', 'Gd', 'Ex'],\n",
       "  ['ELO', 'NoSeWa', 'NoSewr', 'AllPub']],\n",
       " 'columntransformer__ordinal categories__ordinalencoder__dtype': numpy.float64,\n",
       " 'columntransformer__ordinal categories__ordinalencoder__handle_unknown': 'use_encoded_value',\n",
       " 'columntransformer__ordinal categories__ordinalencoder__unknown_value': -1,\n",
       " 'columntransformer__num categories__memory': None,\n",
       " 'columntransformer__num categories__steps': [('simpleimputer',\n",
       "   SimpleImputer()),\n",
       "  ('minmaxscaler', MinMaxScaler())],\n",
       " 'columntransformer__num categories__verbose': False,\n",
       " 'columntransformer__num categories__simpleimputer': SimpleImputer(),\n",
       " 'columntransformer__num categories__minmaxscaler': MinMaxScaler(),\n",
       " 'columntransformer__num categories__simpleimputer__add_indicator': False,\n",
       " 'columntransformer__num categories__simpleimputer__copy': True,\n",
       " 'columntransformer__num categories__simpleimputer__fill_value': None,\n",
       " 'columntransformer__num categories__simpleimputer__missing_values': nan,\n",
       " 'columntransformer__num categories__simpleimputer__strategy': 'mean',\n",
       " 'columntransformer__num categories__simpleimputer__verbose': 0,\n",
       " 'columntransformer__num categories__minmaxscaler__clip': False,\n",
       " 'columntransformer__num categories__minmaxscaler__copy': True,\n",
       " 'columntransformer__num categories__minmaxscaler__feature_range': (0, 1),\n",
       " 'kneighborsregressor__algorithm': 'auto',\n",
       " 'kneighborsregressor__leaf_size': 30,\n",
       " 'kneighborsregressor__metric': 'minkowski',\n",
       " 'kneighborsregressor__metric_params': None,\n",
       " 'kneighborsregressor__n_jobs': -1,\n",
       " 'kneighborsregressor__n_neighbors': 5,\n",
       " 'kneighborsregressor__p': 2,\n",
       " 'kneighborsregressor__weights': 'uniform'}"
      ]
     },
     "execution_count": 218,
     "metadata": {},
     "output_type": "execute_result"
    }
   ],
   "source": [
    "pipe_knn.get_params()"
   ]
  },
  {
   "cell_type": "code",
   "execution_count": 217,
   "metadata": {},
   "outputs": [],
   "source": [
    "param_grid={\n",
    "    #\"randomforestregressor__max_depth\":[3,4,5],\n",
    "    \"kneighborsregressor__n_neighbors\" : [3,4,5,6,7,8] \n",
    "    \n",
    "}\n",
    "\n",
    "search = GridSearchCV(pipe_knn, param_grid=param_grid, scoring=rmsle, cv=5, n_jobs=-1, verbose = 1)"
   ]
  },
  {
   "cell_type": "code",
   "execution_count": 219,
   "metadata": {},
   "outputs": [
    {
     "name": "stdout",
     "output_type": "stream",
     "text": [
      "Fitting 5 folds for each of 6 candidates, totalling 30 fits\n"
     ]
    },
    {
     "data": {
      "text/html": [
       "<style>#sk-8faf1734-3186-4160-b554-b256290430e4 {color: black;background-color: white;}#sk-8faf1734-3186-4160-b554-b256290430e4 pre{padding: 0;}#sk-8faf1734-3186-4160-b554-b256290430e4 div.sk-toggleable {background-color: white;}#sk-8faf1734-3186-4160-b554-b256290430e4 label.sk-toggleable__label {cursor: pointer;display: block;width: 100%;margin-bottom: 0;padding: 0.3em;box-sizing: border-box;text-align: center;}#sk-8faf1734-3186-4160-b554-b256290430e4 label.sk-toggleable__label-arrow:before {content: \"▸\";float: left;margin-right: 0.25em;color: #696969;}#sk-8faf1734-3186-4160-b554-b256290430e4 label.sk-toggleable__label-arrow:hover:before {color: black;}#sk-8faf1734-3186-4160-b554-b256290430e4 div.sk-estimator:hover label.sk-toggleable__label-arrow:before {color: black;}#sk-8faf1734-3186-4160-b554-b256290430e4 div.sk-toggleable__content {max-height: 0;max-width: 0;overflow: hidden;text-align: left;background-color: #f0f8ff;}#sk-8faf1734-3186-4160-b554-b256290430e4 div.sk-toggleable__content pre {margin: 0.2em;color: black;border-radius: 0.25em;background-color: #f0f8ff;}#sk-8faf1734-3186-4160-b554-b256290430e4 input.sk-toggleable__control:checked~div.sk-toggleable__content {max-height: 200px;max-width: 100%;overflow: auto;}#sk-8faf1734-3186-4160-b554-b256290430e4 input.sk-toggleable__control:checked~label.sk-toggleable__label-arrow:before {content: \"▾\";}#sk-8faf1734-3186-4160-b554-b256290430e4 div.sk-estimator input.sk-toggleable__control:checked~label.sk-toggleable__label {background-color: #d4ebff;}#sk-8faf1734-3186-4160-b554-b256290430e4 div.sk-label input.sk-toggleable__control:checked~label.sk-toggleable__label {background-color: #d4ebff;}#sk-8faf1734-3186-4160-b554-b256290430e4 input.sk-hidden--visually {border: 0;clip: rect(1px 1px 1px 1px);clip: rect(1px, 1px, 1px, 1px);height: 1px;margin: -1px;overflow: hidden;padding: 0;position: absolute;width: 1px;}#sk-8faf1734-3186-4160-b554-b256290430e4 div.sk-estimator {font-family: monospace;background-color: #f0f8ff;border: 1px dotted black;border-radius: 0.25em;box-sizing: border-box;margin-bottom: 0.5em;}#sk-8faf1734-3186-4160-b554-b256290430e4 div.sk-estimator:hover {background-color: #d4ebff;}#sk-8faf1734-3186-4160-b554-b256290430e4 div.sk-parallel-item::after {content: \"\";width: 100%;border-bottom: 1px solid gray;flex-grow: 1;}#sk-8faf1734-3186-4160-b554-b256290430e4 div.sk-label:hover label.sk-toggleable__label {background-color: #d4ebff;}#sk-8faf1734-3186-4160-b554-b256290430e4 div.sk-serial::before {content: \"\";position: absolute;border-left: 1px solid gray;box-sizing: border-box;top: 2em;bottom: 0;left: 50%;}#sk-8faf1734-3186-4160-b554-b256290430e4 div.sk-serial {display: flex;flex-direction: column;align-items: center;background-color: white;padding-right: 0.2em;padding-left: 0.2em;}#sk-8faf1734-3186-4160-b554-b256290430e4 div.sk-item {z-index: 1;}#sk-8faf1734-3186-4160-b554-b256290430e4 div.sk-parallel {display: flex;align-items: stretch;justify-content: center;background-color: white;}#sk-8faf1734-3186-4160-b554-b256290430e4 div.sk-parallel::before {content: \"\";position: absolute;border-left: 1px solid gray;box-sizing: border-box;top: 2em;bottom: 0;left: 50%;}#sk-8faf1734-3186-4160-b554-b256290430e4 div.sk-parallel-item {display: flex;flex-direction: column;position: relative;background-color: white;}#sk-8faf1734-3186-4160-b554-b256290430e4 div.sk-parallel-item:first-child::after {align-self: flex-end;width: 50%;}#sk-8faf1734-3186-4160-b554-b256290430e4 div.sk-parallel-item:last-child::after {align-self: flex-start;width: 50%;}#sk-8faf1734-3186-4160-b554-b256290430e4 div.sk-parallel-item:only-child::after {width: 0;}#sk-8faf1734-3186-4160-b554-b256290430e4 div.sk-dashed-wrapped {border: 1px dashed gray;margin: 0 0.4em 0.5em 0.4em;box-sizing: border-box;padding-bottom: 0.4em;background-color: white;position: relative;}#sk-8faf1734-3186-4160-b554-b256290430e4 div.sk-label label {font-family: monospace;font-weight: bold;background-color: white;display: inline-block;line-height: 1.2em;}#sk-8faf1734-3186-4160-b554-b256290430e4 div.sk-label-container {position: relative;z-index: 2;text-align: center;}#sk-8faf1734-3186-4160-b554-b256290430e4 div.sk-container {/* jupyter's `normalize.less` sets `[hidden] { display: none; }` but bootstrap.min.css set `[hidden] { display: none !important; }` so we also need the `!important` here to be able to override the default hidden behavior on the sphinx rendered scikit-learn.org. See: https://github.com/scikit-learn/scikit-learn/issues/21755 */display: inline-block !important;position: relative;}#sk-8faf1734-3186-4160-b554-b256290430e4 div.sk-text-repr-fallback {display: none;}</style><div id=\"sk-8faf1734-3186-4160-b554-b256290430e4\" class=\"sk-top-container\"><div class=\"sk-text-repr-fallback\"><pre>GridSearchCV(cv=5,\n",
       "             estimator=Pipeline(steps=[(&#x27;columntransformer&#x27;,\n",
       "                                        ColumnTransformer(transformers=[(&#x27;ohe &#x27;\n",
       "                                                                         &#x27;categories&#x27;,\n",
       "                                                                         Pipeline(steps=[(&#x27;simpleimputer&#x27;,\n",
       "                                                                                          SimpleImputer(strategy=&#x27;most_frequent&#x27;)),\n",
       "                                                                                         (&#x27;onehotencoder&#x27;,\n",
       "                                                                                          OneHotEncoder(handle_unknown=&#x27;ignore&#x27;,\n",
       "                                                                                                        sparse=False))]),\n",
       "                                                                         [&#x27;BldgType&#x27;,\n",
       "                                                                          &#x27;GarageType&#x27;,\n",
       "                                                                          &#x27;Heating&#x27;,\n",
       "                                                                          &#x27;LandContour&#x27;,\n",
       "                                                                          &#x27;LotConfig&#x27;,\n",
       "                                                                          &#x27;MSZoning&#x27;,\n",
       "                                                                          &#x27;MasVnrType&#x27;,\n",
       "                                                                          &#x27;Mi...\n",
       "                                                                         &#x27;categories&#x27;,\n",
       "                                                                         Pipeline(steps=[(&#x27;simpleimputer&#x27;,\n",
       "                                                                                          SimpleImputer()),\n",
       "                                                                                         (&#x27;minmaxscaler&#x27;,\n",
       "                                                                                          MinMaxScaler())]),\n",
       "                                                                         &lt;sklearn.compose._column_transformer.make_column_selector object at 0x7f2c14939ac0&gt;)])),\n",
       "                                       (&#x27;kneighborsregressor&#x27;,\n",
       "                                        KNeighborsRegressor(n_jobs=-1))]),\n",
       "             n_jobs=-1,\n",
       "             param_grid={&#x27;kneighborsregressor__n_neighbors&#x27;: [3, 4, 5, 6, 7,\n",
       "                                                              8]},\n",
       "             scoring=make_scorer(log_loss), verbose=1)</pre><b>Please rerun this cell to show the HTML repr or trust the notebook.</b></div><div class=\"sk-container\" hidden><div class=\"sk-item sk-dashed-wrapped\"><div class=\"sk-label-container\"><div class=\"sk-label sk-toggleable\"><input class=\"sk-toggleable__control sk-hidden--visually\" id=\"271a92e0-4c9c-4136-83e3-432485d318a6\" type=\"checkbox\" ><label for=\"271a92e0-4c9c-4136-83e3-432485d318a6\" class=\"sk-toggleable__label sk-toggleable__label-arrow\">GridSearchCV</label><div class=\"sk-toggleable__content\"><pre>GridSearchCV(cv=5,\n",
       "             estimator=Pipeline(steps=[(&#x27;columntransformer&#x27;,\n",
       "                                        ColumnTransformer(transformers=[(&#x27;ohe &#x27;\n",
       "                                                                         &#x27;categories&#x27;,\n",
       "                                                                         Pipeline(steps=[(&#x27;simpleimputer&#x27;,\n",
       "                                                                                          SimpleImputer(strategy=&#x27;most_frequent&#x27;)),\n",
       "                                                                                         (&#x27;onehotencoder&#x27;,\n",
       "                                                                                          OneHotEncoder(handle_unknown=&#x27;ignore&#x27;,\n",
       "                                                                                                        sparse=False))]),\n",
       "                                                                         [&#x27;BldgType&#x27;,\n",
       "                                                                          &#x27;GarageType&#x27;,\n",
       "                                                                          &#x27;Heating&#x27;,\n",
       "                                                                          &#x27;LandContour&#x27;,\n",
       "                                                                          &#x27;LotConfig&#x27;,\n",
       "                                                                          &#x27;MSZoning&#x27;,\n",
       "                                                                          &#x27;MasVnrType&#x27;,\n",
       "                                                                          &#x27;Mi...\n",
       "                                                                         &#x27;categories&#x27;,\n",
       "                                                                         Pipeline(steps=[(&#x27;simpleimputer&#x27;,\n",
       "                                                                                          SimpleImputer()),\n",
       "                                                                                         (&#x27;minmaxscaler&#x27;,\n",
       "                                                                                          MinMaxScaler())]),\n",
       "                                                                         &lt;sklearn.compose._column_transformer.make_column_selector object at 0x7f2c14939ac0&gt;)])),\n",
       "                                       (&#x27;kneighborsregressor&#x27;,\n",
       "                                        KNeighborsRegressor(n_jobs=-1))]),\n",
       "             n_jobs=-1,\n",
       "             param_grid={&#x27;kneighborsregressor__n_neighbors&#x27;: [3, 4, 5, 6, 7,\n",
       "                                                              8]},\n",
       "             scoring=make_scorer(log_loss), verbose=1)</pre></div></div></div><div class=\"sk-parallel\"><div class=\"sk-parallel-item\"><div class=\"sk-item\"><div class=\"sk-serial\"><div class=\"sk-item\"><div class=\"sk-serial\"><div class=\"sk-item sk-dashed-wrapped\"><div class=\"sk-label-container\"><div class=\"sk-label sk-toggleable\"><input class=\"sk-toggleable__control sk-hidden--visually\" id=\"6e4a74d8-c635-4c7b-b254-8ec69f550b26\" type=\"checkbox\" ><label for=\"6e4a74d8-c635-4c7b-b254-8ec69f550b26\" class=\"sk-toggleable__label sk-toggleable__label-arrow\">columntransformer: ColumnTransformer</label><div class=\"sk-toggleable__content\"><pre>ColumnTransformer(transformers=[(&#x27;ohe categories&#x27;,\n",
       "                                 Pipeline(steps=[(&#x27;simpleimputer&#x27;,\n",
       "                                                  SimpleImputer(strategy=&#x27;most_frequent&#x27;)),\n",
       "                                                 (&#x27;onehotencoder&#x27;,\n",
       "                                                  OneHotEncoder(handle_unknown=&#x27;ignore&#x27;,\n",
       "                                                                sparse=False))]),\n",
       "                                 [&#x27;BldgType&#x27;, &#x27;GarageType&#x27;, &#x27;Heating&#x27;,\n",
       "                                  &#x27;LandContour&#x27;, &#x27;LotConfig&#x27;, &#x27;MSZoning&#x27;,\n",
       "                                  &#x27;MasVnrType&#x27;, &#x27;MiscFeature&#x27;, &#x27;RoofStyle&#x27;,\n",
       "                                  &#x27;SaleCondition&#x27;, &#x27;Street&#x27;]),\n",
       "                                (&#x27;ordinal categori...\n",
       "                                  &#x27;ExterQual&#x27;, &#x27;Fence&#x27;, &#x27;FireplaceQu&#x27;,\n",
       "                                  &#x27;Foundation&#x27;, &#x27;GarageCond&#x27;, &#x27;GarageFinish&#x27;,\n",
       "                                  &#x27;GarageQual&#x27;, &#x27;HeatingQC&#x27;, &#x27;KitchenQual&#x27;,\n",
       "                                  &#x27;LandSlope&#x27;, &#x27;LotShape&#x27;, &#x27;PavedDrive&#x27;,\n",
       "                                  &#x27;PoolQC&#x27;, &#x27;Utilities&#x27;]),\n",
       "                                (&#x27;num categories&#x27;,\n",
       "                                 Pipeline(steps=[(&#x27;simpleimputer&#x27;,\n",
       "                                                  SimpleImputer()),\n",
       "                                                 (&#x27;minmaxscaler&#x27;,\n",
       "                                                  MinMaxScaler())]),\n",
       "                                 &lt;sklearn.compose._column_transformer.make_column_selector object at 0x7f2c14939ac0&gt;)])</pre></div></div></div><div class=\"sk-parallel\"><div class=\"sk-parallel-item\"><div class=\"sk-item\"><div class=\"sk-label-container\"><div class=\"sk-label sk-toggleable\"><input class=\"sk-toggleable__control sk-hidden--visually\" id=\"f62e4a5f-b9de-4c00-a385-849e598a55f5\" type=\"checkbox\" ><label for=\"f62e4a5f-b9de-4c00-a385-849e598a55f5\" class=\"sk-toggleable__label sk-toggleable__label-arrow\">ohe categories</label><div class=\"sk-toggleable__content\"><pre>[&#x27;BldgType&#x27;, &#x27;GarageType&#x27;, &#x27;Heating&#x27;, &#x27;LandContour&#x27;, &#x27;LotConfig&#x27;, &#x27;MSZoning&#x27;, &#x27;MasVnrType&#x27;, &#x27;MiscFeature&#x27;, &#x27;RoofStyle&#x27;, &#x27;SaleCondition&#x27;, &#x27;Street&#x27;]</pre></div></div></div><div class=\"sk-serial\"><div class=\"sk-item\"><div class=\"sk-serial\"><div class=\"sk-item\"><div class=\"sk-estimator sk-toggleable\"><input class=\"sk-toggleable__control sk-hidden--visually\" id=\"4d012670-1560-4401-8afe-0b768fabc396\" type=\"checkbox\" ><label for=\"4d012670-1560-4401-8afe-0b768fabc396\" class=\"sk-toggleable__label sk-toggleable__label-arrow\">SimpleImputer</label><div class=\"sk-toggleable__content\"><pre>SimpleImputer(strategy=&#x27;most_frequent&#x27;)</pre></div></div></div><div class=\"sk-item\"><div class=\"sk-estimator sk-toggleable\"><input class=\"sk-toggleable__control sk-hidden--visually\" id=\"6221d4ec-b6ac-4675-99cc-496ff28dd2fc\" type=\"checkbox\" ><label for=\"6221d4ec-b6ac-4675-99cc-496ff28dd2fc\" class=\"sk-toggleable__label sk-toggleable__label-arrow\">OneHotEncoder</label><div class=\"sk-toggleable__content\"><pre>OneHotEncoder(handle_unknown=&#x27;ignore&#x27;, sparse=False)</pre></div></div></div></div></div></div></div></div><div class=\"sk-parallel-item\"><div class=\"sk-item\"><div class=\"sk-label-container\"><div class=\"sk-label sk-toggleable\"><input class=\"sk-toggleable__control sk-hidden--visually\" id=\"79b874e1-4a77-4bcf-818f-9e4d4c277b98\" type=\"checkbox\" ><label for=\"79b874e1-4a77-4bcf-818f-9e4d4c277b98\" class=\"sk-toggleable__label sk-toggleable__label-arrow\">ordinal categories</label><div class=\"sk-toggleable__content\"><pre>[&#x27;Alley&#x27;, &#x27;BsmtCond&#x27;, &#x27;BsmtExposure&#x27;, &#x27;BsmtFinType1&#x27;, &#x27;BsmtFinType2&#x27;, &#x27;BsmtQual&#x27;, &#x27;CentralAir&#x27;, &#x27;Electrical&#x27;, &#x27;ExterCond&#x27;, &#x27;ExterQual&#x27;, &#x27;Fence&#x27;, &#x27;FireplaceQu&#x27;, &#x27;Foundation&#x27;, &#x27;GarageCond&#x27;, &#x27;GarageFinish&#x27;, &#x27;GarageQual&#x27;, &#x27;HeatingQC&#x27;, &#x27;KitchenQual&#x27;, &#x27;LandSlope&#x27;, &#x27;LotShape&#x27;, &#x27;PavedDrive&#x27;, &#x27;PoolQC&#x27;, &#x27;Utilities&#x27;]</pre></div></div></div><div class=\"sk-serial\"><div class=\"sk-item\"><div class=\"sk-serial\"><div class=\"sk-item\"><div class=\"sk-estimator sk-toggleable\"><input class=\"sk-toggleable__control sk-hidden--visually\" id=\"18905d12-bc21-4b3a-a50e-d600ef388631\" type=\"checkbox\" ><label for=\"18905d12-bc21-4b3a-a50e-d600ef388631\" class=\"sk-toggleable__label sk-toggleable__label-arrow\">SimpleImputer</label><div class=\"sk-toggleable__content\"><pre>SimpleImputer(strategy=&#x27;most_frequent&#x27;)</pre></div></div></div><div class=\"sk-item\"><div class=\"sk-estimator sk-toggleable\"><input class=\"sk-toggleable__control sk-hidden--visually\" id=\"ead359ae-eb16-4ec2-b3fd-bd56c768382a\" type=\"checkbox\" ><label for=\"ead359ae-eb16-4ec2-b3fd-bd56c768382a\" class=\"sk-toggleable__label sk-toggleable__label-arrow\">OrdinalEncoder</label><div class=\"sk-toggleable__content\"><pre>OrdinalEncoder(categories=[[&#x27;NA&#x27;, &#x27;Grvl&#x27;, &#x27;Pave&#x27;],\n",
       "                           [&#x27;Po&#x27;, &#x27;Fa&#x27;, &#x27;Na&#x27;, &#x27;TA&#x27;, &#x27;Gd&#x27;, &#x27;Ex&#x27;],\n",
       "                           [&#x27;No&#x27;, &#x27;Mn&#x27;, &#x27;NA&#x27;, &#x27;Av&#x27;, &#x27;Gd&#x27;],\n",
       "                           [&#x27;Unf&#x27;, &#x27;LwQ&#x27;, &#x27;Rec&#x27;, &#x27;BLQ&#x27;, &#x27;NA&#x27;, &#x27;ALQ&#x27;, &#x27;GLQ&#x27;],\n",
       "                           [&#x27;Unf&#x27;, &#x27;LwQ&#x27;, &#x27;Rec&#x27;, &#x27;BLQ&#x27;, &#x27;NA&#x27;, &#x27;ALQ&#x27;, &#x27;GLQ&#x27;],\n",
       "                           [&#x27;Po&#x27;, &#x27;Fa&#x27;, &#x27;Na&#x27;, &#x27;TA&#x27;, &#x27;Gd&#x27;, &#x27;Ex&#x27;], [&#x27;N&#x27;, &#x27;Y&#x27;],\n",
       "                           [&#x27;Mix&#x27;, &#x27;FuseP&#x27;, &#x27;FuseF&#x27;, &#x27;FuseA&#x27;, &#x27;SBrkr&#x27;],\n",
       "                           [&#x27;Po&#x27;, &#x27;Fa&#x27;, &#x27;TA&#x27;, &#x27;Gd&#x27;, &#x27;Ex&#x27;],\n",
       "                           [&#x27;Po&#x27;, &#x27;Fa&#x27;, &#x27;TA&#x27;, &#x27;Gd&#x27;, &#x27;Ex&#x27;],\n",
       "                           [&#x27;NA&#x27;, &#x27;MnWw&#x27;, &#x27;GdWo&#x27;, &#x27;...\n",
       "                           [&#x27;Wood&#x27;, &#x27;Stone&#x27;, &#x27;Slab&#x27;, &#x27;BrkTil&#x27;, &#x27;CBlock&#x27;,\n",
       "                            &#x27;PConc&#x27;],\n",
       "                           [&#x27;Po&#x27;, &#x27;Fa&#x27;, &#x27;Na&#x27;, &#x27;TA&#x27;, &#x27;Gd&#x27;, &#x27;Ex&#x27;],\n",
       "                           [&#x27;Unf&#x27;, &#x27;NA&#x27;, &#x27;RFn&#x27;, &#x27;Fin&#x27;],\n",
       "                           [&#x27;Po&#x27;, &#x27;Fa&#x27;, &#x27;Na&#x27;, &#x27;TA&#x27;, &#x27;Gd&#x27;, &#x27;Ex&#x27;],\n",
       "                           [&#x27;Po&#x27;, &#x27;Fa&#x27;, &#x27;TA&#x27;, &#x27;Gd&#x27;, &#x27;Ex&#x27;],\n",
       "                           [&#x27;Po&#x27;, &#x27;Fa&#x27;, &#x27;TA&#x27;, &#x27;Gd&#x27;, &#x27;Ex&#x27;],\n",
       "                           [&#x27;Sev&#x27;, &#x27;Mod&#x27;, &#x27;Gtl&#x27;], [&#x27;IR3&#x27;, &#x27;IR2&#x27;, &#x27;IR1&#x27;, &#x27;Reg&#x27;],\n",
       "                           [&#x27;N&#x27;, &#x27;P&#x27;, &#x27;Y&#x27;], [&#x27;NA&#x27;, &#x27;Fa&#x27;, &#x27;TA&#x27;, &#x27;Gd&#x27;, &#x27;Ex&#x27;],\n",
       "                           [&#x27;ELO&#x27;, &#x27;NoSeWa&#x27;, &#x27;NoSewr&#x27;, &#x27;AllPub&#x27;]],\n",
       "               handle_unknown=&#x27;use_encoded_value&#x27;, unknown_value=-1)</pre></div></div></div></div></div></div></div></div><div class=\"sk-parallel-item\"><div class=\"sk-item\"><div class=\"sk-label-container\"><div class=\"sk-label sk-toggleable\"><input class=\"sk-toggleable__control sk-hidden--visually\" id=\"9f78f1e4-60d8-4b5b-9dce-ec11d000eb0b\" type=\"checkbox\" ><label for=\"9f78f1e4-60d8-4b5b-9dce-ec11d000eb0b\" class=\"sk-toggleable__label sk-toggleable__label-arrow\">num categories</label><div class=\"sk-toggleable__content\"><pre>&lt;sklearn.compose._column_transformer.make_column_selector object at 0x7f2c14939ac0&gt;</pre></div></div></div><div class=\"sk-serial\"><div class=\"sk-item\"><div class=\"sk-serial\"><div class=\"sk-item\"><div class=\"sk-estimator sk-toggleable\"><input class=\"sk-toggleable__control sk-hidden--visually\" id=\"66abab3f-1ca5-44cd-bc65-137f25564588\" type=\"checkbox\" ><label for=\"66abab3f-1ca5-44cd-bc65-137f25564588\" class=\"sk-toggleable__label sk-toggleable__label-arrow\">SimpleImputer</label><div class=\"sk-toggleable__content\"><pre>SimpleImputer()</pre></div></div></div><div class=\"sk-item\"><div class=\"sk-estimator sk-toggleable\"><input class=\"sk-toggleable__control sk-hidden--visually\" id=\"bf071f9c-0c8d-4750-be11-8b880b529e47\" type=\"checkbox\" ><label for=\"bf071f9c-0c8d-4750-be11-8b880b529e47\" class=\"sk-toggleable__label sk-toggleable__label-arrow\">MinMaxScaler</label><div class=\"sk-toggleable__content\"><pre>MinMaxScaler()</pre></div></div></div></div></div></div></div></div></div></div><div class=\"sk-item\"><div class=\"sk-estimator sk-toggleable\"><input class=\"sk-toggleable__control sk-hidden--visually\" id=\"ed061780-1950-4f3d-8299-b90b47ecc9d4\" type=\"checkbox\" ><label for=\"ed061780-1950-4f3d-8299-b90b47ecc9d4\" class=\"sk-toggleable__label sk-toggleable__label-arrow\">KNeighborsRegressor</label><div class=\"sk-toggleable__content\"><pre>KNeighborsRegressor(n_jobs=-1)</pre></div></div></div></div></div></div></div></div></div></div></div></div>"
      ],
      "text/plain": [
       "GridSearchCV(cv=5,\n",
       "             estimator=Pipeline(steps=[('columntransformer',\n",
       "                                        ColumnTransformer(transformers=[('ohe '\n",
       "                                                                         'categories',\n",
       "                                                                         Pipeline(steps=[('simpleimputer',\n",
       "                                                                                          SimpleImputer(strategy='most_frequent')),\n",
       "                                                                                         ('onehotencoder',\n",
       "                                                                                          OneHotEncoder(handle_unknown='ignore',\n",
       "                                                                                                        sparse=False))]),\n",
       "                                                                         ['BldgType',\n",
       "                                                                          'GarageType',\n",
       "                                                                          'Heating',\n",
       "                                                                          'LandContour',\n",
       "                                                                          'LotConfig',\n",
       "                                                                          'MSZoning',\n",
       "                                                                          'MasVnrType',\n",
       "                                                                          'Mi...\n",
       "                                                                         'categories',\n",
       "                                                                         Pipeline(steps=[('simpleimputer',\n",
       "                                                                                          SimpleImputer()),\n",
       "                                                                                         ('minmaxscaler',\n",
       "                                                                                          MinMaxScaler())]),\n",
       "                                                                         <sklearn.compose._column_transformer.make_column_selector object at 0x7f2c14939ac0>)])),\n",
       "                                       ('kneighborsregressor',\n",
       "                                        KNeighborsRegressor(n_jobs=-1))]),\n",
       "             n_jobs=-1,\n",
       "             param_grid={'kneighborsregressor__n_neighbors': [3, 4, 5, 6, 7,\n",
       "                                                              8]},\n",
       "             scoring=make_scorer(log_loss), verbose=1)"
      ]
     },
     "execution_count": 219,
     "metadata": {},
     "output_type": "execute_result"
    }
   ],
   "source": [
    "search.fit(X_light_sorted,y)"
   ]
  },
  {
   "cell_type": "code",
   "execution_count": 220,
   "metadata": {},
   "outputs": [
    {
     "data": {
      "text/plain": [
       "{'kneighborsregressor__n_neighbors': 3}"
      ]
     },
     "execution_count": 220,
     "metadata": {},
     "output_type": "execute_result"
    }
   ],
   "source": [
    "search.best_params_"
   ]
  },
  {
   "cell_type": "code",
   "execution_count": 221,
   "metadata": {},
   "outputs": [
    {
     "data": {
      "text/plain": [
       "0.24126356454554504"
      ]
     },
     "execution_count": 221,
     "metadata": {},
     "output_type": "execute_result"
    }
   ],
   "source": [
    "search.best_score_"
   ]
  },
  {
   "cell_type": "markdown",
   "metadata": {},
   "source": [
    "### b) Statistical Feature Selection (~30min)"
   ]
  },
  {
   "cell_type": "markdown",
   "metadata": {},
   "source": [
    "Our goal is to remove the least interesting features, to limit overfitting and shorten training time.  \n",
    "\n",
    "🔥 We will make use of sklearn's [feature selection](https://scikit-learn.org/stable/modules/classes.html#module-sklearn.feature_selection) transformers directly in your pipeline!\n",
    "\n",
    "❗️ We recommend you to **try only option 1 today to start with**. Option 2 and 3 will be corrected in Recap"
   ]
  },
  {
   "cell_type": "code",
   "execution_count": null,
   "metadata": {
    "ExecuteTime": {
     "end_time": "2021-02-02T15:51:52.314746Z",
     "start_time": "2021-02-02T15:51:51.942808Z"
    }
   },
   "outputs": [],
   "source": []
  },
  {
   "cell_type": "markdown",
   "metadata": {},
   "source": [
    "- Feel free to add a `SelectPercentile` filter at the end of your `preproc` pipeline.\n",
    "- This will filter-out features that, - taken individually - least explain your target!\n",
    "- The statistical test we recommend to pass to SelectPercentile is the `mutual_info_regression`\n",
    "\n",
    "<details>\n",
    "    <summary markdown='span'>🤔 Mutual Information?</summary>\n",
    "\n",
    "- Mutual information is a *statistical* distance between two probability distributions.\n",
    "- Correlation is a *linear* distance between two random variables.\n",
    "- Mutual information is more general and measures the reduction of uncertainty in Y after observing X.\n",
    "- On the other hand, if you already know you are working with variables that are smooth (like continuous numerical variables), sometimes correlation may tell you more about them, for instance if their relationship is monotonic.\n",
    "\n",
    "See [animation](https://twitter.com/ari_seff/status/1409296508634152964)\n",
    "</details>"
   ]
  },
  {
   "cell_type": "code",
   "execution_count": null,
   "metadata": {
    "tags": [
     "challengify"
    ]
   },
   "outputs": [],
   "source": []
  },
  {
   "cell_type": "markdown",
   "metadata": {},
   "source": [
    "#### (option 2) <font color=green>Multivariate</font> feature selection based their combined relationship with target `y`"
   ]
  },
  {
   "cell_type": "markdown",
   "metadata": {},
   "source": [
    "🤔 We want to remove features that, when in combination with all the others, do not really help predict our target.\n",
    "\n",
    "1️⃣ To do so, remember that we can use feature [`permutation_importance`](https://scikit-learn.org/stable/modules/permutation_importance.html) importance in combination with an estimator! It train one pipe per feature, so as to estimate which feature make our performance score *decrease* the most when shuffling it randomly. These would be our most important feature not to remove. \n",
    "\n",
    "Cherry on the cake, scikit-learn allows you to integrate this methodology directly into your `preproc` pipeline thanks to the `SequentialFeatureSelector` transformer: This will recursively filter-out least important features according to `feature_permutation` importance!  \n",
    "\n",
    "However, such process can take extremely long to train when you have many features.\n",
    "\n",
    "2️⃣ Alternatively, a faster way would be to make use of models that already outputs some measure of feature_importance when fitting them. For instance, Trees with gini-based `feature_importance_`, or Lasso regressions with L1 `coef_`. Again here, scikit-learn has coded for you a [`SelectFromModel`](https://scikit-learn.org/stable/modules/generated/sklearn.feature_selection.SelectFromModel.html) transformer to do just that"
   ]
  },
  {
   "cell_type": "code",
   "execution_count": null,
   "metadata": {
    "tags": [
     "challengify"
    ]
   },
   "outputs": [],
   "source": []
  },
  {
   "cell_type": "markdown",
   "metadata": {},
   "source": [
    "#### (option 3) <font color=green>Unsupervised</font> selection: Filter based only on the properties of `X`? "
   ]
  },
  {
   "cell_type": "markdown",
   "metadata": {},
   "source": [
    "❓ A quick-win is to remove features with the lowest variance. Think about it: a feature which only takes one value is useless (and has a variance of 0).  \n",
    "- Feel free to add a `VarianceThreshold` to the end of your pipeline"
   ]
  },
  {
   "cell_type": "code",
   "execution_count": null,
   "metadata": {
    "tags": [
     "challengify"
    ]
   },
   "outputs": [],
   "source": []
  },
  {
   "cell_type": "markdown",
   "metadata": {},
   "source": [
    "❓ Additionally, we can check for correlation between our **numerical features** only\n",
    "\n",
    "- Use [Pearson's correlation](https://en.wikipedia.org/wiki/Pearson_correlation_coefficient) combined with a heatmap to check visually whether some **numerical** features almost entirely correlated with others. \n",
    "- Use statsmodels's `VIF` to check for feature that have the highest multicolionearity"
   ]
  },
  {
   "cell_type": "code",
   "execution_count": null,
   "metadata": {
    "ExecuteTime": {
     "end_time": "2021-02-02T15:51:54.086492Z",
     "start_time": "2021-02-02T15:51:54.084287Z"
    }
   },
   "outputs": [],
   "source": []
  },
  {
   "cell_type": "markdown",
   "metadata": {},
   "source": [
    "❓ For **ordinal features**, we can use [Spearman's rank correlation](https://en.wikipedia.org/wiki/Spearman%27s_rank_correlation_coefficient) instead to check whether some **ordinally encoded** features are almost entirely \"ordered\" similarily than others. Feel free to plot a heatmap again"
   ]
  },
  {
   "cell_type": "code",
   "execution_count": null,
   "metadata": {
    "ExecuteTime": {
     "end_time": "2021-02-02T15:51:54.378627Z",
     "start_time": "2021-02-02T15:51:54.376048Z"
    }
   },
   "outputs": [],
   "source": []
  },
  {
   "cell_type": "markdown",
   "metadata": {},
   "source": [
    "❓Now, feel free to create a \"filter\" in your pipeline that removes any feature you want beyond a given (spearman + peasron) correlation threshold. You'll need a custom transformer class"
   ]
  },
  {
   "cell_type": "code",
   "execution_count": null,
   "metadata": {
    "ExecuteTime": {
     "end_time": "2021-02-02T15:51:55.855088Z",
     "start_time": "2021-02-02T15:51:55.853045Z"
    }
   },
   "outputs": [],
   "source": []
  },
  {
   "cell_type": "markdown",
   "metadata": {},
   "source": [
    "### c) Target engineering (15 min)"
   ]
  },
  {
   "cell_type": "markdown",
   "metadata": {},
   "source": [
    "❓ We are asked to minimize the RMS**L**E. Why don't we transform our target to directly predict its log?\n",
    "- Check-out the histogram of the target `y`.\n",
    "- Normally distributed variables should be easier to predict with linear or parametric models. \n",
    "- Create `y_log` and your new performance metrics\n",
    "- Don't forget at the end to take the exponential of your predictions!"
   ]
  },
  {
   "cell_type": "code",
   "execution_count": null,
   "metadata": {
    "tags": [
     "challengify"
    ]
   },
   "outputs": [],
   "source": []
  },
  {
   "cell_type": "markdown",
   "metadata": {
    "heading_collapsed": true
   },
   "source": [
    "## 2.2 Models Iteration ♻"
   ]
  },
  {
   "cell_type": "markdown",
   "metadata": {
    "hidden": true
   },
   "source": [
    "### a ) Final version of the preproc pipeline\n",
    "❓ We advise you to start with a fresh definition below so you can quickly update it as need be."
   ]
  },
  {
   "cell_type": "code",
   "execution_count": null,
   "metadata": {
    "hidden": true
   },
   "outputs": [],
   "source": [
    "# YOUR CODE HERE"
   ]
  },
  {
   "cell_type": "markdown",
   "metadata": {},
   "source": [
    "# 🏅FINAL SUBMISSION (submit at least 30 min before Recap)"
   ]
  },
  {
   "cell_type": "markdown",
   "metadata": {},
   "source": [
    "Discover your real test score by submitting on Kaggle! \n",
    "\n",
    "👉 Write down your test score on the [result spreadsheet here](https://docs.google.com/spreadsheets/d/1ZEBKwa_k1Ytb0WCOh-Nopq3eaezwBNu1SAqKXEXRguc/edit#gid=0) (pick the correct batch!)"
   ]
  },
  {
   "cell_type": "code",
   "execution_count": null,
   "metadata": {
    "tags": [
     "challengify"
    ]
   },
   "outputs": [],
   "source": []
  }
 ],
 "metadata": {
  "kernelspec": {
   "display_name": "Python 3 (ipykernel)",
   "language": "python",
   "name": "python3"
  },
  "language_info": {
   "codemirror_mode": {
    "name": "ipython",
    "version": 3
   },
   "file_extension": ".py",
   "mimetype": "text/x-python",
   "name": "python",
   "nbconvert_exporter": "python",
   "pygments_lexer": "ipython3",
   "version": "3.8.12"
  },
  "toc": {
   "base_numbering": 1,
   "nav_menu": {},
   "number_sections": true,
   "sideBar": true,
   "skip_h1_title": false,
   "title_cell": "Table of Contents",
   "title_sidebar": "Contents",
   "toc_cell": false,
   "toc_position": {
    "height": "calc(100% - 180px)",
    "left": "10px",
    "top": "150px",
    "width": "325.467px"
   },
   "toc_section_display": true,
   "toc_window_display": true
  },
  "varInspector": {
   "cols": {
    "lenName": 16,
    "lenType": 16,
    "lenVar": 40
   },
   "kernels_config": {
    "python": {
     "delete_cmd_postfix": "",
     "delete_cmd_prefix": "del ",
     "library": "var_list.py",
     "varRefreshCmd": "print(var_dic_list())"
    },
    "r": {
     "delete_cmd_postfix": ") ",
     "delete_cmd_prefix": "rm(",
     "library": "var_list.r",
     "varRefreshCmd": "cat(var_dic_list()) "
    }
   },
   "oldHeight": 327.31666600000005,
   "position": {
    "height": "219.467px",
    "left": "1202px",
    "right": "20px",
    "top": "120px",
    "width": "250px"
   },
   "types_to_exclude": [
    "module",
    "function",
    "builtin_function_or_method",
    "instance",
    "_Feature"
   ],
   "varInspector_section_display": "none",
   "window_display": false
  }
 },
 "nbformat": 4,
 "nbformat_minor": 4
}
